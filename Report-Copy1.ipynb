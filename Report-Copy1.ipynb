{
 "cells": [
  {
   "cell_type": "markdown",
   "metadata": {},
   "source": [
    "# Goal\n",
    "Predict the major programming language used for each GitHub repository using the content of readme files."
   ]
  },
  {
   "cell_type": "markdown",
   "metadata": {},
   "source": [
    "# Project Plan"
   ]
  },
  {
   "cell_type": "markdown",
   "metadata": {},
   "source": [
    "1. Acquire: Collect GitHub readme files with webscraping methods.\n",
    "> collect at least 100 repo\n",
    ">\n",
    "> python built in 'request', selenium, beautifulsoup\n",
    "\n",
    "2. Prepare: clean and process data\n",
    "> normalization (lower-case, remove any non-alpha or whitespace, etc)\n",
    ">\n",
    "> further process: tokenization, lemmatization, stemming, removal of stopwords\n",
    "\n",
    "3. Explore (overall word frequency, frequent word for specific language, etc)\n",
    "\n",
    "4. Model - classification\n",
    "\n",
    "5. Deliver: jupyter notebook report & powerpoint presentation"
   ]
  },
  {
   "cell_type": "markdown",
   "metadata": {},
   "source": [
    "# Data Dictionary"
   ]
  },
  {
   "cell_type": "markdown",
   "metadata": {},
   "source": [
    "| Column Name \t| Description                                             \t|\n",
    "|-------------\t|---------------------------------------------------------\t|\n",
    "| label       \t| the major programming language used for each repository \t|\n",
    "| cleaned     \t| processed readme content, ready for analysis            \t|"
   ]
  },
  {
   "cell_type": "markdown",
   "metadata": {},
   "source": [
    "# Import - Package & Data"
   ]
  },
  {
   "cell_type": "code",
   "execution_count": 3,
   "metadata": {},
   "outputs": [],
   "source": [
    "import unicodedata\n",
    "import re\n",
    "import json\n",
    "\n",
    "import pandas as pd\n",
    "import numpy as np\n",
    "\n",
    "# plot\n",
    "import matplotlib.pyplot as plt\n",
    "import seaborn as sns\n",
    "# matplotlib default plotting styles\n",
    "plt.rc(\"patch\", edgecolor=\"black\", force_edgecolor=True)\n",
    "plt.rc(\"axes\", grid=True)\n",
    "plt.rc(\"grid\", linestyle=\":\", linewidth=0.8, alpha=0.7)\n",
    "plt.rc(\"axes.spines\", right=False, top=False)\n",
    "plt.rc(\"figure\", figsize=(11, 8))\n",
    "plt.rc(\"font\", size=12.0)\n",
    "plt.rc(\"hist\", bins=25)\n",
    "\n",
    "# import module for data preparation\n",
    "import prepare\n",
    "\n",
    "import nltk\n",
    "from nltk.tokenize.toktok import ToktokTokenizer\n",
    "from nltk.corpus import stopwords"
   ]
  },
  {
   "cell_type": "code",
   "execution_count": 4,
   "metadata": {},
   "outputs": [
    {
     "data": {
      "text/html": [
       "<div>\n",
       "<style scoped>\n",
       "    .dataframe tbody tr th:only-of-type {\n",
       "        vertical-align: middle;\n",
       "    }\n",
       "\n",
       "    .dataframe tbody tr th {\n",
       "        vertical-align: top;\n",
       "    }\n",
       "\n",
       "    .dataframe thead th {\n",
       "        text-align: right;\n",
       "    }\n",
       "</style>\n",
       "<table border=\"1\" class=\"dataframe\">\n",
       "  <thead>\n",
       "    <tr style=\"text-align: right;\">\n",
       "      <th></th>\n",
       "      <th>Unnamed: 0</th>\n",
       "      <th>index</th>\n",
       "      <th>language</th>\n",
       "      <th>link</th>\n",
       "      <th>readme</th>\n",
       "    </tr>\n",
       "  </thead>\n",
       "  <tbody>\n",
       "    <tr>\n",
       "      <th>0</th>\n",
       "      <td>0</td>\n",
       "      <td>0.0</td>\n",
       "      <td>JavaScript</td>\n",
       "      <td>freeCodeCamp/freeCodeCamp</td>\n",
       "      <td>['GitHub is home to over 40 million developers...</td>\n",
       "    </tr>\n",
       "    <tr>\n",
       "      <th>1</th>\n",
       "      <td>1</td>\n",
       "      <td>1.0</td>\n",
       "      <td>Rust</td>\n",
       "      <td>996icu/996.ICU</td>\n",
       "      <td>['GitHub is home to over 40 million developers...</td>\n",
       "    </tr>\n",
       "    <tr>\n",
       "      <th>2</th>\n",
       "      <td>2</td>\n",
       "      <td>2.0</td>\n",
       "      <td>JavaScript</td>\n",
       "      <td>vuejs/vue</td>\n",
       "      <td>['GitHub is home to over 40 million developers...</td>\n",
       "    </tr>\n",
       "    <tr>\n",
       "      <th>3</th>\n",
       "      <td>3</td>\n",
       "      <td>3.0</td>\n",
       "      <td>JavaScript</td>\n",
       "      <td>facebook/react</td>\n",
       "      <td>['GitHub is home to over 40 million developers...</td>\n",
       "    </tr>\n",
       "    <tr>\n",
       "      <th>4</th>\n",
       "      <td>4</td>\n",
       "      <td>4.0</td>\n",
       "      <td>C++</td>\n",
       "      <td>tensorflow/tensorflow</td>\n",
       "      <td>['GitHub is home to over 40 million developers...</td>\n",
       "    </tr>\n",
       "  </tbody>\n",
       "</table>\n",
       "</div>"
      ],
      "text/plain": [
       "   Unnamed: 0  index    language                       link  \\\n",
       "0           0    0.0  JavaScript  freeCodeCamp/freeCodeCamp   \n",
       "1           1    1.0        Rust             996icu/996.ICU   \n",
       "2           2    2.0  JavaScript                  vuejs/vue   \n",
       "3           3    3.0  JavaScript             facebook/react   \n",
       "4           4    4.0         C++      tensorflow/tensorflow   \n",
       "\n",
       "                                              readme  \n",
       "0  ['GitHub is home to over 40 million developers...  \n",
       "1  ['GitHub is home to over 40 million developers...  \n",
       "2  ['GitHub is home to over 40 million developers...  \n",
       "3  ['GitHub is home to over 40 million developers...  \n",
       "4  ['GitHub is home to over 40 million developers...  "
      ]
     },
     "execution_count": 4,
     "metadata": {},
     "output_type": "execute_result"
    }
   ],
   "source": [
    "# bring in the pre-saved GitHub webscrape data \n",
    "df = pd.read_csv('GitHub_data.csv')\n",
    "df.head()"
   ]
  },
  {
   "cell_type": "code",
   "execution_count": 67,
   "metadata": {},
   "outputs": [
    {
     "data": {
      "text/plain": [
       "(406, 5)"
      ]
     },
     "execution_count": 67,
     "metadata": {},
     "output_type": "execute_result"
    }
   ],
   "source": [
    "# peek data shape\n",
    "df.shape"
   ]
  },
  {
   "cell_type": "code",
   "execution_count": 68,
   "metadata": {},
   "outputs": [
    {
     "name": "stdout",
     "output_type": "stream",
     "text": [
      "<class 'pandas.core.frame.DataFrame'>\n",
      "RangeIndex: 406 entries, 0 to 405\n",
      "Data columns (total 5 columns):\n",
      "Unnamed: 0    406 non-null int64\n",
      "index         295 non-null float64\n",
      "language      406 non-null object\n",
      "link          406 non-null object\n",
      "readme        406 non-null object\n",
      "dtypes: float64(1), int64(1), object(3)\n",
      "memory usage: 15.9+ KB\n"
     ]
    }
   ],
   "source": [
    "df.info()"
   ]
  },
  {
   "cell_type": "markdown",
   "metadata": {},
   "source": [
    "# Data preparation"
   ]
  },
  {
   "cell_type": "code",
   "execution_count": 5,
   "metadata": {},
   "outputs": [],
   "source": [
    "# prepare data\n",
    "# change col name\n",
    "# normalize, stem, lemma, remove stopwords\n",
    "df = prepare.prep_target(df, 'target')"
   ]
  },
  {
   "cell_type": "code",
   "execution_count": 5,
   "metadata": {},
   "outputs": [
    {
     "data": {
      "text/html": [
       "<div>\n",
       "<style scoped>\n",
       "    .dataframe tbody tr th:only-of-type {\n",
       "        vertical-align: middle;\n",
       "    }\n",
       "\n",
       "    .dataframe tbody tr th {\n",
       "        vertical-align: top;\n",
       "    }\n",
       "\n",
       "    .dataframe thead th {\n",
       "        text-align: right;\n",
       "    }\n",
       "</style>\n",
       "<table border=\"1\" class=\"dataframe\">\n",
       "  <thead>\n",
       "    <tr style=\"text-align: right;\">\n",
       "      <th></th>\n",
       "      <th>label</th>\n",
       "      <th>target</th>\n",
       "      <th>original</th>\n",
       "      <th>normalized</th>\n",
       "      <th>stemmed</th>\n",
       "      <th>lemmatized</th>\n",
       "      <th>cleaned</th>\n",
       "    </tr>\n",
       "  </thead>\n",
       "  <tbody>\n",
       "    <tr>\n",
       "      <th>0</th>\n",
       "      <td>JavaScript</td>\n",
       "      <td>['', '', '\\n\\n\\n', 'freeCodeCamp.org is a frie...</td>\n",
       "      <td>['', '', '\\n\\n\\n', 'freeCodeCamp.org is a frie...</td>\n",
       "      <td>freecodecamp org   friendly community where yo...</td>\n",
       "      <td>freecodecamp org friendli commun where you can...</td>\n",
       "      <td>freecodecamp org friendly community where you ...</td>\n",
       "      <td>freecodecamp org friendly community learn code...</td>\n",
       "    </tr>\n",
       "    <tr>\n",
       "      <th>1</th>\n",
       "      <td>Rust</td>\n",
       "      <td>['', 'Please note that there exists NO other o...</td>\n",
       "      <td>['', 'Please note that there exists NO other o...</td>\n",
       "      <td>please note that there exists  other official ...</td>\n",
       "      <td>pleas note that there exist other offici accou...</td>\n",
       "      <td>please note that there exists other official a...</td>\n",
       "      <td>please note exists official account app mercha...</td>\n",
       "    </tr>\n",
       "    <tr>\n",
       "      <th>2</th>\n",
       "      <td>JavaScript</td>\n",
       "      <td>['', '', '\\n\\n\\n\\n\\n\\n\\n\\n\\n', \"Vue.js is an M...</td>\n",
       "      <td>['', '', '\\n\\n\\n\\n\\n\\n\\n\\n\\n', \"Vue.js is an M...</td>\n",
       "      <td>vue    mit licensed open source project     in...</td>\n",
       "      <td>vue mit licens open sourc project independ pro...</td>\n",
       "      <td>vue mit licensed open source project independe...</td>\n",
       "      <td>vue mit licensed open source project independe...</td>\n",
       "    </tr>\n",
       "    <tr>\n",
       "      <th>3</th>\n",
       "      <td>JavaScript</td>\n",
       "      <td>['', 'React is a JavaScript library for buildi...</td>\n",
       "      <td>['', 'React is a JavaScript library for buildi...</td>\n",
       "      <td>react   javascript library for building user i...</td>\n",
       "      <td>react javascript librari for build user interf...</td>\n",
       "      <td>react javascript library for building user int...</td>\n",
       "      <td>react javascript library building user interfa...</td>\n",
       "    </tr>\n",
       "    <tr>\n",
       "      <th>4</th>\n",
       "      <td>C++</td>\n",
       "      <td>['', 'TensorFlow is an end-to-end open source ...</td>\n",
       "      <td>['', 'TensorFlow is an end-to-end open source ...</td>\n",
       "      <td>tensorflow   end  end open source platform nfo...</td>\n",
       "      <td>tensorflow end end open sourc platform nfor ma...</td>\n",
       "      <td>tensorflow end end open source platform nfor m...</td>\n",
       "      <td>tensorflow end end open source platform nfor m...</td>\n",
       "    </tr>\n",
       "  </tbody>\n",
       "</table>\n",
       "</div>"
      ],
      "text/plain": [
       "        label                                             target  \\\n",
       "0  JavaScript  ['', '', '\\n\\n\\n', 'freeCodeCamp.org is a frie...   \n",
       "1        Rust  ['', 'Please note that there exists NO other o...   \n",
       "2  JavaScript  ['', '', '\\n\\n\\n\\n\\n\\n\\n\\n\\n', \"Vue.js is an M...   \n",
       "3  JavaScript  ['', 'React is a JavaScript library for buildi...   \n",
       "4         C++  ['', 'TensorFlow is an end-to-end open source ...   \n",
       "\n",
       "                                            original  \\\n",
       "0  ['', '', '\\n\\n\\n', 'freeCodeCamp.org is a frie...   \n",
       "1  ['', 'Please note that there exists NO other o...   \n",
       "2  ['', '', '\\n\\n\\n\\n\\n\\n\\n\\n\\n', \"Vue.js is an M...   \n",
       "3  ['', 'React is a JavaScript library for buildi...   \n",
       "4  ['', 'TensorFlow is an end-to-end open source ...   \n",
       "\n",
       "                                          normalized  \\\n",
       "0  freecodecamp org   friendly community where yo...   \n",
       "1  please note that there exists  other official ...   \n",
       "2  vue    mit licensed open source project     in...   \n",
       "3  react   javascript library for building user i...   \n",
       "4  tensorflow   end  end open source platform nfo...   \n",
       "\n",
       "                                             stemmed  \\\n",
       "0  freecodecamp org friendli commun where you can...   \n",
       "1  pleas note that there exist other offici accou...   \n",
       "2  vue mit licens open sourc project independ pro...   \n",
       "3  react javascript librari for build user interf...   \n",
       "4  tensorflow end end open sourc platform nfor ma...   \n",
       "\n",
       "                                          lemmatized  \\\n",
       "0  freecodecamp org friendly community where you ...   \n",
       "1  please note that there exists other official a...   \n",
       "2  vue mit licensed open source project independe...   \n",
       "3  react javascript library for building user int...   \n",
       "4  tensorflow end end open source platform nfor m...   \n",
       "\n",
       "                                             cleaned  \n",
       "0  freecodecamp org friendly community learn code...  \n",
       "1  please note exists official account app mercha...  \n",
       "2  vue mit licensed open source project independe...  \n",
       "3  react javascript library building user interfa...  \n",
       "4  tensorflow end end open source platform nfor m...  "
      ]
     },
     "execution_count": 5,
     "metadata": {},
     "output_type": "execute_result"
    }
   ],
   "source": [
    "# peek the cleaned dataframe containing result from each step\n",
    "df.head()"
   ]
  },
  {
   "cell_type": "code",
   "execution_count": 6,
   "metadata": {},
   "outputs": [],
   "source": [
    "# seubset the data for following analysis\n",
    "df = df[['label', 'cleaned']]"
   ]
  },
  {
   "cell_type": "markdown",
   "metadata": {},
   "source": [
    "# Exploration"
   ]
  },
  {
   "cell_type": "markdown",
   "metadata": {},
   "source": [
    "<div class=\"alert alert-block alert-warning\">\n",
    "<b>Takeaway</b>\n",
    "\n",
    "- Most of the repo collected used JavaScript as the major language\n",
    "\n",
    "- React is the most frequent word appeared in the repo using JavaScript as the major programing language.  \n",
    "> React is also a JavaScript library for building user interfaces.\n",
    "\n",
    "- Python is the the most frequent word appeared in the repo using Python as the major programing language\n",
    "    \n",
    "</div>"
   ]
  },
  {
   "cell_type": "code",
   "execution_count": 7,
   "metadata": {},
   "outputs": [
    {
     "data": {
      "text/html": [
       "<div>\n",
       "<style scoped>\n",
       "    .dataframe tbody tr th:only-of-type {\n",
       "        vertical-align: middle;\n",
       "    }\n",
       "\n",
       "    .dataframe tbody tr th {\n",
       "        vertical-align: top;\n",
       "    }\n",
       "\n",
       "    .dataframe thead th {\n",
       "        text-align: right;\n",
       "    }\n",
       "</style>\n",
       "<table border=\"1\" class=\"dataframe\">\n",
       "  <thead>\n",
       "    <tr style=\"text-align: right;\">\n",
       "      <th></th>\n",
       "      <th>n</th>\n",
       "      <th>percent</th>\n",
       "    </tr>\n",
       "  </thead>\n",
       "  <tbody>\n",
       "    <tr>\n",
       "      <th>JavaScript</th>\n",
       "      <td>136</td>\n",
       "      <td>0.334975</td>\n",
       "    </tr>\n",
       "    <tr>\n",
       "      <th>Python</th>\n",
       "      <td>56</td>\n",
       "      <td>0.137931</td>\n",
       "    </tr>\n",
       "    <tr>\n",
       "      <th>Java</th>\n",
       "      <td>32</td>\n",
       "      <td>0.078818</td>\n",
       "    </tr>\n",
       "    <tr>\n",
       "      <th>C++</th>\n",
       "      <td>26</td>\n",
       "      <td>0.064039</td>\n",
       "    </tr>\n",
       "    <tr>\n",
       "      <th>Go</th>\n",
       "      <td>24</td>\n",
       "      <td>0.059113</td>\n",
       "    </tr>\n",
       "    <tr>\n",
       "      <th>TypeScript</th>\n",
       "      <td>16</td>\n",
       "      <td>0.039409</td>\n",
       "    </tr>\n",
       "    <tr>\n",
       "      <th>HTML</th>\n",
       "      <td>13</td>\n",
       "      <td>0.032020</td>\n",
       "    </tr>\n",
       "    <tr>\n",
       "      <th>Shell</th>\n",
       "      <td>12</td>\n",
       "      <td>0.029557</td>\n",
       "    </tr>\n",
       "    <tr>\n",
       "      <th>Ruby</th>\n",
       "      <td>11</td>\n",
       "      <td>0.027094</td>\n",
       "    </tr>\n",
       "    <tr>\n",
       "      <th>Objective-C</th>\n",
       "      <td>9</td>\n",
       "      <td>0.022167</td>\n",
       "    </tr>\n",
       "    <tr>\n",
       "      <th>C</th>\n",
       "      <td>9</td>\n",
       "      <td>0.022167</td>\n",
       "    </tr>\n",
       "    <tr>\n",
       "      <th>Swift</th>\n",
       "      <td>9</td>\n",
       "      <td>0.022167</td>\n",
       "    </tr>\n",
       "    <tr>\n",
       "      <th>Kotlin</th>\n",
       "      <td>8</td>\n",
       "      <td>0.019704</td>\n",
       "    </tr>\n",
       "    <tr>\n",
       "      <th>CSS</th>\n",
       "      <td>8</td>\n",
       "      <td>0.019704</td>\n",
       "    </tr>\n",
       "    <tr>\n",
       "      <th>PHP</th>\n",
       "      <td>7</td>\n",
       "      <td>0.017241</td>\n",
       "    </tr>\n",
       "    <tr>\n",
       "      <th>Vue</th>\n",
       "      <td>6</td>\n",
       "      <td>0.014778</td>\n",
       "    </tr>\n",
       "    <tr>\n",
       "      <th>Jupyter Notebook</th>\n",
       "      <td>5</td>\n",
       "      <td>0.012315</td>\n",
       "    </tr>\n",
       "    <tr>\n",
       "      <th>Rust</th>\n",
       "      <td>5</td>\n",
       "      <td>0.012315</td>\n",
       "    </tr>\n",
       "    <tr>\n",
       "      <th>TeX</th>\n",
       "      <td>3</td>\n",
       "      <td>0.007389</td>\n",
       "    </tr>\n",
       "    <tr>\n",
       "      <th>C#</th>\n",
       "      <td>2</td>\n",
       "      <td>0.004926</td>\n",
       "    </tr>\n",
       "    <tr>\n",
       "      <th>Clojure</th>\n",
       "      <td>1</td>\n",
       "      <td>0.002463</td>\n",
       "    </tr>\n",
       "    <tr>\n",
       "      <th>Lua</th>\n",
       "      <td>1</td>\n",
       "      <td>0.002463</td>\n",
       "    </tr>\n",
       "    <tr>\n",
       "      <th>OCaml</th>\n",
       "      <td>1</td>\n",
       "      <td>0.002463</td>\n",
       "    </tr>\n",
       "    <tr>\n",
       "      <th>CoffeeScript</th>\n",
       "      <td>1</td>\n",
       "      <td>0.002463</td>\n",
       "    </tr>\n",
       "    <tr>\n",
       "      <th>Assembly</th>\n",
       "      <td>1</td>\n",
       "      <td>0.002463</td>\n",
       "    </tr>\n",
       "    <tr>\n",
       "      <th>Vim script</th>\n",
       "      <td>1</td>\n",
       "      <td>0.002463</td>\n",
       "    </tr>\n",
       "    <tr>\n",
       "      <th>Dockerfile</th>\n",
       "      <td>1</td>\n",
       "      <td>0.002463</td>\n",
       "    </tr>\n",
       "    <tr>\n",
       "      <th>Standard ML</th>\n",
       "      <td>1</td>\n",
       "      <td>0.002463</td>\n",
       "    </tr>\n",
       "    <tr>\n",
       "      <th>Dart</th>\n",
       "      <td>1</td>\n",
       "      <td>0.002463</td>\n",
       "    </tr>\n",
       "  </tbody>\n",
       "</table>\n",
       "</div>"
      ],
      "text/plain": [
       "                    n   percent\n",
       "JavaScript        136  0.334975\n",
       "Python             56  0.137931\n",
       "Java               32  0.078818\n",
       "C++                26  0.064039\n",
       "Go                 24  0.059113\n",
       "TypeScript         16  0.039409\n",
       "HTML               13  0.032020\n",
       "Shell              12  0.029557\n",
       "Ruby               11  0.027094\n",
       "Objective-C         9  0.022167\n",
       "C                   9  0.022167\n",
       "Swift               9  0.022167\n",
       "Kotlin              8  0.019704\n",
       "CSS                 8  0.019704\n",
       "PHP                 7  0.017241\n",
       "Vue                 6  0.014778\n",
       "Jupyter Notebook    5  0.012315\n",
       "Rust                5  0.012315\n",
       "TeX                 3  0.007389\n",
       "C#                  2  0.004926\n",
       "Clojure             1  0.002463\n",
       "Lua                 1  0.002463\n",
       "OCaml               1  0.002463\n",
       "CoffeeScript        1  0.002463\n",
       "Assembly            1  0.002463\n",
       "Vim script          1  0.002463\n",
       "Dockerfile          1  0.002463\n",
       "Standard ML         1  0.002463\n",
       "Dart                1  0.002463"
      ]
     },
     "execution_count": 7,
     "metadata": {},
     "output_type": "execute_result"
    }
   ],
   "source": [
    "pd.concat(\n",
    "[df.label.value_counts(), df.label.value_counts(normalize=True)], axis=1\n",
    ").set_axis([\"n\", \"percent\"], axis=1, inplace=False)"
   ]
  },
  {
   "cell_type": "code",
   "execution_count": 32,
   "metadata": {},
   "outputs": [
    {
     "data": {
      "text/html": [
       "<div>\n",
       "<style scoped>\n",
       "    .dataframe tbody tr th:only-of-type {\n",
       "        vertical-align: middle;\n",
       "    }\n",
       "\n",
       "    .dataframe tbody tr th {\n",
       "        vertical-align: top;\n",
       "    }\n",
       "\n",
       "    .dataframe thead th {\n",
       "        text-align: right;\n",
       "    }\n",
       "</style>\n",
       "<table border=\"1\" class=\"dataframe\">\n",
       "  <thead>\n",
       "    <tr style=\"text-align: right;\">\n",
       "      <th></th>\n",
       "      <th>label</th>\n",
       "      <th>cleaned</th>\n",
       "      <th>tokens</th>\n",
       "    </tr>\n",
       "  </thead>\n",
       "  <tbody>\n",
       "    <tr>\n",
       "      <th>0</th>\n",
       "      <td>JavaScript</td>\n",
       "      <td>freecodecamp org friendly community learn code...</td>\n",
       "      <td>[freecodecamp, org, friendly, community, learn...</td>\n",
       "    </tr>\n",
       "    <tr>\n",
       "      <th>1</th>\n",
       "      <td>Rust</td>\n",
       "      <td>please note exists official account app mercha...</td>\n",
       "      <td>[please, note, exists, official, account, app,...</td>\n",
       "    </tr>\n",
       "    <tr>\n",
       "      <th>2</th>\n",
       "      <td>JavaScript</td>\n",
       "      <td>vue mit licensed open source project independe...</td>\n",
       "      <td>[vue, mit, licensed, open, source, project, in...</td>\n",
       "    </tr>\n",
       "    <tr>\n",
       "      <th>3</th>\n",
       "      <td>JavaScript</td>\n",
       "      <td>react javascript library building user interfa...</td>\n",
       "      <td>[react, javascript, library, building, user, i...</td>\n",
       "    </tr>\n",
       "    <tr>\n",
       "      <th>4</th>\n",
       "      <td>C++</td>\n",
       "      <td>tensorflow end end open source platform nfor m...</td>\n",
       "      <td>[tensorflow, end, end, open, source, platform,...</td>\n",
       "    </tr>\n",
       "  </tbody>\n",
       "</table>\n",
       "</div>"
      ],
      "text/plain": [
       "        label                                            cleaned  \\\n",
       "0  JavaScript  freecodecamp org friendly community learn code...   \n",
       "1        Rust  please note exists official account app mercha...   \n",
       "2  JavaScript  vue mit licensed open source project independe...   \n",
       "3  JavaScript  react javascript library building user interfa...   \n",
       "4         C++  tensorflow end end open source platform nfor m...   \n",
       "\n",
       "                                              tokens  \n",
       "0  [freecodecamp, org, friendly, community, learn...  \n",
       "1  [please, note, exists, official, account, app,...  \n",
       "2  [vue, mit, licensed, open, source, project, in...  \n",
       "3  [react, javascript, library, building, user, i...  \n",
       "4  [tensorflow, end, end, open, source, platform,...  "
      ]
     },
     "execution_count": 32,
     "metadata": {},
     "output_type": "execute_result"
    }
   ],
   "source": [
    "from nltk.tokenize import RegexpTokenizer\n",
    "\n",
    "tokenizer = RegexpTokenizer(r'\\w+')\n",
    "\n",
    "df[\"tokens\"] = df[\"cleaned\"].apply(tokenizer.tokenize)\n",
    "df.head()"
   ]
  },
  {
   "cell_type": "code",
   "execution_count": 47,
   "metadata": {},
   "outputs": [],
   "source": [
    "all_words = [word for tokens in df[\"tokens\"] for word in tokens]"
   ]
  },
  {
   "cell_type": "code",
   "execution_count": 48,
   "metadata": {},
   "outputs": [],
   "source": [
    "sentence_lengths = [len(tokens) for tokens in df[\"tokens\"]]"
   ]
  },
  {
   "cell_type": "code",
   "execution_count": 49,
   "metadata": {},
   "outputs": [
    {
     "name": "stdout",
     "output_type": "stream",
     "text": [
      "148006 words total, with a vocabulary size of 12383\n",
      "Max sentence length is 10595\n"
     ]
    }
   ],
   "source": [
    "VOCAB = sorted(list(set(all_words)))\n",
    "print(\"%s words total, with a vocabulary size of %s\" % (len(all_words), len(VOCAB)))\n",
    "print(\"Max sentence length is %s\" % max(sentence_lengths))"
   ]
  },
  {
   "cell_type": "markdown",
   "metadata": {},
   "source": [
    "**Note:** very skewed: short sentences, and a lot of sentences"
   ]
  },
  {
   "cell_type": "code",
   "execution_count": 12,
   "metadata": {},
   "outputs": [
    {
     "data": {
      "image/png": "[encoded data removed]",
      "text/plain": [
       "<Figure size 720x720 with 1 Axes>"
      ]
     },
     "metadata": {
      "needs_background": "light"
     },
     "output_type": "display_data"
    }
   ],
   "source": [
    "fig = plt.figure(figsize=(10, 10)) \n",
    "plt.xlabel('Sentence length')\n",
    "plt.ylabel('Number of sentences')\n",
    "plt.hist(sentence_lengths)\n",
    "plt.show()"
   ]
  },
  {
   "cell_type": "markdown",
   "metadata": {},
   "source": []
  },
  {
   "cell_type": "code",
   "execution_count": 13,
   "metadata": {},
   "outputs": [
    {
     "data": {
      "text/plain": [
       "Text(0.5, 1.0, 'Most frequently used programing languages')"
      ]
     },
     "execution_count": 13,
     "metadata": {},
     "output_type": "execute_result"
    },
    {
     "data": {
      "image/png": "[encoded data removed]",
      "text/plain": [
       "<Figure size 576x432 with 1 Axes>"
      ]
     },
     "metadata": {
      "needs_background": "light"
     },
     "output_type": "display_data"
    }
   ],
   "source": [
    "df.label.value_counts().plot.barh(figsize=(8, 6),width = .95)\n",
    "plt.title('Most frequently used programing languages')"
   ]
  },
  {
   "cell_type": "markdown",
   "metadata": {},
   "source": [
    "<div class=\"alert alert-block alert-warning\">\n",
    "<b>Takeaway - word frequency </b>\n",
    "- Frequency of individual words or 5 consecutive words are not very informative toward any specific programming language\n",
    "\n",
    "</div>"
   ]
  },
  {
   "cell_type": "code",
   "execution_count": 38,
   "metadata": {},
   "outputs": [],
   "source": [
    "def clean(text):\n",
    "    \"a simple function to prepare text data\"\n",
    "    wnl = nltk.stem.WordNetLemmatizer()\n",
    "    stopwords = nltk.corpus.stopwords.words(\"english\") + [\"r\", \"u\", \"2\", \"ltgt\"]\n",
    "    text = (\n",
    "        unicodedata.normalize(\"NFKD\", text)\n",
    "        .encode(\"ascii\", \"ignore\")\n",
    "        .decode(\"utf-8\", \"ignore\")\n",
    "        .lower()\n",
    "    )\n",
    "    words = re.sub(r\"[^\\w\\s]\", \"\", text).split()\n",
    "    return [wnl.lemmatize(word) for word in words if word not in stopwords]"
   ]
  },
  {
   "cell_type": "code",
   "execution_count": 39,
   "metadata": {},
   "outputs": [],
   "source": [
    "prep_df_cleaned = \" \".join(df.cleaned)\n",
    "explore_df_cleaned = clean(prep_df_cleaned)"
   ]
  },
  {
   "cell_type": "code",
   "execution_count": 40,
   "metadata": {},
   "outputs": [
    {
     "data": {
      "text/plain": [
       "Text(0.5, 1.0, '20 most common words in GitHub Readme.md')"
      ]
     },
     "execution_count": 40,
     "metadata": {},
     "output_type": "execute_result"
    },
    {
     "data": {
      "image/png": "[encoded data removed]",
      "text/plain": [
       "<Figure size 576x432 with 1 Axes>"
      ]
     },
     "metadata": {
      "needs_background": "light"
     },
     "output_type": "display_data"
    }
   ],
   "source": [
    "pd.Series(explore_df_cleaned).value_counts().sort_values().tail(20).plot.barh(figsize=(8, 6),width=.9, color = 'coral')\n",
    "plt.title('20 most common words in GitHub Readme.md')"
   ]
  },
  {
   "cell_type": "code",
   "execution_count": 17,
   "metadata": {},
   "outputs": [
    {
     "data": {
      "text/plain": [
       "Text(0.5, 1.0, 'Most frequently seen word combinations in Github Readme.md')"
      ]
     },
     "execution_count": 17,
     "metadata": {},
     "output_type": "execute_result"
    },
    {
     "data": {
      "image/png": "[encoded data removed]",
      "text/plain": [
       "<Figure size 576x432 with 1 Axes>"
      ]
     },
     "metadata": {
      "needs_background": "light"
     },
     "output_type": "display_data"
    }
   ],
   "source": [
    "pd.Series(nltk.ngrams(explore_df_cleaned, 5)).value_counts().head(20).plot.barh(figsize=(8, 6), width=.95, color='coral')\n",
    "plt.title('Most frequently seen word combinations in Github Readme.md')"
   ]
  },
  {
   "cell_type": "markdown",
   "metadata": {},
   "source": [
    "**Note** Programming language do not appear in readme documents."
   ]
  },
  {
   "cell_type": "code",
   "execution_count": 64,
   "metadata": {
    "scrolled": false
   },
   "outputs": [
    {
     "name": "stdout",
     "output_type": "stream",
     "text": [
      "The number of Javascript in dataset: Empty DataFrame\n",
      "Columns: [label, cleaned]\n",
      "Index: []\n",
      "The number of Python in dataset:           label                                            cleaned\n",
      "22       Python  english portugues brasil deutsch italiano pols...\n",
      "23       Python  curated list awesome python framework library ...\n",
      "31       Python  implementation learning purpose may le efficie...\n",
      "37       Python  youtube download video youtube com video platf...\n",
      "53       Python  fuck magnificent app inspired liamosaur ntweet...\n",
      "65       Python  kera high level neural network api written pyt...\n",
      "80       Python  curated list awesome machine learning framewor...\n",
      "90       Python  nthis software ha designed much joy nby kennet...\n",
      "105  JavaScript  based true nstory xxx build engineer ha left a...\n",
      "112  JavaScript  based true nstory xxx build engineer ha left a...\n",
      "130      Python  big list naughty string evolving list string h...\n",
      "131  JavaScript  todo demo provide excellent cursory glance fra...\n",
      "150  JavaScript  production process manager node application bu...\n",
      "156      Python  also read translated version file chinese kore...\n",
      "166      Python  nfaceswap tool utilizes deep learning recogniz...\n",
      "174      Python  day machine learning coding proposed siraj rav...\n",
      "193  JavaScript  rocket chat community drive everything rocket ...\n",
      "201      Python  andrew andrew python coding github star machin...\n",
      "206      Python  localstack provides easy use test mocking fram...\n",
      "222      Python  collection design pattern idiom python creatio...\n",
      "230      Python  detectron deprecated please see detectron grou...\n",
      "239      Python  andrew andrew python coding github star machin...\n",
      "250      Python  english version itchat python api itchatmp itc...\n",
      "258      Python  new may whole word masking model release sever...\n",
      "262      Python  early ycm drop support python maintain ncritic...\n",
      "263      Python  gensim python library topic modelling document...\n",
      "275        Java  region binary regionip region nip regionapi ht...\n",
      "281      Python  manim animation engine explanatory math video ...\n",
      "300      Python  spacy library advanced natural language proces...\n",
      "301      Python  github star itbert amp coconlpxlore nlucs asr ...\n",
      "328      Python  python implementation fundamental machine lear...\n",
      "333      Python  demo python adb adb pull android io pep nwangs...\n",
      "334      Python  repository implementation transfer learning sp...\n",
      "354      Python  using bert model sentence encoding service map...\n",
      "372      Python  musicbox python fzug sudo dnf install musicbox...\n",
      "379      Python  download text file pdf fork github check faq c...\n",
      "391  JavaScript  curse like library high level terminal interfa...\n",
      "399      Python  exploration using python play grand theft auto...\n"
     ]
    }
   ],
   "source": [
    "print(f\"The number of Javascript in dataset: {df[df.cleaned.str.contains('javaScript')]}\")\n",
    "print(f\"The number of Python in dataset: {df[df.cleaned.str.contains('python')]}\")"
   ]
  },
  {
   "cell_type": "markdown",
   "metadata": {},
   "source": [
    "**Question** Is there any particular wording or sentiment with particular language?\n",
    "\n",
    "\n",
    "<div class=\"alert alert-block alert-warning\">\n",
    "<b>Some particular wording or sentiment with particular language was observed </b>\n",
    "    \n",
    "- React & native is the most commonly used word in project involving JavaScrip\n",
    "    \n",
    "- React is a JavaScript library for building user interfaces, which might be a clue for our model predictions\n",
    "</div>"
   ]
  },
  {
   "cell_type": "code",
   "execution_count": 41,
   "metadata": {},
   "outputs": [],
   "source": [
    "javascrip_slice = df.copy().drop(columns = 'tokens')\n",
    "javascrip_slice = javascrip_slice[javascrip_slice.label == 'JavaScript']\n",
    "prep_java_cleaned = \" \".join(javascrip_slice.cleaned)\n",
    "explore_java_cleaned = clean(prep_java_cleaned)"
   ]
  },
  {
   "cell_type": "code",
   "execution_count": 21,
   "metadata": {
    "scrolled": false
   },
   "outputs": [
    {
     "data": {
      "text/plain": [
       "Text(0.5, 1.0, '20 most common words in GitHub Readme.md using JavaScript as the major language')"
      ]
     },
     "execution_count": 21,
     "metadata": {},
     "output_type": "execute_result"
    },
    {
     "data": {
      "image/png": "[encoded data removed]",
      "text/plain": [
       "<Figure size 576x432 with 1 Axes>"
      ]
     },
     "metadata": {
      "needs_background": "light"
     },
     "output_type": "display_data"
    }
   ],
   "source": [
    "# teal for JavaScript\n",
    "pd.Series(explore_java_cleaned).value_counts().sort_values().tail(20).plot.barh(figsize=(8, 6),width=.9, color = 'teal')\n",
    "plt.title('20 most common words in GitHub Readme.md using JavaScript as the major language')"
   ]
  },
  {
   "cell_type": "code",
   "execution_count": 43,
   "metadata": {},
   "outputs": [
    {
     "data": {
      "text/plain": [
       "(-0.5, 2399.5, 1599.5, -0.5)"
      ]
     },
     "execution_count": 43,
     "metadata": {},
     "output_type": "execute_result"
    },
    {
     "data": {
      "image/png": "[encoded data removed]",
      "text/plain": [
       "<Figure size 576x432 with 1 Axes>"
      ]
     },
     "metadata": {
      "needs_background": "light"
     },
     "output_type": "display_data"
    }
   ],
   "source": [
    "from wordcloud import WordCloud \n",
    "\n",
    "# wordcloud create image object\n",
    "# random_state fix the color so it won't change everytime we rerun the code\n",
    "plt.figure(figsize=(8,6))\n",
    "# input for wordcloud = full content in string\n",
    "img = WordCloud(background_color=\"white\", height=800, width=1200, random_state = 123).generate(prep_java_cleaned)\n",
    "\n",
    "# if no plt.imshow(img), the image won't showup\n",
    "plt.imshow(img)\n",
    "plt.title('Most frequently used word in news title')\n",
    "\n",
    "# if no axis(\"off\"), there will be auto created gridline underneath the cloud\n",
    "plt.axis(\"off\")"
   ]
  },
  {
   "cell_type": "markdown",
   "metadata": {},
   "source": [
    "<div class=\"alert alert-block alert-warning\">\n",
    "<b>Some particular wording or sentiment with particular language was observed </b>\n",
    "    \n",
    "- Found freqeunt word **python** (instead of **P**ython) & file in our variable, which will assit the model prediction!\n",
    "</div>"
   ]
  },
  {
   "cell_type": "code",
   "execution_count": 44,
   "metadata": {},
   "outputs": [],
   "source": [
    "python_slice = df.copy().drop(columns = 'tokens')\n",
    "python_slice = python_slice[python_slice.label == 'Python']\n",
    "prep_python_cleaned = \" \".join(python_slice.cleaned)\n",
    "explore_python_cleaned = clean(prep_python_cleaned)"
   ]
  },
  {
   "cell_type": "code",
   "execution_count": 23,
   "metadata": {},
   "outputs": [
    {
     "data": {
      "text/plain": [
       "Text(0.5, 1.0, '20 most common words in GitHub Readme.md using Python as the major language')"
      ]
     },
     "execution_count": 23,
     "metadata": {},
     "output_type": "execute_result"
    },
    {
     "data": {
      "image/png": "[encoded data removed]",
      "text/plain": [
       "<Figure size 576x432 with 1 Axes>"
      ]
     },
     "metadata": {
      "needs_background": "light"
     },
     "output_type": "display_data"
    }
   ],
   "source": [
    "# palevioletred for Python\n",
    "pd.Series(explore_python_cleaned).value_counts().sort_values().tail(20).plot.barh(figsize=(8, 6),width=.9, color = 'palevioletred')\n",
    "plt.title('20 most common words in GitHub Readme.md using Python as the major language')"
   ]
  },
  {
   "cell_type": "code",
   "execution_count": 45,
   "metadata": {},
   "outputs": [
    {
     "data": {
      "text/plain": [
       "(-0.5, 1199.5, 799.5, -0.5)"
      ]
     },
     "execution_count": 45,
     "metadata": {},
     "output_type": "execute_result"
    },
    {
     "data": {
      "image/png": "[encoded data removed]",
      "text/plain": [
       "<Figure size 576x432 with 1 Axes>"
      ]
     },
     "metadata": {
      "needs_background": "light"
     },
     "output_type": "display_data"
    }
   ],
   "source": [
    "plt.figure(figsize=(8,6))\n",
    "\n",
    "img = WordCloud(background_color=\"white\", height=800, width=1200, random_state = 123).generate(prep_python_cleaned)\n",
    "\n",
    "# if no plt.imshow(img), the image won't showup\n",
    "plt.imshow(img)\n",
    "plt.title('Most frequently used word in news title')\n",
    "\n",
    "# if no axis(\"off\"), there will be auto created gridline underneath the cloud\n",
    "plt.axis(\"off\")"
   ]
  },
  {
   "cell_type": "markdown",
   "metadata": {},
   "source": [
    "# Model\n",
    "<div class=\"alert alert-block alert-warning\">\n",
    "    \n",
    "Multiple modeling methods were utilized and here we document the 3 best performing models\n",
    "\n",
    "- Feature extraction with TF-IDF (term frequency-inverse document frequency) or TF \n",
    "- Logistic regression - begin with the simplest model\n",
    "- KNN\n",
    "- Decision tree classifier\n",
    "\n",
    "**Conclusion**\n",
    "- Due to the larger sample size, the prediction for JavaScript was always the easiest regardless of the ML algorithm choice.\n",
    "\n",
    "- KNN best predicted Python.\n",
    "\n",
    "- Decision tree, although presented some overfitting, but was an overall more well rounded prediction model across the prediction of all three languages.\n",
    "</div>"
   ]
  },
  {
   "cell_type": "code",
   "execution_count": 6,
   "metadata": {},
   "outputs": [],
   "source": [
    "from sklearn.model_selection import train_test_split\n",
    "\n",
    "from sklearn.linear_model import LogisticRegression\n",
    "from sklearn.metrics import classification_report, accuracy_score\n",
    "from sklearn.feature_extraction.text import TfidfVectorizer\n",
    "from sklearn.metrics import plot_confusion_matrix\n",
    "#from pandas_ml import ConfusionMatrix\n",
    "\n",
    "#import wget\n",
    "from sklearn.metrics import precision_score\n",
    "from sklearn.metrics import recall_score\n",
    "from sklearn.metrics import f1_score\n",
    "from sklearn.model_selection import GridSearchCV\n",
    "\n",
    "random_state = 123\n",
    "df = df[['label','cleaned']]\n",
    "df = df.groupby('label').filter(lambda x : len(x)>30)"
   ]
  },
  {
   "cell_type": "code",
   "execution_count": 6,
   "metadata": {},
   "outputs": [
    {
     "data": {
      "text/plain": [
       "JavaScript    136\n",
       "Python         56\n",
       "Java           32\n",
       "Name: label, dtype: int64"
      ]
     },
     "execution_count": 6,
     "metadata": {},
     "output_type": "execute_result"
    }
   ],
   "source": [
    "df.label.value_counts()"
   ]
  },
  {
   "cell_type": "markdown",
   "metadata": {},
   "source": [
    "## Feature Extraction with TF-IDF"
   ]
  },
  {
   "cell_type": "code",
   "execution_count": 7,
   "metadata": {},
   "outputs": [],
   "source": [
    "tfidf = TfidfVectorizer()\n",
    "X = tfidf.fit_transform(df.cleaned)\n",
    "y = df.label"
   ]
  },
  {
   "cell_type": "code",
   "execution_count": 8,
   "metadata": {},
   "outputs": [],
   "source": [
    "X_train, X_test, y_train, y_test = train_test_split(X, y, stratify=y, test_size=.2)"
   ]
  },
  {
   "cell_type": "code",
   "execution_count": 9,
   "metadata": {},
   "outputs": [],
   "source": [
    "train = pd.DataFrame(dict(actual=y_train))\n",
    "test = pd.DataFrame(dict(actual=y_test))"
   ]
  },
  {
   "cell_type": "markdown",
   "metadata": {},
   "source": [
    "### Logistic regression"
   ]
  },
  {
   "cell_type": "code",
   "execution_count": 10,
   "metadata": {},
   "outputs": [],
   "source": [
    "lm = LogisticRegression(solver = 'liblinear', C = 0.5).fit(X_train, y_train)"
   ]
  },
  {
   "cell_type": "code",
   "execution_count": 11,
   "metadata": {},
   "outputs": [],
   "source": [
    "train['predicted'] = lm.predict(X_train)\n",
    "test['predicted'] = lm.predict(X_test)"
   ]
  },
  {
   "cell_type": "code",
   "execution_count": 12,
   "metadata": {},
   "outputs": [
    {
     "name": "stdout",
     "output_type": "stream",
     "text": [
      "Accuracy: 63.69%\n",
      "---\n",
      "Confusion Matrix for the train set\n"
     ]
    },
    {
     "data": {
      "text/html": [
       "<div>\n",
       "<style scoped>\n",
       "    .dataframe tbody tr th:only-of-type {\n",
       "        vertical-align: middle;\n",
       "    }\n",
       "\n",
       "    .dataframe tbody tr th {\n",
       "        vertical-align: top;\n",
       "    }\n",
       "\n",
       "    .dataframe thead th {\n",
       "        text-align: right;\n",
       "    }\n",
       "</style>\n",
       "<table border=\"1\" class=\"dataframe\">\n",
       "  <thead>\n",
       "    <tr style=\"text-align: right;\">\n",
       "      <th>actual</th>\n",
       "      <th>Java</th>\n",
       "      <th>JavaScript</th>\n",
       "      <th>Python</th>\n",
       "    </tr>\n",
       "    <tr>\n",
       "      <th>predicted</th>\n",
       "      <th></th>\n",
       "      <th></th>\n",
       "      <th></th>\n",
       "    </tr>\n",
       "  </thead>\n",
       "  <tbody>\n",
       "    <tr>\n",
       "      <th>JavaScript</th>\n",
       "      <td>22</td>\n",
       "      <td>101</td>\n",
       "      <td>32</td>\n",
       "    </tr>\n",
       "    <tr>\n",
       "      <th>Python</th>\n",
       "      <td>3</td>\n",
       "      <td>8</td>\n",
       "      <td>13</td>\n",
       "    </tr>\n",
       "  </tbody>\n",
       "</table>\n",
       "</div>"
      ],
      "text/plain": [
       "actual      Java  JavaScript  Python\n",
       "predicted                           \n",
       "JavaScript    22         101      32\n",
       "Python         3           8      13"
      ]
     },
     "execution_count": 12,
     "metadata": {},
     "output_type": "execute_result"
    }
   ],
   "source": [
    "print('Accuracy: {:.2%}'.format(accuracy_score(train.actual, train.predicted)))\n",
    "print('---')\n",
    "print('Confusion Matrix for the train set')\n",
    "pd.crosstab(train.predicted, train.actual)"
   ]
  },
  {
   "cell_type": "code",
   "execution_count": 61,
   "metadata": {},
   "outputs": [
    {
     "name": "stdout",
     "output_type": "stream",
     "text": [
      "Confusion Matrix for the train set\n"
     ]
    },
    {
     "data": {
      "text/html": [
       "<div>\n",
       "<style scoped>\n",
       "    .dataframe tbody tr th:only-of-type {\n",
       "        vertical-align: middle;\n",
       "    }\n",
       "\n",
       "    .dataframe tbody tr th {\n",
       "        vertical-align: top;\n",
       "    }\n",
       "\n",
       "    .dataframe thead th {\n",
       "        text-align: right;\n",
       "    }\n",
       "</style>\n",
       "<table border=\"1\" class=\"dataframe\">\n",
       "  <thead>\n",
       "    <tr style=\"text-align: right;\">\n",
       "      <th></th>\n",
       "      <th>Java</th>\n",
       "      <th>JavaScript</th>\n",
       "      <th>Python</th>\n",
       "      <th>accuracy</th>\n",
       "      <th>macro avg</th>\n",
       "      <th>weighted avg</th>\n",
       "    </tr>\n",
       "  </thead>\n",
       "  <tbody>\n",
       "    <tr>\n",
       "      <th>f1-score</th>\n",
       "      <td>0.0</td>\n",
       "      <td>0.76</td>\n",
       "      <td>0.33</td>\n",
       "      <td>0.63</td>\n",
       "      <td>0.37</td>\n",
       "      <td>0.71</td>\n",
       "    </tr>\n",
       "    <tr>\n",
       "      <th>precision</th>\n",
       "      <td>0.0</td>\n",
       "      <td>0.94</td>\n",
       "      <td>0.24</td>\n",
       "      <td>0.63</td>\n",
       "      <td>0.39</td>\n",
       "      <td>0.85</td>\n",
       "    </tr>\n",
       "    <tr>\n",
       "      <th>recall</th>\n",
       "      <td>0.0</td>\n",
       "      <td>0.65</td>\n",
       "      <td>0.52</td>\n",
       "      <td>0.63</td>\n",
       "      <td>0.39</td>\n",
       "      <td>0.63</td>\n",
       "    </tr>\n",
       "    <tr>\n",
       "      <th>support</th>\n",
       "      <td>0.0</td>\n",
       "      <td>158.00</td>\n",
       "      <td>21.00</td>\n",
       "      <td>0.63</td>\n",
       "      <td>179.00</td>\n",
       "      <td>179.00</td>\n",
       "    </tr>\n",
       "  </tbody>\n",
       "</table>\n",
       "</div>"
      ],
      "text/plain": [
       "           Java  JavaScript  Python  accuracy  macro avg  weighted avg\n",
       "f1-score    0.0        0.76    0.33      0.63       0.37          0.71\n",
       "precision   0.0        0.94    0.24      0.63       0.39          0.85\n",
       "recall      0.0        0.65    0.52      0.63       0.39          0.63\n",
       "support     0.0      158.00   21.00      0.63     179.00        179.00"
      ]
     },
     "execution_count": 61,
     "metadata": {},
     "output_type": "execute_result"
    }
   ],
   "source": [
    "report =classification_report(train.predicted, train.actual, output_dict=True)\n",
    "r = pd.DataFrame(report)\n",
    "print('Confusion Matrix for the train set')\n",
    "r.round(2)"
   ]
  },
  {
   "cell_type": "code",
   "execution_count": 59,
   "metadata": {},
   "outputs": [
    {
     "name": "stdout",
     "output_type": "stream",
     "text": [
      "Accuracy: 60.00%\n",
      "---\n",
      "Confusion Matrix for the test set\n"
     ]
    },
    {
     "data": {
      "text/html": [
       "<div>\n",
       "<style scoped>\n",
       "    .dataframe tbody tr th:only-of-type {\n",
       "        vertical-align: middle;\n",
       "    }\n",
       "\n",
       "    .dataframe tbody tr th {\n",
       "        vertical-align: top;\n",
       "    }\n",
       "\n",
       "    .dataframe thead th {\n",
       "        text-align: right;\n",
       "    }\n",
       "</style>\n",
       "<table border=\"1\" class=\"dataframe\">\n",
       "  <thead>\n",
       "    <tr style=\"text-align: right;\">\n",
       "      <th>actual</th>\n",
       "      <th>Java</th>\n",
       "      <th>JavaScript</th>\n",
       "      <th>Python</th>\n",
       "    </tr>\n",
       "    <tr>\n",
       "      <th>predicted</th>\n",
       "      <th></th>\n",
       "      <th></th>\n",
       "      <th></th>\n",
       "    </tr>\n",
       "  </thead>\n",
       "  <tbody>\n",
       "    <tr>\n",
       "      <th>JavaScript</th>\n",
       "      <td>6</td>\n",
       "      <td>23</td>\n",
       "      <td>7</td>\n",
       "    </tr>\n",
       "    <tr>\n",
       "      <th>Python</th>\n",
       "      <td>1</td>\n",
       "      <td>4</td>\n",
       "      <td>4</td>\n",
       "    </tr>\n",
       "  </tbody>\n",
       "</table>\n",
       "</div>"
      ],
      "text/plain": [
       "actual      Java  JavaScript  Python\n",
       "predicted                           \n",
       "JavaScript     6          23       7\n",
       "Python         1           4       4"
      ]
     },
     "execution_count": 59,
     "metadata": {},
     "output_type": "execute_result"
    }
   ],
   "source": [
    "print('Accuracy: {:.2%}'.format(accuracy_score(test.actual, test.predicted)))\n",
    "print('---')\n",
    "print('Confusion Matrix for the test set')\n",
    "pd.crosstab(test.predicted, test.actual)"
   ]
  },
  {
   "cell_type": "code",
   "execution_count": 62,
   "metadata": {},
   "outputs": [
    {
     "name": "stdout",
     "output_type": "stream",
     "text": [
      "Confusion Matrix for the test set\n"
     ]
    },
    {
     "data": {
      "text/html": [
       "<div>\n",
       "<style scoped>\n",
       "    .dataframe tbody tr th:only-of-type {\n",
       "        vertical-align: middle;\n",
       "    }\n",
       "\n",
       "    .dataframe tbody tr th {\n",
       "        vertical-align: top;\n",
       "    }\n",
       "\n",
       "    .dataframe thead th {\n",
       "        text-align: right;\n",
       "    }\n",
       "</style>\n",
       "<table border=\"1\" class=\"dataframe\">\n",
       "  <thead>\n",
       "    <tr style=\"text-align: right;\">\n",
       "      <th></th>\n",
       "      <th>Java</th>\n",
       "      <th>JavaScript</th>\n",
       "      <th>Python</th>\n",
       "      <th>accuracy</th>\n",
       "      <th>macro avg</th>\n",
       "      <th>weighted avg</th>\n",
       "    </tr>\n",
       "  </thead>\n",
       "  <tbody>\n",
       "    <tr>\n",
       "      <th>f1-score</th>\n",
       "      <td>0.0</td>\n",
       "      <td>0.73</td>\n",
       "      <td>0.40</td>\n",
       "      <td>0.6</td>\n",
       "      <td>0.38</td>\n",
       "      <td>0.54</td>\n",
       "    </tr>\n",
       "    <tr>\n",
       "      <th>precision</th>\n",
       "      <td>0.0</td>\n",
       "      <td>0.64</td>\n",
       "      <td>0.44</td>\n",
       "      <td>0.6</td>\n",
       "      <td>0.36</td>\n",
       "      <td>0.49</td>\n",
       "    </tr>\n",
       "    <tr>\n",
       "      <th>recall</th>\n",
       "      <td>0.0</td>\n",
       "      <td>0.85</td>\n",
       "      <td>0.36</td>\n",
       "      <td>0.6</td>\n",
       "      <td>0.41</td>\n",
       "      <td>0.60</td>\n",
       "    </tr>\n",
       "    <tr>\n",
       "      <th>support</th>\n",
       "      <td>7.0</td>\n",
       "      <td>27.00</td>\n",
       "      <td>11.00</td>\n",
       "      <td>0.6</td>\n",
       "      <td>45.00</td>\n",
       "      <td>45.00</td>\n",
       "    </tr>\n",
       "  </tbody>\n",
       "</table>\n",
       "</div>"
      ],
      "text/plain": [
       "           Java  JavaScript  Python  accuracy  macro avg  weighted avg\n",
       "f1-score    0.0        0.73    0.40       0.6       0.38          0.54\n",
       "precision   0.0        0.64    0.44       0.6       0.36          0.49\n",
       "recall      0.0        0.85    0.36       0.6       0.41          0.60\n",
       "support     7.0       27.00   11.00       0.6      45.00         45.00"
      ]
     },
     "execution_count": 62,
     "metadata": {},
     "output_type": "execute_result"
    }
   ],
   "source": [
    "report =classification_report(test.actual, test.predicted, output_dict=True)\n",
    "r = pd.DataFrame(report)\n",
    "print('Confusion Matrix for the test set')\n",
    "r.round(2)"
   ]
  },
  {
   "cell_type": "code",
   "execution_count": 49,
   "metadata": {
    "scrolled": false
   },
   "outputs": [
    {
     "name": "stdout",
     "output_type": "stream",
     "text": [
      "# Tuning hyper-parameters for precision\n",
      "\n",
      "Best parameters set found on development set:\n",
      "\n",
      "{'C': 1000, 'penalty': 'l2', 'solver': 'saga'}\n",
      "\n",
      "Grid scores on development set:\n",
      "\n",
      "0.448 (+/-0.365) for {'C': 1, 'penalty': 'l2', 'solver': 'newton-cg'}\n",
      "0.448 (+/-0.365) for {'C': 1, 'penalty': 'l2', 'solver': 'lbfgs'}\n",
      "0.380 (+/-0.199) for {'C': 1, 'penalty': 'l2', 'solver': 'liblinear'}\n",
      "0.448 (+/-0.365) for {'C': 1, 'penalty': 'l2', 'solver': 'sag'}\n",
      "0.516 (+/-0.481) for {'C': 1, 'penalty': 'l2', 'solver': 'saga'}\n",
      "nan (+/-nan) for {'C': 1, 'penalty': 'elasticnet', 'solver': 'newton-cg'}\n",
      "nan (+/-nan) for {'C': 1, 'penalty': 'elasticnet', 'solver': 'lbfgs'}\n",
      "nan (+/-nan) for {'C': 1, 'penalty': 'elasticnet', 'solver': 'liblinear'}\n",
      "nan (+/-nan) for {'C': 1, 'penalty': 'elasticnet', 'solver': 'sag'}\n",
      "nan (+/-nan) for {'C': 1, 'penalty': 'elasticnet', 'solver': 'saga'}\n",
      "0.808 (+/-0.062) for {'C': 1, 'penalty': 'none', 'solver': 'newton-cg'}\n",
      "0.825 (+/-0.074) for {'C': 1, 'penalty': 'none', 'solver': 'lbfgs'}\n",
      "nan (+/-nan) for {'C': 1, 'penalty': 'none', 'solver': 'liblinear'}\n",
      "0.828 (+/-0.075) for {'C': 1, 'penalty': 'none', 'solver': 'sag'}\n",
      "0.822 (+/-0.113) for {'C': 1, 'penalty': 'none', 'solver': 'saga'}\n",
      "0.804 (+/-0.067) for {'C': 10, 'penalty': 'l2', 'solver': 'newton-cg'}\n",
      "0.804 (+/-0.067) for {'C': 10, 'penalty': 'l2', 'solver': 'lbfgs'}\n",
      "0.792 (+/-0.086) for {'C': 10, 'penalty': 'l2', 'solver': 'liblinear'}\n",
      "0.804 (+/-0.067) for {'C': 10, 'penalty': 'l2', 'solver': 'sag'}\n",
      "0.806 (+/-0.070) for {'C': 10, 'penalty': 'l2', 'solver': 'saga'}\n",
      "nan (+/-nan) for {'C': 10, 'penalty': 'elasticnet', 'solver': 'newton-cg'}\n",
      "nan (+/-nan) for {'C': 10, 'penalty': 'elasticnet', 'solver': 'lbfgs'}\n",
      "nan (+/-nan) for {'C': 10, 'penalty': 'elasticnet', 'solver': 'liblinear'}\n",
      "nan (+/-nan) for {'C': 10, 'penalty': 'elasticnet', 'solver': 'sag'}\n",
      "nan (+/-nan) for {'C': 10, 'penalty': 'elasticnet', 'solver': 'saga'}\n",
      "0.808 (+/-0.062) for {'C': 10, 'penalty': 'none', 'solver': 'newton-cg'}\n",
      "0.825 (+/-0.074) for {'C': 10, 'penalty': 'none', 'solver': 'lbfgs'}\n",
      "nan (+/-nan) for {'C': 10, 'penalty': 'none', 'solver': 'liblinear'}\n",
      "0.823 (+/-0.069) for {'C': 10, 'penalty': 'none', 'solver': 'sag'}\n",
      "0.813 (+/-0.108) for {'C': 10, 'penalty': 'none', 'solver': 'saga'}\n",
      "0.811 (+/-0.058) for {'C': 100, 'penalty': 'l2', 'solver': 'newton-cg'}\n",
      "0.811 (+/-0.058) for {'C': 100, 'penalty': 'l2', 'solver': 'lbfgs'}\n",
      "0.817 (+/-0.040) for {'C': 100, 'penalty': 'l2', 'solver': 'liblinear'}\n",
      "0.807 (+/-0.088) for {'C': 100, 'penalty': 'l2', 'solver': 'sag'}\n",
      "0.823 (+/-0.068) for {'C': 100, 'penalty': 'l2', 'solver': 'saga'}\n",
      "nan (+/-nan) for {'C': 100, 'penalty': 'elasticnet', 'solver': 'newton-cg'}\n",
      "nan (+/-nan) for {'C': 100, 'penalty': 'elasticnet', 'solver': 'lbfgs'}\n",
      "nan (+/-nan) for {'C': 100, 'penalty': 'elasticnet', 'solver': 'liblinear'}\n",
      "nan (+/-nan) for {'C': 100, 'penalty': 'elasticnet', 'solver': 'sag'}\n",
      "nan (+/-nan) for {'C': 100, 'penalty': 'elasticnet', 'solver': 'saga'}\n",
      "0.808 (+/-0.062) for {'C': 100, 'penalty': 'none', 'solver': 'newton-cg'}\n",
      "0.825 (+/-0.074) for {'C': 100, 'penalty': 'none', 'solver': 'lbfgs'}\n",
      "nan (+/-nan) for {'C': 100, 'penalty': 'none', 'solver': 'liblinear'}\n",
      "0.823 (+/-0.069) for {'C': 100, 'penalty': 'none', 'solver': 'sag'}\n",
      "0.820 (+/-0.117) for {'C': 100, 'penalty': 'none', 'solver': 'saga'}\n",
      "0.810 (+/-0.061) for {'C': 1000, 'penalty': 'l2', 'solver': 'newton-cg'}\n",
      "0.810 (+/-0.061) for {'C': 1000, 'penalty': 'l2', 'solver': 'lbfgs'}\n",
      "0.790 (+/-0.110) for {'C': 1000, 'penalty': 'l2', 'solver': 'liblinear'}\n",
      "0.825 (+/-0.074) for {'C': 1000, 'penalty': 'l2', 'solver': 'sag'}\n",
      "0.831 (+/-0.079) for {'C': 1000, 'penalty': 'l2', 'solver': 'saga'}\n",
      "nan (+/-nan) for {'C': 1000, 'penalty': 'elasticnet', 'solver': 'newton-cg'}\n",
      "nan (+/-nan) for {'C': 1000, 'penalty': 'elasticnet', 'solver': 'lbfgs'}\n",
      "nan (+/-nan) for {'C': 1000, 'penalty': 'elasticnet', 'solver': 'liblinear'}\n",
      "nan (+/-nan) for {'C': 1000, 'penalty': 'elasticnet', 'solver': 'sag'}\n",
      "nan (+/-nan) for {'C': 1000, 'penalty': 'elasticnet', 'solver': 'saga'}\n",
      "0.808 (+/-0.062) for {'C': 1000, 'penalty': 'none', 'solver': 'newton-cg'}\n",
      "0.825 (+/-0.074) for {'C': 1000, 'penalty': 'none', 'solver': 'lbfgs'}\n",
      "nan (+/-nan) for {'C': 1000, 'penalty': 'none', 'solver': 'liblinear'}\n",
      "0.820 (+/-0.064) for {'C': 1000, 'penalty': 'none', 'solver': 'sag'}\n",
      "0.820 (+/-0.117) for {'C': 1000, 'penalty': 'none', 'solver': 'saga'}\n",
      "\n",
      "Detailed classification report:\n",
      "\n",
      "The model is trained on the full development set.\n",
      "The scores are computed on the full evaluation set.\n",
      "\n",
      "              precision    recall  f1-score   support\n",
      "\n",
      "        Java       1.00      0.14      0.25         7\n",
      "  JavaScript       0.77      0.89      0.83        27\n",
      "      Python       0.69      0.82      0.75        11\n",
      "\n",
      "    accuracy                           0.76        45\n",
      "   macro avg       0.82      0.62      0.61        45\n",
      "weighted avg       0.79      0.76      0.72        45\n",
      "\n",
      "\n",
      "# Tuning hyper-parameters for recall\n",
      "\n",
      "Best parameters set found on development set:\n",
      "\n",
      "{'C': 100, 'penalty': 'none', 'solver': 'saga'}\n",
      "\n",
      "Grid scores on development set:\n",
      "\n",
      "0.419 (+/-0.125) for {'C': 1, 'penalty': 'l2', 'solver': 'newton-cg'}\n",
      "0.419 (+/-0.125) for {'C': 1, 'penalty': 'l2', 'solver': 'lbfgs'}\n",
      "0.405 (+/-0.109) for {'C': 1, 'penalty': 'l2', 'solver': 'liblinear'}\n",
      "0.419 (+/-0.125) for {'C': 1, 'penalty': 'l2', 'solver': 'sag'}\n",
      "0.432 (+/-0.154) for {'C': 1, 'penalty': 'l2', 'solver': 'saga'}\n",
      "nan (+/-nan) for {'C': 1, 'penalty': 'elasticnet', 'solver': 'newton-cg'}\n",
      "nan (+/-nan) for {'C': 1, 'penalty': 'elasticnet', 'solver': 'lbfgs'}\n",
      "nan (+/-nan) for {'C': 1, 'penalty': 'elasticnet', 'solver': 'liblinear'}\n",
      "nan (+/-nan) for {'C': 1, 'penalty': 'elasticnet', 'solver': 'sag'}\n",
      "nan (+/-nan) for {'C': 1, 'penalty': 'elasticnet', 'solver': 'saga'}\n",
      "0.639 (+/-0.096) for {'C': 1, 'penalty': 'none', 'solver': 'newton-cg'}\n",
      "0.688 (+/-0.051) for {'C': 1, 'penalty': 'none', 'solver': 'lbfgs'}\n",
      "nan (+/-nan) for {'C': 1, 'penalty': 'none', 'solver': 'liblinear'}\n",
      "0.688 (+/-0.081) for {'C': 1, 'penalty': 'none', 'solver': 'sag'}\n",
      "0.709 (+/-0.062) for {'C': 1, 'penalty': 'none', 'solver': 'saga'}\n",
      "0.559 (+/-0.102) for {'C': 10, 'penalty': 'l2', 'solver': 'newton-cg'}\n",
      "0.559 (+/-0.102) for {'C': 10, 'penalty': 'l2', 'solver': 'lbfgs'}\n",
      "0.545 (+/-0.116) for {'C': 10, 'penalty': 'l2', 'solver': 'liblinear'}\n",
      "0.559 (+/-0.102) for {'C': 10, 'penalty': 'l2', 'solver': 'sag'}\n",
      "0.580 (+/-0.101) for {'C': 10, 'penalty': 'l2', 'solver': 'saga'}\n",
      "nan (+/-nan) for {'C': 10, 'penalty': 'elasticnet', 'solver': 'newton-cg'}\n",
      "nan (+/-nan) for {'C': 10, 'penalty': 'elasticnet', 'solver': 'lbfgs'}\n",
      "nan (+/-nan) for {'C': 10, 'penalty': 'elasticnet', 'solver': 'liblinear'}\n",
      "nan (+/-nan) for {'C': 10, 'penalty': 'elasticnet', 'solver': 'sag'}\n",
      "nan (+/-nan) for {'C': 10, 'penalty': 'elasticnet', 'solver': 'saga'}\n",
      "0.639 (+/-0.096) for {'C': 10, 'penalty': 'none', 'solver': 'newton-cg'}\n",
      "0.688 (+/-0.051) for {'C': 10, 'penalty': 'none', 'solver': 'lbfgs'}\n",
      "nan (+/-nan) for {'C': 10, 'penalty': 'none', 'solver': 'liblinear'}\n",
      "0.667 (+/-0.061) for {'C': 10, 'penalty': 'none', 'solver': 'sag'}\n",
      "0.696 (+/-0.032) for {'C': 10, 'penalty': 'none', 'solver': 'saga'}\n",
      "0.607 (+/-0.072) for {'C': 100, 'penalty': 'l2', 'solver': 'newton-cg'}\n",
      "0.607 (+/-0.072) for {'C': 100, 'penalty': 'l2', 'solver': 'lbfgs'}\n",
      "0.614 (+/-0.050) for {'C': 100, 'penalty': 'l2', 'solver': 'liblinear'}\n",
      "0.629 (+/-0.050) for {'C': 100, 'penalty': 'l2', 'solver': 'sag'}\n",
      "0.678 (+/-0.058) for {'C': 100, 'penalty': 'l2', 'solver': 'saga'}\n",
      "nan (+/-nan) for {'C': 100, 'penalty': 'elasticnet', 'solver': 'newton-cg'}\n",
      "nan (+/-nan) for {'C': 100, 'penalty': 'elasticnet', 'solver': 'lbfgs'}\n",
      "nan (+/-nan) for {'C': 100, 'penalty': 'elasticnet', 'solver': 'liblinear'}\n",
      "nan (+/-nan) for {'C': 100, 'penalty': 'elasticnet', 'solver': 'sag'}\n",
      "nan (+/-nan) for {'C': 100, 'penalty': 'elasticnet', 'solver': 'saga'}\n",
      "0.639 (+/-0.096) for {'C': 100, 'penalty': 'none', 'solver': 'newton-cg'}\n",
      "0.688 (+/-0.051) for {'C': 100, 'penalty': 'none', 'solver': 'lbfgs'}\n",
      "nan (+/-nan) for {'C': 100, 'penalty': 'none', 'solver': 'liblinear'}\n",
      "0.678 (+/-0.058) for {'C': 100, 'penalty': 'none', 'solver': 'sag'}\n",
      "0.715 (+/-0.122) for {'C': 100, 'penalty': 'none', 'solver': 'saga'}\n",
      "0.611 (+/-0.058) for {'C': 1000, 'penalty': 'l2', 'solver': 'newton-cg'}\n",
      "0.611 (+/-0.058) for {'C': 1000, 'penalty': 'l2', 'solver': 'lbfgs'}\n",
      "0.611 (+/-0.058) for {'C': 1000, 'penalty': 'l2', 'solver': 'liblinear'}\n",
      "0.657 (+/-0.081) for {'C': 1000, 'penalty': 'l2', 'solver': 'sag'}\n",
      "0.682 (+/-0.055) for {'C': 1000, 'penalty': 'l2', 'solver': 'saga'}\n",
      "nan (+/-nan) for {'C': 1000, 'penalty': 'elasticnet', 'solver': 'newton-cg'}\n",
      "nan (+/-nan) for {'C': 1000, 'penalty': 'elasticnet', 'solver': 'lbfgs'}\n",
      "nan (+/-nan) for {'C': 1000, 'penalty': 'elasticnet', 'solver': 'liblinear'}\n",
      "nan (+/-nan) for {'C': 1000, 'penalty': 'elasticnet', 'solver': 'sag'}\n",
      "nan (+/-nan) for {'C': 1000, 'penalty': 'elasticnet', 'solver': 'saga'}\n",
      "0.639 (+/-0.096) for {'C': 1000, 'penalty': 'none', 'solver': 'newton-cg'}\n",
      "0.688 (+/-0.051) for {'C': 1000, 'penalty': 'none', 'solver': 'lbfgs'}\n",
      "nan (+/-nan) for {'C': 1000, 'penalty': 'none', 'solver': 'liblinear'}\n",
      "0.682 (+/-0.046) for {'C': 1000, 'penalty': 'none', 'solver': 'sag'}\n",
      "0.685 (+/-0.043) for {'C': 1000, 'penalty': 'none', 'solver': 'saga'}\n",
      "\n",
      "Detailed classification report:\n",
      "\n",
      "The model is trained on the full development set.\n",
      "The scores are computed on the full evaluation set.\n",
      "\n",
      "              precision    recall  f1-score   support\n",
      "\n",
      "        Java       1.00      0.29      0.44         7\n",
      "  JavaScript       0.80      0.89      0.84        27\n",
      "      Python       0.69      0.82      0.75        11\n",
      "\n",
      "    accuracy                           0.78        45\n",
      "   macro avg       0.83      0.66      0.68        45\n",
      "weighted avg       0.80      0.78      0.76        45\n",
      "\n",
      "\n"
     ]
    }
   ],
   "source": [
    "import warnings\n",
    "\n",
    "# Set the parameters by cross-validation\n",
    "tuned_parameters = [{'penalty': ['l2','elasticnet','none'], \n",
    "                     'C': [1, 10, 100, 1000],\n",
    "                    'solver': ['newton-cg', 'lbfgs', 'liblinear', 'sag', 'saga']}]\n",
    "\n",
    "scores = ['precision', 'recall']\n",
    "\n",
    "for score in scores:\n",
    "    print(\"# Tuning hyper-parameters for %s\" % score)\n",
    "    print()\n",
    "\n",
    "    clf = GridSearchCV(\n",
    "        lm, tuned_parameters, scoring='%s_macro' % score\n",
    "    )\n",
    "    with warnings.catch_warnings():\n",
    "        warnings.filterwarnings(\"ignore\")\n",
    "        clf.fit(X_train, y_train)\n",
    "\n",
    "    print(\"Best parameters set found on development set:\")\n",
    "    print()\n",
    "    print(clf.best_params_)\n",
    "    print()\n",
    "    print(\"Grid scores on development set:\")\n",
    "    print()\n",
    "    means = clf.cv_results_['mean_test_score']\n",
    "    stds = clf.cv_results_['std_test_score']\n",
    "    for mean, std, params in zip(means, stds, clf.cv_results_['params']):\n",
    "        print(\"%0.3f (+/-%0.03f) for %r\"\n",
    "              % (mean, std * 2, params))\n",
    "    print()\n",
    "\n",
    "    print(\"Detailed classification report:\")\n",
    "    print()\n",
    "    print(\"The model is trained on the full development set.\")\n",
    "    print(\"The scores are computed on the full evaluation set.\")\n",
    "    print()\n",
    "    y_true, y_pred = y_test, clf.predict(X_test)\n",
    "    print(classification_report(y_true, y_pred))\n",
    "    print()\n",
    "\n",
    "# Note the problem is too easy: the hyperparameter plateau is too flat and the\n",
    "# output model is the same for precision and recall with ties in quality."
   ]
  },
  {
   "cell_type": "code",
   "execution_count": 39,
   "metadata": {},
   "outputs": [
    {
     "name": "stderr",
     "output_type": "stream",
     "text": [
      "/Users/lonilanistea/.local/lib/python3.7/site-packages/sklearn/linear_model/_logistic.py:1503: UserWarning: Setting penalty='none' will ignore the C and l1_ratio parameters\n",
      "  \"Setting penalty='none' will ignore the C and l1_ratio \"\n",
      "/Users/lonilanistea/.local/lib/python3.7/site-packages/sklearn/linear_model/_sag.py:330: ConvergenceWarning: The max_iter was reached which means the coef_ did not converge\n",
      "  \"the coef_ did not converge\", ConvergenceWarning)\n"
     ]
    }
   ],
   "source": [
    "lm = LogisticRegression(C = 10, penalty = 'none', solver = 'saga').fit(X_train, y_train)"
   ]
  },
  {
   "cell_type": "code",
   "execution_count": 40,
   "metadata": {},
   "outputs": [
    {
     "name": "stdout",
     "output_type": "stream",
     "text": [
      "Accuracy: 93.85%\n",
      "---\n",
      "Confusion Matrix for the train set\n"
     ]
    },
    {
     "data": {
      "text/html": [
       "<div>\n",
       "<style scoped>\n",
       "    .dataframe tbody tr th:only-of-type {\n",
       "        vertical-align: middle;\n",
       "    }\n",
       "\n",
       "    .dataframe tbody tr th {\n",
       "        vertical-align: top;\n",
       "    }\n",
       "\n",
       "    .dataframe thead th {\n",
       "        text-align: right;\n",
       "    }\n",
       "</style>\n",
       "<table border=\"1\" class=\"dataframe\">\n",
       "  <thead>\n",
       "    <tr style=\"text-align: right;\">\n",
       "      <th>actual</th>\n",
       "      <th>Java</th>\n",
       "      <th>JavaScript</th>\n",
       "      <th>Python</th>\n",
       "    </tr>\n",
       "    <tr>\n",
       "      <th>predicted</th>\n",
       "      <th></th>\n",
       "      <th></th>\n",
       "      <th></th>\n",
       "    </tr>\n",
       "  </thead>\n",
       "  <tbody>\n",
       "    <tr>\n",
       "      <th>Java</th>\n",
       "      <td>22</td>\n",
       "      <td>0</td>\n",
       "      <td>0</td>\n",
       "    </tr>\n",
       "    <tr>\n",
       "      <th>JavaScript</th>\n",
       "      <td>0</td>\n",
       "      <td>101</td>\n",
       "      <td>0</td>\n",
       "    </tr>\n",
       "    <tr>\n",
       "      <th>Python</th>\n",
       "      <td>3</td>\n",
       "      <td>8</td>\n",
       "      <td>45</td>\n",
       "    </tr>\n",
       "  </tbody>\n",
       "</table>\n",
       "</div>"
      ],
      "text/plain": [
       "actual      Java  JavaScript  Python\n",
       "predicted                           \n",
       "Java          22           0       0\n",
       "JavaScript     0         101       0\n",
       "Python         3           8      45"
      ]
     },
     "execution_count": 40,
     "metadata": {},
     "output_type": "execute_result"
    }
   ],
   "source": [
    "train['predicted'] = lm.predict(X_train)\n",
    "test['predicted'] = lm.predict(X_test)\n",
    "print('Accuracy: {:.2%}'.format(accuracy_score(train.actual, train.predicted)))\n",
    "print('---')\n",
    "print('Confusion Matrix for the train set')\n",
    "pd.crosstab(train.predicted, train.actual)"
   ]
  },
  {
   "cell_type": "code",
   "execution_count": 41,
   "metadata": {
    "scrolled": false
   },
   "outputs": [
    {
     "name": "stdout",
     "output_type": "stream",
     "text": [
      "Accuracy: 75.56%\n"
     ]
    }
   ],
   "source": [
    "print('Accuracy: {:.2%}'.format(accuracy_score(test.actual, test.predicted)))"
   ]
  },
  {
   "cell_type": "code",
   "execution_count": 53,
   "metadata": {},
   "outputs": [],
   "source": [
    "lm = LogisticRegression(C = 1, penalty = 'none', solver = 'lbfgs').fit(X_train, y_train)"
   ]
  },
  {
   "cell_type": "code",
   "execution_count": 54,
   "metadata": {},
   "outputs": [],
   "source": [
    "train['predicted'] = lm.predict(X_train)\n",
    "test['predicted'] = lm.predict(X_test)"
   ]
  },
  {
   "cell_type": "code",
   "execution_count": 55,
   "metadata": {},
   "outputs": [
    {
     "name": "stdout",
     "output_type": "stream",
     "text": [
      "Accuracy: 93.85%\n",
      "---\n",
      "Confusion Matrix for the train set\n"
     ]
    },
    {
     "data": {
      "text/html": [
       "<div>\n",
       "<style scoped>\n",
       "    .dataframe tbody tr th:only-of-type {\n",
       "        vertical-align: middle;\n",
       "    }\n",
       "\n",
       "    .dataframe tbody tr th {\n",
       "        vertical-align: top;\n",
       "    }\n",
       "\n",
       "    .dataframe thead th {\n",
       "        text-align: right;\n",
       "    }\n",
       "</style>\n",
       "<table border=\"1\" class=\"dataframe\">\n",
       "  <thead>\n",
       "    <tr style=\"text-align: right;\">\n",
       "      <th>actual</th>\n",
       "      <th>Java</th>\n",
       "      <th>JavaScript</th>\n",
       "      <th>Python</th>\n",
       "    </tr>\n",
       "    <tr>\n",
       "      <th>predicted</th>\n",
       "      <th></th>\n",
       "      <th></th>\n",
       "      <th></th>\n",
       "    </tr>\n",
       "  </thead>\n",
       "  <tbody>\n",
       "    <tr>\n",
       "      <th>Java</th>\n",
       "      <td>22</td>\n",
       "      <td>0</td>\n",
       "      <td>0</td>\n",
       "    </tr>\n",
       "    <tr>\n",
       "      <th>JavaScript</th>\n",
       "      <td>0</td>\n",
       "      <td>101</td>\n",
       "      <td>0</td>\n",
       "    </tr>\n",
       "    <tr>\n",
       "      <th>Python</th>\n",
       "      <td>3</td>\n",
       "      <td>8</td>\n",
       "      <td>45</td>\n",
       "    </tr>\n",
       "  </tbody>\n",
       "</table>\n",
       "</div>"
      ],
      "text/plain": [
       "actual      Java  JavaScript  Python\n",
       "predicted                           \n",
       "Java          22           0       0\n",
       "JavaScript     0         101       0\n",
       "Python         3           8      45"
      ]
     },
     "execution_count": 55,
     "metadata": {},
     "output_type": "execute_result"
    }
   ],
   "source": [
    "# train['predicted'] = lm.predict(X_train)\n",
    "# test['predicted'] = lm.predict(X_test)\n",
    "print('Accuracy: {:.2%}'.format(accuracy_score(train.actual, train.predicted)))\n",
    "print('---')\n",
    "print('Confusion Matrix for the train set')\n",
    "pd.crosstab(train.predicted, train.actual)"
   ]
  },
  {
   "cell_type": "code",
   "execution_count": 46,
   "metadata": {},
   "outputs": [
    {
     "name": "stdout",
     "output_type": "stream",
     "text": [
      "Accuracy: 77.78%\n"
     ]
    }
   ],
   "source": [
    "print('Accuracy: {:.2%}'.format(accuracy_score(test.actual, test.predicted)))"
   ]
  },
  {
   "cell_type": "code",
   "execution_count": 56,
   "metadata": {},
   "outputs": [
    {
     "name": "stderr",
     "output_type": "stream",
     "text": [
      "/Users/lonilanistea/.local/lib/python3.7/site-packages/sklearn/linear_model/_sag.py:330: ConvergenceWarning: The max_iter was reached which means the coef_ did not converge\n",
      "  \"the coef_ did not converge\", ConvergenceWarning)\n"
     ]
    }
   ],
   "source": [
    "lm = LogisticRegression(C = 1000, penalty = 'l2', solver = 'saga').fit(X_train, y_train)"
   ]
  },
  {
   "cell_type": "code",
   "execution_count": 57,
   "metadata": {},
   "outputs": [],
   "source": [
    "train['predicted'] = lm.predict(X_train)\n",
    "test['predicted'] = lm.predict(X_test)"
   ]
  },
  {
   "cell_type": "code",
   "execution_count": 58,
   "metadata": {},
   "outputs": [
    {
     "name": "stdout",
     "output_type": "stream",
     "text": [
      "Accuracy: 93.85%\n",
      "---\n",
      "Confusion Matrix for the train set\n"
     ]
    },
    {
     "data": {
      "text/html": [
       "<div>\n",
       "<style scoped>\n",
       "    .dataframe tbody tr th:only-of-type {\n",
       "        vertical-align: middle;\n",
       "    }\n",
       "\n",
       "    .dataframe tbody tr th {\n",
       "        vertical-align: top;\n",
       "    }\n",
       "\n",
       "    .dataframe thead th {\n",
       "        text-align: right;\n",
       "    }\n",
       "</style>\n",
       "<table border=\"1\" class=\"dataframe\">\n",
       "  <thead>\n",
       "    <tr style=\"text-align: right;\">\n",
       "      <th>actual</th>\n",
       "      <th>Java</th>\n",
       "      <th>JavaScript</th>\n",
       "      <th>Python</th>\n",
       "    </tr>\n",
       "    <tr>\n",
       "      <th>predicted</th>\n",
       "      <th></th>\n",
       "      <th></th>\n",
       "      <th></th>\n",
       "    </tr>\n",
       "  </thead>\n",
       "  <tbody>\n",
       "    <tr>\n",
       "      <th>Java</th>\n",
       "      <td>22</td>\n",
       "      <td>0</td>\n",
       "      <td>0</td>\n",
       "    </tr>\n",
       "    <tr>\n",
       "      <th>JavaScript</th>\n",
       "      <td>0</td>\n",
       "      <td>101</td>\n",
       "      <td>0</td>\n",
       "    </tr>\n",
       "    <tr>\n",
       "      <th>Python</th>\n",
       "      <td>3</td>\n",
       "      <td>8</td>\n",
       "      <td>45</td>\n",
       "    </tr>\n",
       "  </tbody>\n",
       "</table>\n",
       "</div>"
      ],
      "text/plain": [
       "actual      Java  JavaScript  Python\n",
       "predicted                           \n",
       "Java          22           0       0\n",
       "JavaScript     0         101       0\n",
       "Python         3           8      45"
      ]
     },
     "execution_count": 58,
     "metadata": {},
     "output_type": "execute_result"
    }
   ],
   "source": [
    "print('Accuracy: {:.2%}'.format(accuracy_score(train.actual, train.predicted)))\n",
    "print('---')\n",
    "print('Confusion Matrix for the train set')\n",
    "pd.crosstab(train.predicted, train.actual)"
   ]
  },
  {
   "cell_type": "code",
   "execution_count": 59,
   "metadata": {},
   "outputs": [
    {
     "name": "stdout",
     "output_type": "stream",
     "text": [
      "Accuracy: 77.78%\n"
     ]
    }
   ],
   "source": [
    "print('Accuracy: {:.2%}'.format(accuracy_score(test.actual, test.predicted)))"
   ]
  },
  {
   "cell_type": "markdown",
   "metadata": {},
   "source": [
    "### KNearest Neighbor Classifier"
   ]
  },
  {
   "cell_type": "code",
   "execution_count": 74,
   "metadata": {},
   "outputs": [
    {
     "name": "stdout",
     "output_type": "stream",
     "text": [
      "Accuracy of KNN classifier on training set: 0.85\n",
      "Accuracy of KNN classifier on test set: 0.78\n"
     ]
    }
   ],
   "source": [
    "from sklearn.neighbors import KNeighborsClassifier\n",
    "\n",
    "knn = KNeighborsClassifier(n_neighbors=4, weights='uniform')\n",
    "knn.fit(X_train, y_train)\n",
    "y_pred = knn.predict(X_train)\n",
    "print('Accuracy of KNN classifier on training set: {:.2f}'\n",
    "     .format(knn.score(X_train, y_train)))\n",
    "print('Accuracy of KNN classifier on test set: {:.2f}'\n",
    "     .format(knn.score(X_test, y_test)))"
   ]
  },
  {
   "cell_type": "code",
   "execution_count": 68,
   "metadata": {},
   "outputs": [],
   "source": [
    "train = pd.DataFrame(dict(actual=y_train))\n",
    "test = pd.DataFrame(dict(actual=y_test))\n",
    "\n",
    "#k = knn.fit(X_train, y_train)"
   ]
  },
  {
   "cell_type": "code",
   "execution_count": 69,
   "metadata": {},
   "outputs": [],
   "source": [
    "train['predicted'] = knn.predict(X_train)\n",
    "test['predicted'] = knn.predict(X_test)"
   ]
  },
  {
   "cell_type": "code",
   "execution_count": 70,
   "metadata": {},
   "outputs": [
    {
     "name": "stdout",
     "output_type": "stream",
     "text": [
      "Accuracy: 84.92%\n",
      "---\n",
      "Confusion Matrix of the train set\n"
     ]
    },
    {
     "data": {
      "text/html": [
       "<div>\n",
       "<style scoped>\n",
       "    .dataframe tbody tr th:only-of-type {\n",
       "        vertical-align: middle;\n",
       "    }\n",
       "\n",
       "    .dataframe tbody tr th {\n",
       "        vertical-align: top;\n",
       "    }\n",
       "\n",
       "    .dataframe thead th {\n",
       "        text-align: right;\n",
       "    }\n",
       "</style>\n",
       "<table border=\"1\" class=\"dataframe\">\n",
       "  <thead>\n",
       "    <tr style=\"text-align: right;\">\n",
       "      <th>actual</th>\n",
       "      <th>Java</th>\n",
       "      <th>JavaScript</th>\n",
       "      <th>Python</th>\n",
       "    </tr>\n",
       "    <tr>\n",
       "      <th>predicted</th>\n",
       "      <th></th>\n",
       "      <th></th>\n",
       "      <th></th>\n",
       "    </tr>\n",
       "  </thead>\n",
       "  <tbody>\n",
       "    <tr>\n",
       "      <th>Java</th>\n",
       "      <td>19</td>\n",
       "      <td>1</td>\n",
       "      <td>0</td>\n",
       "    </tr>\n",
       "    <tr>\n",
       "      <th>JavaScript</th>\n",
       "      <td>3</td>\n",
       "      <td>100</td>\n",
       "      <td>12</td>\n",
       "    </tr>\n",
       "    <tr>\n",
       "      <th>Python</th>\n",
       "      <td>3</td>\n",
       "      <td>8</td>\n",
       "      <td>33</td>\n",
       "    </tr>\n",
       "  </tbody>\n",
       "</table>\n",
       "</div>"
      ],
      "text/plain": [
       "actual      Java  JavaScript  Python\n",
       "predicted                           \n",
       "Java          19           1       0\n",
       "JavaScript     3         100      12\n",
       "Python         3           8      33"
      ]
     },
     "execution_count": 70,
     "metadata": {},
     "output_type": "execute_result"
    }
   ],
   "source": [
    "print('Accuracy: {:.2%}'.format(accuracy_score(train.actual, train.predicted)))\n",
    "print('---')\n",
    "print('Confusion Matrix of the train set')\n",
    "pd.crosstab(train.predicted, train.actual)"
   ]
  },
  {
   "cell_type": "code",
   "execution_count": 71,
   "metadata": {},
   "outputs": [
    {
     "name": "stdout",
     "output_type": "stream",
     "text": [
      "Confusion Matrix of the train set\n"
     ]
    },
    {
     "data": {
      "text/html": [
       "<div>\n",
       "<style scoped>\n",
       "    .dataframe tbody tr th:only-of-type {\n",
       "        vertical-align: middle;\n",
       "    }\n",
       "\n",
       "    .dataframe tbody tr th {\n",
       "        vertical-align: top;\n",
       "    }\n",
       "\n",
       "    .dataframe thead th {\n",
       "        text-align: right;\n",
       "    }\n",
       "</style>\n",
       "<table border=\"1\" class=\"dataframe\">\n",
       "  <thead>\n",
       "    <tr style=\"text-align: right;\">\n",
       "      <th></th>\n",
       "      <th>Java</th>\n",
       "      <th>JavaScript</th>\n",
       "      <th>Python</th>\n",
       "      <th>accuracy</th>\n",
       "      <th>macro avg</th>\n",
       "      <th>weighted avg</th>\n",
       "    </tr>\n",
       "  </thead>\n",
       "  <tbody>\n",
       "    <tr>\n",
       "      <th>f1-score</th>\n",
       "      <td>0.84</td>\n",
       "      <td>0.89</td>\n",
       "      <td>0.74</td>\n",
       "      <td>0.85</td>\n",
       "      <td>0.83</td>\n",
       "      <td>0.85</td>\n",
       "    </tr>\n",
       "    <tr>\n",
       "      <th>precision</th>\n",
       "      <td>0.95</td>\n",
       "      <td>0.87</td>\n",
       "      <td>0.75</td>\n",
       "      <td>0.85</td>\n",
       "      <td>0.86</td>\n",
       "      <td>0.85</td>\n",
       "    </tr>\n",
       "    <tr>\n",
       "      <th>recall</th>\n",
       "      <td>0.76</td>\n",
       "      <td>0.92</td>\n",
       "      <td>0.73</td>\n",
       "      <td>0.85</td>\n",
       "      <td>0.80</td>\n",
       "      <td>0.85</td>\n",
       "    </tr>\n",
       "    <tr>\n",
       "      <th>support</th>\n",
       "      <td>25.00</td>\n",
       "      <td>109.00</td>\n",
       "      <td>45.00</td>\n",
       "      <td>0.85</td>\n",
       "      <td>179.00</td>\n",
       "      <td>179.00</td>\n",
       "    </tr>\n",
       "  </tbody>\n",
       "</table>\n",
       "</div>"
      ],
      "text/plain": [
       "            Java  JavaScript  Python  accuracy  macro avg  weighted avg\n",
       "f1-score    0.84        0.89    0.74      0.85       0.83          0.85\n",
       "precision   0.95        0.87    0.75      0.85       0.86          0.85\n",
       "recall      0.76        0.92    0.73      0.85       0.80          0.85\n",
       "support    25.00      109.00   45.00      0.85     179.00        179.00"
      ]
     },
     "execution_count": 71,
     "metadata": {},
     "output_type": "execute_result"
    }
   ],
   "source": [
    "report =classification_report(train.actual, train.predicted, output_dict=True)\n",
    "r = pd.DataFrame(report)\n",
    "print('Confusion Matrix of the train set')\n",
    "r.round(2)"
   ]
  },
  {
   "cell_type": "code",
   "execution_count": 72,
   "metadata": {},
   "outputs": [
    {
     "name": "stdout",
     "output_type": "stream",
     "text": [
      "Accuracy: 77.78%\n",
      "---\n",
      "Confusion Matrix of the test set\n"
     ]
    },
    {
     "data": {
      "text/html": [
       "<div>\n",
       "<style scoped>\n",
       "    .dataframe tbody tr th:only-of-type {\n",
       "        vertical-align: middle;\n",
       "    }\n",
       "\n",
       "    .dataframe tbody tr th {\n",
       "        vertical-align: top;\n",
       "    }\n",
       "\n",
       "    .dataframe thead th {\n",
       "        text-align: right;\n",
       "    }\n",
       "</style>\n",
       "<table border=\"1\" class=\"dataframe\">\n",
       "  <thead>\n",
       "    <tr style=\"text-align: right;\">\n",
       "      <th>actual</th>\n",
       "      <th>Java</th>\n",
       "      <th>JavaScript</th>\n",
       "      <th>Python</th>\n",
       "    </tr>\n",
       "    <tr>\n",
       "      <th>predicted</th>\n",
       "      <th></th>\n",
       "      <th></th>\n",
       "      <th></th>\n",
       "    </tr>\n",
       "  </thead>\n",
       "  <tbody>\n",
       "    <tr>\n",
       "      <th>Java</th>\n",
       "      <td>4</td>\n",
       "      <td>0</td>\n",
       "      <td>0</td>\n",
       "    </tr>\n",
       "    <tr>\n",
       "      <th>JavaScript</th>\n",
       "      <td>2</td>\n",
       "      <td>24</td>\n",
       "      <td>4</td>\n",
       "    </tr>\n",
       "    <tr>\n",
       "      <th>Python</th>\n",
       "      <td>1</td>\n",
       "      <td>3</td>\n",
       "      <td>7</td>\n",
       "    </tr>\n",
       "  </tbody>\n",
       "</table>\n",
       "</div>"
      ],
      "text/plain": [
       "actual      Java  JavaScript  Python\n",
       "predicted                           \n",
       "Java           4           0       0\n",
       "JavaScript     2          24       4\n",
       "Python         1           3       7"
      ]
     },
     "execution_count": 72,
     "metadata": {},
     "output_type": "execute_result"
    }
   ],
   "source": [
    "print('Accuracy: {:.2%}'.format(accuracy_score(test.actual, test.predicted)))\n",
    "print('---')\n",
    "print('Confusion Matrix of the test set')\n",
    "pd.crosstab(test.predicted, test.actual)"
   ]
  },
  {
   "cell_type": "code",
   "execution_count": 73,
   "metadata": {},
   "outputs": [
    {
     "name": "stdout",
     "output_type": "stream",
     "text": [
      "Confusion Matrix of the test set\n"
     ]
    },
    {
     "data": {
      "text/html": [
       "<div>\n",
       "<style scoped>\n",
       "    .dataframe tbody tr th:only-of-type {\n",
       "        vertical-align: middle;\n",
       "    }\n",
       "\n",
       "    .dataframe tbody tr th {\n",
       "        vertical-align: top;\n",
       "    }\n",
       "\n",
       "    .dataframe thead th {\n",
       "        text-align: right;\n",
       "    }\n",
       "</style>\n",
       "<table border=\"1\" class=\"dataframe\">\n",
       "  <thead>\n",
       "    <tr style=\"text-align: right;\">\n",
       "      <th></th>\n",
       "      <th>Java</th>\n",
       "      <th>JavaScript</th>\n",
       "      <th>Python</th>\n",
       "      <th>accuracy</th>\n",
       "      <th>macro avg</th>\n",
       "      <th>weighted avg</th>\n",
       "    </tr>\n",
       "  </thead>\n",
       "  <tbody>\n",
       "    <tr>\n",
       "      <th>f1-score</th>\n",
       "      <td>0.73</td>\n",
       "      <td>0.84</td>\n",
       "      <td>0.64</td>\n",
       "      <td>0.78</td>\n",
       "      <td>0.74</td>\n",
       "      <td>0.77</td>\n",
       "    </tr>\n",
       "    <tr>\n",
       "      <th>precision</th>\n",
       "      <td>1.00</td>\n",
       "      <td>0.80</td>\n",
       "      <td>0.64</td>\n",
       "      <td>0.78</td>\n",
       "      <td>0.81</td>\n",
       "      <td>0.79</td>\n",
       "    </tr>\n",
       "    <tr>\n",
       "      <th>recall</th>\n",
       "      <td>0.57</td>\n",
       "      <td>0.89</td>\n",
       "      <td>0.64</td>\n",
       "      <td>0.78</td>\n",
       "      <td>0.70</td>\n",
       "      <td>0.78</td>\n",
       "    </tr>\n",
       "    <tr>\n",
       "      <th>support</th>\n",
       "      <td>7.00</td>\n",
       "      <td>27.00</td>\n",
       "      <td>11.00</td>\n",
       "      <td>0.78</td>\n",
       "      <td>45.00</td>\n",
       "      <td>45.00</td>\n",
       "    </tr>\n",
       "  </tbody>\n",
       "</table>\n",
       "</div>"
      ],
      "text/plain": [
       "           Java  JavaScript  Python  accuracy  macro avg  weighted avg\n",
       "f1-score   0.73        0.84    0.64      0.78       0.74          0.77\n",
       "precision  1.00        0.80    0.64      0.78       0.81          0.79\n",
       "recall     0.57        0.89    0.64      0.78       0.70          0.78\n",
       "support    7.00       27.00   11.00      0.78      45.00         45.00"
      ]
     },
     "execution_count": 73,
     "metadata": {},
     "output_type": "execute_result"
    }
   ],
   "source": [
    "report =classification_report(test.actual, test.predicted, output_dict=True)\n",
    "r = pd.DataFrame(report)\n",
    "print('Confusion Matrix of the test set')\n",
    "r.round(2)"
   ]
  },
  {
   "cell_type": "code",
   "execution_count": 67,
   "metadata": {
    "scrolled": true
   },
   "outputs": [
    {
     "name": "stdout",
     "output_type": "stream",
     "text": [
      "# Tuning hyper-parameters for precision\n",
      "\n",
      "Best parameters set found on development set:\n",
      "\n",
      "{'algorithm': 'auto', 'leaf_size': 1, 'n_neighbors': 9, 'weights': 'uniform'}\n",
      "\n",
      "Grid scores on development set:\n",
      "\n",
      "0.737 (+/-0.133) for {'algorithm': 'auto', 'leaf_size': 1, 'n_neighbors': 1, 'weights': 'uniform'}\n",
      "0.737 (+/-0.133) for {'algorithm': 'auto', 'leaf_size': 1, 'n_neighbors': 1, 'weights': 'distance'}\n",
      "0.785 (+/-0.083) for {'algorithm': 'auto', 'leaf_size': 1, 'n_neighbors': 3, 'weights': 'uniform'}\n",
      "0.796 (+/-0.069) for {'algorithm': 'auto', 'leaf_size': 1, 'n_neighbors': 3, 'weights': 'distance'}\n",
      "0.792 (+/-0.230) for {'algorithm': 'auto', 'leaf_size': 1, 'n_neighbors': 5, 'weights': 'uniform'}\n",
      "0.778 (+/-0.228) for {'algorithm': 'auto', 'leaf_size': 1, 'n_neighbors': 5, 'weights': 'distance'}\n",
      "0.814 (+/-0.260) for {'algorithm': 'auto', 'leaf_size': 1, 'n_neighbors': 7, 'weights': 'uniform'}\n",
      "0.813 (+/-0.265) for {'algorithm': 'auto', 'leaf_size': 1, 'n_neighbors': 7, 'weights': 'distance'}\n",
      "0.816 (+/-0.254) for {'algorithm': 'auto', 'leaf_size': 1, 'n_neighbors': 9, 'weights': 'uniform'}\n",
      "0.812 (+/-0.257) for {'algorithm': 'auto', 'leaf_size': 1, 'n_neighbors': 9, 'weights': 'distance'}\n",
      "0.737 (+/-0.133) for {'algorithm': 'auto', 'leaf_size': 3, 'n_neighbors': 1, 'weights': 'uniform'}\n",
      "0.737 (+/-0.133) for {'algorithm': 'auto', 'leaf_size': 3, 'n_neighbors': 1, 'weights': 'distance'}\n",
      "0.785 (+/-0.083) for {'algorithm': 'auto', 'leaf_size': 3, 'n_neighbors': 3, 'weights': 'uniform'}\n",
      "0.796 (+/-0.069) for {'algorithm': 'auto', 'leaf_size': 3, 'n_neighbors': 3, 'weights': 'distance'}\n",
      "0.792 (+/-0.230) for {'algorithm': 'auto', 'leaf_size': 3, 'n_neighbors': 5, 'weights': 'uniform'}\n",
      "0.778 (+/-0.228) for {'algorithm': 'auto', 'leaf_size': 3, 'n_neighbors': 5, 'weights': 'distance'}\n",
      "0.814 (+/-0.260) for {'algorithm': 'auto', 'leaf_size': 3, 'n_neighbors': 7, 'weights': 'uniform'}\n",
      "0.813 (+/-0.265) for {'algorithm': 'auto', 'leaf_size': 3, 'n_neighbors': 7, 'weights': 'distance'}\n",
      "0.816 (+/-0.254) for {'algorithm': 'auto', 'leaf_size': 3, 'n_neighbors': 9, 'weights': 'uniform'}\n",
      "0.812 (+/-0.257) for {'algorithm': 'auto', 'leaf_size': 3, 'n_neighbors': 9, 'weights': 'distance'}\n",
      "0.737 (+/-0.133) for {'algorithm': 'auto', 'leaf_size': 5, 'n_neighbors': 1, 'weights': 'uniform'}\n",
      "0.737 (+/-0.133) for {'algorithm': 'auto', 'leaf_size': 5, 'n_neighbors': 1, 'weights': 'distance'}\n",
      "0.785 (+/-0.083) for {'algorithm': 'auto', 'leaf_size': 5, 'n_neighbors': 3, 'weights': 'uniform'}\n",
      "0.796 (+/-0.069) for {'algorithm': 'auto', 'leaf_size': 5, 'n_neighbors': 3, 'weights': 'distance'}\n",
      "0.792 (+/-0.230) for {'algorithm': 'auto', 'leaf_size': 5, 'n_neighbors': 5, 'weights': 'uniform'}\n",
      "0.778 (+/-0.228) for {'algorithm': 'auto', 'leaf_size': 5, 'n_neighbors': 5, 'weights': 'distance'}\n",
      "0.814 (+/-0.260) for {'algorithm': 'auto', 'leaf_size': 5, 'n_neighbors': 7, 'weights': 'uniform'}\n",
      "0.813 (+/-0.265) for {'algorithm': 'auto', 'leaf_size': 5, 'n_neighbors': 7, 'weights': 'distance'}\n",
      "0.816 (+/-0.254) for {'algorithm': 'auto', 'leaf_size': 5, 'n_neighbors': 9, 'weights': 'uniform'}\n",
      "0.812 (+/-0.257) for {'algorithm': 'auto', 'leaf_size': 5, 'n_neighbors': 9, 'weights': 'distance'}\n",
      "0.737 (+/-0.133) for {'algorithm': 'auto', 'leaf_size': 7, 'n_neighbors': 1, 'weights': 'uniform'}\n",
      "0.737 (+/-0.133) for {'algorithm': 'auto', 'leaf_size': 7, 'n_neighbors': 1, 'weights': 'distance'}\n",
      "0.785 (+/-0.083) for {'algorithm': 'auto', 'leaf_size': 7, 'n_neighbors': 3, 'weights': 'uniform'}\n",
      "0.796 (+/-0.069) for {'algorithm': 'auto', 'leaf_size': 7, 'n_neighbors': 3, 'weights': 'distance'}\n",
      "0.792 (+/-0.230) for {'algorithm': 'auto', 'leaf_size': 7, 'n_neighbors': 5, 'weights': 'uniform'}\n",
      "0.778 (+/-0.228) for {'algorithm': 'auto', 'leaf_size': 7, 'n_neighbors': 5, 'weights': 'distance'}\n",
      "0.814 (+/-0.260) for {'algorithm': 'auto', 'leaf_size': 7, 'n_neighbors': 7, 'weights': 'uniform'}\n",
      "0.813 (+/-0.265) for {'algorithm': 'auto', 'leaf_size': 7, 'n_neighbors': 7, 'weights': 'distance'}\n",
      "0.816 (+/-0.254) for {'algorithm': 'auto', 'leaf_size': 7, 'n_neighbors': 9, 'weights': 'uniform'}\n",
      "0.812 (+/-0.257) for {'algorithm': 'auto', 'leaf_size': 7, 'n_neighbors': 9, 'weights': 'distance'}\n",
      "0.737 (+/-0.133) for {'algorithm': 'auto', 'leaf_size': 9, 'n_neighbors': 1, 'weights': 'uniform'}\n",
      "0.737 (+/-0.133) for {'algorithm': 'auto', 'leaf_size': 9, 'n_neighbors': 1, 'weights': 'distance'}\n",
      "0.785 (+/-0.083) for {'algorithm': 'auto', 'leaf_size': 9, 'n_neighbors': 3, 'weights': 'uniform'}\n",
      "0.796 (+/-0.069) for {'algorithm': 'auto', 'leaf_size': 9, 'n_neighbors': 3, 'weights': 'distance'}\n",
      "0.792 (+/-0.230) for {'algorithm': 'auto', 'leaf_size': 9, 'n_neighbors': 5, 'weights': 'uniform'}\n",
      "0.778 (+/-0.228) for {'algorithm': 'auto', 'leaf_size': 9, 'n_neighbors': 5, 'weights': 'distance'}\n",
      "0.814 (+/-0.260) for {'algorithm': 'auto', 'leaf_size': 9, 'n_neighbors': 7, 'weights': 'uniform'}\n",
      "0.813 (+/-0.265) for {'algorithm': 'auto', 'leaf_size': 9, 'n_neighbors': 7, 'weights': 'distance'}\n",
      "0.816 (+/-0.254) for {'algorithm': 'auto', 'leaf_size': 9, 'n_neighbors': 9, 'weights': 'uniform'}\n",
      "0.812 (+/-0.257) for {'algorithm': 'auto', 'leaf_size': 9, 'n_neighbors': 9, 'weights': 'distance'}\n",
      "0.737 (+/-0.133) for {'algorithm': 'ball_tree', 'leaf_size': 1, 'n_neighbors': 1, 'weights': 'uniform'}\n",
      "0.737 (+/-0.133) for {'algorithm': 'ball_tree', 'leaf_size': 1, 'n_neighbors': 1, 'weights': 'distance'}\n",
      "0.785 (+/-0.083) for {'algorithm': 'ball_tree', 'leaf_size': 1, 'n_neighbors': 3, 'weights': 'uniform'}\n",
      "0.796 (+/-0.069) for {'algorithm': 'ball_tree', 'leaf_size': 1, 'n_neighbors': 3, 'weights': 'distance'}\n",
      "0.792 (+/-0.230) for {'algorithm': 'ball_tree', 'leaf_size': 1, 'n_neighbors': 5, 'weights': 'uniform'}\n",
      "0.778 (+/-0.228) for {'algorithm': 'ball_tree', 'leaf_size': 1, 'n_neighbors': 5, 'weights': 'distance'}\n",
      "0.814 (+/-0.260) for {'algorithm': 'ball_tree', 'leaf_size': 1, 'n_neighbors': 7, 'weights': 'uniform'}\n",
      "0.813 (+/-0.265) for {'algorithm': 'ball_tree', 'leaf_size': 1, 'n_neighbors': 7, 'weights': 'distance'}\n",
      "0.816 (+/-0.254) for {'algorithm': 'ball_tree', 'leaf_size': 1, 'n_neighbors': 9, 'weights': 'uniform'}\n",
      "0.812 (+/-0.257) for {'algorithm': 'ball_tree', 'leaf_size': 1, 'n_neighbors': 9, 'weights': 'distance'}\n",
      "0.737 (+/-0.133) for {'algorithm': 'ball_tree', 'leaf_size': 3, 'n_neighbors': 1, 'weights': 'uniform'}\n",
      "0.737 (+/-0.133) for {'algorithm': 'ball_tree', 'leaf_size': 3, 'n_neighbors': 1, 'weights': 'distance'}\n",
      "0.785 (+/-0.083) for {'algorithm': 'ball_tree', 'leaf_size': 3, 'n_neighbors': 3, 'weights': 'uniform'}\n",
      "0.796 (+/-0.069) for {'algorithm': 'ball_tree', 'leaf_size': 3, 'n_neighbors': 3, 'weights': 'distance'}\n",
      "0.792 (+/-0.230) for {'algorithm': 'ball_tree', 'leaf_size': 3, 'n_neighbors': 5, 'weights': 'uniform'}\n",
      "0.778 (+/-0.228) for {'algorithm': 'ball_tree', 'leaf_size': 3, 'n_neighbors': 5, 'weights': 'distance'}\n",
      "0.814 (+/-0.260) for {'algorithm': 'ball_tree', 'leaf_size': 3, 'n_neighbors': 7, 'weights': 'uniform'}\n",
      "0.813 (+/-0.265) for {'algorithm': 'ball_tree', 'leaf_size': 3, 'n_neighbors': 7, 'weights': 'distance'}\n",
      "0.816 (+/-0.254) for {'algorithm': 'ball_tree', 'leaf_size': 3, 'n_neighbors': 9, 'weights': 'uniform'}\n",
      "0.812 (+/-0.257) for {'algorithm': 'ball_tree', 'leaf_size': 3, 'n_neighbors': 9, 'weights': 'distance'}\n",
      "0.737 (+/-0.133) for {'algorithm': 'ball_tree', 'leaf_size': 5, 'n_neighbors': 1, 'weights': 'uniform'}\n",
      "0.737 (+/-0.133) for {'algorithm': 'ball_tree', 'leaf_size': 5, 'n_neighbors': 1, 'weights': 'distance'}\n",
      "0.785 (+/-0.083) for {'algorithm': 'ball_tree', 'leaf_size': 5, 'n_neighbors': 3, 'weights': 'uniform'}\n",
      "0.796 (+/-0.069) for {'algorithm': 'ball_tree', 'leaf_size': 5, 'n_neighbors': 3, 'weights': 'distance'}\n",
      "0.792 (+/-0.230) for {'algorithm': 'ball_tree', 'leaf_size': 5, 'n_neighbors': 5, 'weights': 'uniform'}\n",
      "0.778 (+/-0.228) for {'algorithm': 'ball_tree', 'leaf_size': 5, 'n_neighbors': 5, 'weights': 'distance'}\n",
      "0.814 (+/-0.260) for {'algorithm': 'ball_tree', 'leaf_size': 5, 'n_neighbors': 7, 'weights': 'uniform'}\n",
      "0.813 (+/-0.265) for {'algorithm': 'ball_tree', 'leaf_size': 5, 'n_neighbors': 7, 'weights': 'distance'}\n",
      "0.816 (+/-0.254) for {'algorithm': 'ball_tree', 'leaf_size': 5, 'n_neighbors': 9, 'weights': 'uniform'}\n",
      "0.812 (+/-0.257) for {'algorithm': 'ball_tree', 'leaf_size': 5, 'n_neighbors': 9, 'weights': 'distance'}\n",
      "0.737 (+/-0.133) for {'algorithm': 'ball_tree', 'leaf_size': 7, 'n_neighbors': 1, 'weights': 'uniform'}\n",
      "0.737 (+/-0.133) for {'algorithm': 'ball_tree', 'leaf_size': 7, 'n_neighbors': 1, 'weights': 'distance'}\n",
      "0.785 (+/-0.083) for {'algorithm': 'ball_tree', 'leaf_size': 7, 'n_neighbors': 3, 'weights': 'uniform'}\n",
      "0.796 (+/-0.069) for {'algorithm': 'ball_tree', 'leaf_size': 7, 'n_neighbors': 3, 'weights': 'distance'}\n",
      "0.792 (+/-0.230) for {'algorithm': 'ball_tree', 'leaf_size': 7, 'n_neighbors': 5, 'weights': 'uniform'}\n",
      "0.778 (+/-0.228) for {'algorithm': 'ball_tree', 'leaf_size': 7, 'n_neighbors': 5, 'weights': 'distance'}\n",
      "0.814 (+/-0.260) for {'algorithm': 'ball_tree', 'leaf_size': 7, 'n_neighbors': 7, 'weights': 'uniform'}\n",
      "0.813 (+/-0.265) for {'algorithm': 'ball_tree', 'leaf_size': 7, 'n_neighbors': 7, 'weights': 'distance'}\n",
      "0.816 (+/-0.254) for {'algorithm': 'ball_tree', 'leaf_size': 7, 'n_neighbors': 9, 'weights': 'uniform'}\n",
      "0.812 (+/-0.257) for {'algorithm': 'ball_tree', 'leaf_size': 7, 'n_neighbors': 9, 'weights': 'distance'}\n",
      "0.737 (+/-0.133) for {'algorithm': 'ball_tree', 'leaf_size': 9, 'n_neighbors': 1, 'weights': 'uniform'}\n",
      "0.737 (+/-0.133) for {'algorithm': 'ball_tree', 'leaf_size': 9, 'n_neighbors': 1, 'weights': 'distance'}\n",
      "0.785 (+/-0.083) for {'algorithm': 'ball_tree', 'leaf_size': 9, 'n_neighbors': 3, 'weights': 'uniform'}\n",
      "0.796 (+/-0.069) for {'algorithm': 'ball_tree', 'leaf_size': 9, 'n_neighbors': 3, 'weights': 'distance'}\n",
      "0.792 (+/-0.230) for {'algorithm': 'ball_tree', 'leaf_size': 9, 'n_neighbors': 5, 'weights': 'uniform'}\n",
      "0.778 (+/-0.228) for {'algorithm': 'ball_tree', 'leaf_size': 9, 'n_neighbors': 5, 'weights': 'distance'}\n",
      "0.814 (+/-0.260) for {'algorithm': 'ball_tree', 'leaf_size': 9, 'n_neighbors': 7, 'weights': 'uniform'}\n",
      "0.813 (+/-0.265) for {'algorithm': 'ball_tree', 'leaf_size': 9, 'n_neighbors': 7, 'weights': 'distance'}\n",
      "0.816 (+/-0.254) for {'algorithm': 'ball_tree', 'leaf_size': 9, 'n_neighbors': 9, 'weights': 'uniform'}\n",
      "0.812 (+/-0.257) for {'algorithm': 'ball_tree', 'leaf_size': 9, 'n_neighbors': 9, 'weights': 'distance'}\n",
      "0.737 (+/-0.133) for {'algorithm': 'kd_tree', 'leaf_size': 1, 'n_neighbors': 1, 'weights': 'uniform'}\n",
      "0.737 (+/-0.133) for {'algorithm': 'kd_tree', 'leaf_size': 1, 'n_neighbors': 1, 'weights': 'distance'}\n",
      "0.785 (+/-0.083) for {'algorithm': 'kd_tree', 'leaf_size': 1, 'n_neighbors': 3, 'weights': 'uniform'}\n",
      "0.796 (+/-0.069) for {'algorithm': 'kd_tree', 'leaf_size': 1, 'n_neighbors': 3, 'weights': 'distance'}\n",
      "0.792 (+/-0.230) for {'algorithm': 'kd_tree', 'leaf_size': 1, 'n_neighbors': 5, 'weights': 'uniform'}\n",
      "0.778 (+/-0.228) for {'algorithm': 'kd_tree', 'leaf_size': 1, 'n_neighbors': 5, 'weights': 'distance'}\n",
      "0.814 (+/-0.260) for {'algorithm': 'kd_tree', 'leaf_size': 1, 'n_neighbors': 7, 'weights': 'uniform'}\n",
      "0.813 (+/-0.265) for {'algorithm': 'kd_tree', 'leaf_size': 1, 'n_neighbors': 7, 'weights': 'distance'}\n",
      "0.816 (+/-0.254) for {'algorithm': 'kd_tree', 'leaf_size': 1, 'n_neighbors': 9, 'weights': 'uniform'}\n",
      "0.812 (+/-0.257) for {'algorithm': 'kd_tree', 'leaf_size': 1, 'n_neighbors': 9, 'weights': 'distance'}\n",
      "0.737 (+/-0.133) for {'algorithm': 'kd_tree', 'leaf_size': 3, 'n_neighbors': 1, 'weights': 'uniform'}\n",
      "0.737 (+/-0.133) for {'algorithm': 'kd_tree', 'leaf_size': 3, 'n_neighbors': 1, 'weights': 'distance'}\n",
      "0.785 (+/-0.083) for {'algorithm': 'kd_tree', 'leaf_size': 3, 'n_neighbors': 3, 'weights': 'uniform'}\n",
      "0.796 (+/-0.069) for {'algorithm': 'kd_tree', 'leaf_size': 3, 'n_neighbors': 3, 'weights': 'distance'}\n",
      "0.792 (+/-0.230) for {'algorithm': 'kd_tree', 'leaf_size': 3, 'n_neighbors': 5, 'weights': 'uniform'}\n",
      "0.778 (+/-0.228) for {'algorithm': 'kd_tree', 'leaf_size': 3, 'n_neighbors': 5, 'weights': 'distance'}\n",
      "0.814 (+/-0.260) for {'algorithm': 'kd_tree', 'leaf_size': 3, 'n_neighbors': 7, 'weights': 'uniform'}\n",
      "0.813 (+/-0.265) for {'algorithm': 'kd_tree', 'leaf_size': 3, 'n_neighbors': 7, 'weights': 'distance'}\n",
      "0.816 (+/-0.254) for {'algorithm': 'kd_tree', 'leaf_size': 3, 'n_neighbors': 9, 'weights': 'uniform'}\n",
      "0.812 (+/-0.257) for {'algorithm': 'kd_tree', 'leaf_size': 3, 'n_neighbors': 9, 'weights': 'distance'}\n",
      "0.737 (+/-0.133) for {'algorithm': 'kd_tree', 'leaf_size': 5, 'n_neighbors': 1, 'weights': 'uniform'}\n",
      "0.737 (+/-0.133) for {'algorithm': 'kd_tree', 'leaf_size': 5, 'n_neighbors': 1, 'weights': 'distance'}\n",
      "0.785 (+/-0.083) for {'algorithm': 'kd_tree', 'leaf_size': 5, 'n_neighbors': 3, 'weights': 'uniform'}\n",
      "0.796 (+/-0.069) for {'algorithm': 'kd_tree', 'leaf_size': 5, 'n_neighbors': 3, 'weights': 'distance'}\n",
      "0.792 (+/-0.230) for {'algorithm': 'kd_tree', 'leaf_size': 5, 'n_neighbors': 5, 'weights': 'uniform'}\n",
      "0.778 (+/-0.228) for {'algorithm': 'kd_tree', 'leaf_size': 5, 'n_neighbors': 5, 'weights': 'distance'}\n",
      "0.814 (+/-0.260) for {'algorithm': 'kd_tree', 'leaf_size': 5, 'n_neighbors': 7, 'weights': 'uniform'}\n",
      "0.813 (+/-0.265) for {'algorithm': 'kd_tree', 'leaf_size': 5, 'n_neighbors': 7, 'weights': 'distance'}\n",
      "0.816 (+/-0.254) for {'algorithm': 'kd_tree', 'leaf_size': 5, 'n_neighbors': 9, 'weights': 'uniform'}\n",
      "0.812 (+/-0.257) for {'algorithm': 'kd_tree', 'leaf_size': 5, 'n_neighbors': 9, 'weights': 'distance'}\n",
      "0.737 (+/-0.133) for {'algorithm': 'kd_tree', 'leaf_size': 7, 'n_neighbors': 1, 'weights': 'uniform'}\n",
      "0.737 (+/-0.133) for {'algorithm': 'kd_tree', 'leaf_size': 7, 'n_neighbors': 1, 'weights': 'distance'}\n",
      "0.785 (+/-0.083) for {'algorithm': 'kd_tree', 'leaf_size': 7, 'n_neighbors': 3, 'weights': 'uniform'}\n",
      "0.796 (+/-0.069) for {'algorithm': 'kd_tree', 'leaf_size': 7, 'n_neighbors': 3, 'weights': 'distance'}\n",
      "0.792 (+/-0.230) for {'algorithm': 'kd_tree', 'leaf_size': 7, 'n_neighbors': 5, 'weights': 'uniform'}\n",
      "0.778 (+/-0.228) for {'algorithm': 'kd_tree', 'leaf_size': 7, 'n_neighbors': 5, 'weights': 'distance'}\n",
      "0.814 (+/-0.260) for {'algorithm': 'kd_tree', 'leaf_size': 7, 'n_neighbors': 7, 'weights': 'uniform'}\n",
      "0.813 (+/-0.265) for {'algorithm': 'kd_tree', 'leaf_size': 7, 'n_neighbors': 7, 'weights': 'distance'}\n",
      "0.816 (+/-0.254) for {'algorithm': 'kd_tree', 'leaf_size': 7, 'n_neighbors': 9, 'weights': 'uniform'}\n",
      "0.812 (+/-0.257) for {'algorithm': 'kd_tree', 'leaf_size': 7, 'n_neighbors': 9, 'weights': 'distance'}\n",
      "0.737 (+/-0.133) for {'algorithm': 'kd_tree', 'leaf_size': 9, 'n_neighbors': 1, 'weights': 'uniform'}\n",
      "0.737 (+/-0.133) for {'algorithm': 'kd_tree', 'leaf_size': 9, 'n_neighbors': 1, 'weights': 'distance'}\n",
      "0.785 (+/-0.083) for {'algorithm': 'kd_tree', 'leaf_size': 9, 'n_neighbors': 3, 'weights': 'uniform'}\n",
      "0.796 (+/-0.069) for {'algorithm': 'kd_tree', 'leaf_size': 9, 'n_neighbors': 3, 'weights': 'distance'}\n",
      "0.792 (+/-0.230) for {'algorithm': 'kd_tree', 'leaf_size': 9, 'n_neighbors': 5, 'weights': 'uniform'}\n",
      "0.778 (+/-0.228) for {'algorithm': 'kd_tree', 'leaf_size': 9, 'n_neighbors': 5, 'weights': 'distance'}\n",
      "0.814 (+/-0.260) for {'algorithm': 'kd_tree', 'leaf_size': 9, 'n_neighbors': 7, 'weights': 'uniform'}\n",
      "0.813 (+/-0.265) for {'algorithm': 'kd_tree', 'leaf_size': 9, 'n_neighbors': 7, 'weights': 'distance'}\n",
      "0.816 (+/-0.254) for {'algorithm': 'kd_tree', 'leaf_size': 9, 'n_neighbors': 9, 'weights': 'uniform'}\n",
      "0.812 (+/-0.257) for {'algorithm': 'kd_tree', 'leaf_size': 9, 'n_neighbors': 9, 'weights': 'distance'}\n",
      "0.737 (+/-0.133) for {'algorithm': 'brute', 'leaf_size': 1, 'n_neighbors': 1, 'weights': 'uniform'}\n",
      "0.737 (+/-0.133) for {'algorithm': 'brute', 'leaf_size': 1, 'n_neighbors': 1, 'weights': 'distance'}\n",
      "0.785 (+/-0.083) for {'algorithm': 'brute', 'leaf_size': 1, 'n_neighbors': 3, 'weights': 'uniform'}\n",
      "0.796 (+/-0.069) for {'algorithm': 'brute', 'leaf_size': 1, 'n_neighbors': 3, 'weights': 'distance'}\n",
      "0.792 (+/-0.230) for {'algorithm': 'brute', 'leaf_size': 1, 'n_neighbors': 5, 'weights': 'uniform'}\n",
      "0.778 (+/-0.228) for {'algorithm': 'brute', 'leaf_size': 1, 'n_neighbors': 5, 'weights': 'distance'}\n",
      "0.814 (+/-0.260) for {'algorithm': 'brute', 'leaf_size': 1, 'n_neighbors': 7, 'weights': 'uniform'}\n",
      "0.813 (+/-0.265) for {'algorithm': 'brute', 'leaf_size': 1, 'n_neighbors': 7, 'weights': 'distance'}\n",
      "0.816 (+/-0.254) for {'algorithm': 'brute', 'leaf_size': 1, 'n_neighbors': 9, 'weights': 'uniform'}\n",
      "0.812 (+/-0.257) for {'algorithm': 'brute', 'leaf_size': 1, 'n_neighbors': 9, 'weights': 'distance'}\n",
      "0.737 (+/-0.133) for {'algorithm': 'brute', 'leaf_size': 3, 'n_neighbors': 1, 'weights': 'uniform'}\n",
      "0.737 (+/-0.133) for {'algorithm': 'brute', 'leaf_size': 3, 'n_neighbors': 1, 'weights': 'distance'}\n",
      "0.785 (+/-0.083) for {'algorithm': 'brute', 'leaf_size': 3, 'n_neighbors': 3, 'weights': 'uniform'}\n",
      "0.796 (+/-0.069) for {'algorithm': 'brute', 'leaf_size': 3, 'n_neighbors': 3, 'weights': 'distance'}\n",
      "0.792 (+/-0.230) for {'algorithm': 'brute', 'leaf_size': 3, 'n_neighbors': 5, 'weights': 'uniform'}\n",
      "0.778 (+/-0.228) for {'algorithm': 'brute', 'leaf_size': 3, 'n_neighbors': 5, 'weights': 'distance'}\n",
      "0.814 (+/-0.260) for {'algorithm': 'brute', 'leaf_size': 3, 'n_neighbors': 7, 'weights': 'uniform'}\n",
      "0.813 (+/-0.265) for {'algorithm': 'brute', 'leaf_size': 3, 'n_neighbors': 7, 'weights': 'distance'}\n",
      "0.816 (+/-0.254) for {'algorithm': 'brute', 'leaf_size': 3, 'n_neighbors': 9, 'weights': 'uniform'}\n",
      "0.812 (+/-0.257) for {'algorithm': 'brute', 'leaf_size': 3, 'n_neighbors': 9, 'weights': 'distance'}\n",
      "0.737 (+/-0.133) for {'algorithm': 'brute', 'leaf_size': 5, 'n_neighbors': 1, 'weights': 'uniform'}\n",
      "0.737 (+/-0.133) for {'algorithm': 'brute', 'leaf_size': 5, 'n_neighbors': 1, 'weights': 'distance'}\n",
      "0.785 (+/-0.083) for {'algorithm': 'brute', 'leaf_size': 5, 'n_neighbors': 3, 'weights': 'uniform'}\n",
      "0.796 (+/-0.069) for {'algorithm': 'brute', 'leaf_size': 5, 'n_neighbors': 3, 'weights': 'distance'}\n",
      "0.792 (+/-0.230) for {'algorithm': 'brute', 'leaf_size': 5, 'n_neighbors': 5, 'weights': 'uniform'}\n",
      "0.778 (+/-0.228) for {'algorithm': 'brute', 'leaf_size': 5, 'n_neighbors': 5, 'weights': 'distance'}\n",
      "0.814 (+/-0.260) for {'algorithm': 'brute', 'leaf_size': 5, 'n_neighbors': 7, 'weights': 'uniform'}\n",
      "0.813 (+/-0.265) for {'algorithm': 'brute', 'leaf_size': 5, 'n_neighbors': 7, 'weights': 'distance'}\n",
      "0.816 (+/-0.254) for {'algorithm': 'brute', 'leaf_size': 5, 'n_neighbors': 9, 'weights': 'uniform'}\n",
      "0.812 (+/-0.257) for {'algorithm': 'brute', 'leaf_size': 5, 'n_neighbors': 9, 'weights': 'distance'}\n",
      "0.737 (+/-0.133) for {'algorithm': 'brute', 'leaf_size': 7, 'n_neighbors': 1, 'weights': 'uniform'}\n",
      "0.737 (+/-0.133) for {'algorithm': 'brute', 'leaf_size': 7, 'n_neighbors': 1, 'weights': 'distance'}\n",
      "0.785 (+/-0.083) for {'algorithm': 'brute', 'leaf_size': 7, 'n_neighbors': 3, 'weights': 'uniform'}\n",
      "0.796 (+/-0.069) for {'algorithm': 'brute', 'leaf_size': 7, 'n_neighbors': 3, 'weights': 'distance'}\n",
      "0.792 (+/-0.230) for {'algorithm': 'brute', 'leaf_size': 7, 'n_neighbors': 5, 'weights': 'uniform'}\n",
      "0.778 (+/-0.228) for {'algorithm': 'brute', 'leaf_size': 7, 'n_neighbors': 5, 'weights': 'distance'}\n",
      "0.814 (+/-0.260) for {'algorithm': 'brute', 'leaf_size': 7, 'n_neighbors': 7, 'weights': 'uniform'}\n",
      "0.813 (+/-0.265) for {'algorithm': 'brute', 'leaf_size': 7, 'n_neighbors': 7, 'weights': 'distance'}\n",
      "0.816 (+/-0.254) for {'algorithm': 'brute', 'leaf_size': 7, 'n_neighbors': 9, 'weights': 'uniform'}\n",
      "0.812 (+/-0.257) for {'algorithm': 'brute', 'leaf_size': 7, 'n_neighbors': 9, 'weights': 'distance'}\n",
      "0.737 (+/-0.133) for {'algorithm': 'brute', 'leaf_size': 9, 'n_neighbors': 1, 'weights': 'uniform'}\n",
      "0.737 (+/-0.133) for {'algorithm': 'brute', 'leaf_size': 9, 'n_neighbors': 1, 'weights': 'distance'}\n",
      "0.785 (+/-0.083) for {'algorithm': 'brute', 'leaf_size': 9, 'n_neighbors': 3, 'weights': 'uniform'}\n",
      "0.796 (+/-0.069) for {'algorithm': 'brute', 'leaf_size': 9, 'n_neighbors': 3, 'weights': 'distance'}\n",
      "0.792 (+/-0.230) for {'algorithm': 'brute', 'leaf_size': 9, 'n_neighbors': 5, 'weights': 'uniform'}\n",
      "0.778 (+/-0.228) for {'algorithm': 'brute', 'leaf_size': 9, 'n_neighbors': 5, 'weights': 'distance'}\n",
      "0.814 (+/-0.260) for {'algorithm': 'brute', 'leaf_size': 9, 'n_neighbors': 7, 'weights': 'uniform'}\n",
      "0.813 (+/-0.265) for {'algorithm': 'brute', 'leaf_size': 9, 'n_neighbors': 7, 'weights': 'distance'}\n",
      "0.816 (+/-0.254) for {'algorithm': 'brute', 'leaf_size': 9, 'n_neighbors': 9, 'weights': 'uniform'}\n",
      "0.812 (+/-0.257) for {'algorithm': 'brute', 'leaf_size': 9, 'n_neighbors': 9, 'weights': 'distance'}\n",
      "\n",
      "Detailed classification report:\n",
      "\n",
      "The model is trained on the full development set.\n",
      "The scores are computed on the full evaluation set.\n",
      "\n",
      "              precision    recall  f1-score   support\n",
      "\n",
      "        Java       1.00      0.43      0.60         7\n",
      "  JavaScript       0.79      0.85      0.82        27\n",
      "      Python       0.62      0.73      0.67        11\n",
      "\n",
      "    accuracy                           0.76        45\n",
      "   macro avg       0.80      0.67      0.70        45\n",
      "weighted avg       0.78      0.76      0.75        45\n",
      "\n",
      "\n",
      "# Tuning hyper-parameters for recall\n",
      "\n"
     ]
    },
    {
     "name": "stdout",
     "output_type": "stream",
     "text": [
      "Best parameters set found on development set:\n",
      "\n",
      "{'algorithm': 'auto', 'leaf_size': 1, 'n_neighbors': 9, 'weights': 'uniform'}\n",
      "\n",
      "Grid scores on development set:\n",
      "\n",
      "0.639 (+/-0.140) for {'algorithm': 'auto', 'leaf_size': 1, 'n_neighbors': 1, 'weights': 'uniform'}\n",
      "0.639 (+/-0.140) for {'algorithm': 'auto', 'leaf_size': 1, 'n_neighbors': 1, 'weights': 'distance'}\n",
      "0.689 (+/-0.096) for {'algorithm': 'auto', 'leaf_size': 1, 'n_neighbors': 3, 'weights': 'uniform'}\n",
      "0.660 (+/-0.129) for {'algorithm': 'auto', 'leaf_size': 1, 'n_neighbors': 3, 'weights': 'distance'}\n",
      "0.730 (+/-0.171) for {'algorithm': 'auto', 'leaf_size': 1, 'n_neighbors': 5, 'weights': 'uniform'}\n",
      "0.687 (+/-0.208) for {'algorithm': 'auto', 'leaf_size': 1, 'n_neighbors': 5, 'weights': 'distance'}\n",
      "0.727 (+/-0.149) for {'algorithm': 'auto', 'leaf_size': 1, 'n_neighbors': 7, 'weights': 'uniform'}\n",
      "0.714 (+/-0.196) for {'algorithm': 'auto', 'leaf_size': 1, 'n_neighbors': 7, 'weights': 'distance'}\n",
      "0.740 (+/-0.133) for {'algorithm': 'auto', 'leaf_size': 1, 'n_neighbors': 9, 'weights': 'uniform'}\n",
      "0.714 (+/-0.134) for {'algorithm': 'auto', 'leaf_size': 1, 'n_neighbors': 9, 'weights': 'distance'}\n",
      "0.639 (+/-0.140) for {'algorithm': 'auto', 'leaf_size': 3, 'n_neighbors': 1, 'weights': 'uniform'}\n",
      "0.639 (+/-0.140) for {'algorithm': 'auto', 'leaf_size': 3, 'n_neighbors': 1, 'weights': 'distance'}\n",
      "0.689 (+/-0.096) for {'algorithm': 'auto', 'leaf_size': 3, 'n_neighbors': 3, 'weights': 'uniform'}\n",
      "0.660 (+/-0.129) for {'algorithm': 'auto', 'leaf_size': 3, 'n_neighbors': 3, 'weights': 'distance'}\n",
      "0.730 (+/-0.171) for {'algorithm': 'auto', 'leaf_size': 3, 'n_neighbors': 5, 'weights': 'uniform'}\n",
      "0.687 (+/-0.208) for {'algorithm': 'auto', 'leaf_size': 3, 'n_neighbors': 5, 'weights': 'distance'}\n",
      "0.727 (+/-0.149) for {'algorithm': 'auto', 'leaf_size': 3, 'n_neighbors': 7, 'weights': 'uniform'}\n",
      "0.714 (+/-0.196) for {'algorithm': 'auto', 'leaf_size': 3, 'n_neighbors': 7, 'weights': 'distance'}\n",
      "0.740 (+/-0.133) for {'algorithm': 'auto', 'leaf_size': 3, 'n_neighbors': 9, 'weights': 'uniform'}\n",
      "0.714 (+/-0.134) for {'algorithm': 'auto', 'leaf_size': 3, 'n_neighbors': 9, 'weights': 'distance'}\n",
      "0.639 (+/-0.140) for {'algorithm': 'auto', 'leaf_size': 5, 'n_neighbors': 1, 'weights': 'uniform'}\n",
      "0.639 (+/-0.140) for {'algorithm': 'auto', 'leaf_size': 5, 'n_neighbors': 1, 'weights': 'distance'}\n",
      "0.689 (+/-0.096) for {'algorithm': 'auto', 'leaf_size': 5, 'n_neighbors': 3, 'weights': 'uniform'}\n",
      "0.660 (+/-0.129) for {'algorithm': 'auto', 'leaf_size': 5, 'n_neighbors': 3, 'weights': 'distance'}\n",
      "0.730 (+/-0.171) for {'algorithm': 'auto', 'leaf_size': 5, 'n_neighbors': 5, 'weights': 'uniform'}\n",
      "0.687 (+/-0.208) for {'algorithm': 'auto', 'leaf_size': 5, 'n_neighbors': 5, 'weights': 'distance'}\n",
      "0.727 (+/-0.149) for {'algorithm': 'auto', 'leaf_size': 5, 'n_neighbors': 7, 'weights': 'uniform'}\n",
      "0.714 (+/-0.196) for {'algorithm': 'auto', 'leaf_size': 5, 'n_neighbors': 7, 'weights': 'distance'}\n",
      "0.740 (+/-0.133) for {'algorithm': 'auto', 'leaf_size': 5, 'n_neighbors': 9, 'weights': 'uniform'}\n",
      "0.714 (+/-0.134) for {'algorithm': 'auto', 'leaf_size': 5, 'n_neighbors': 9, 'weights': 'distance'}\n",
      "0.639 (+/-0.140) for {'algorithm': 'auto', 'leaf_size': 7, 'n_neighbors': 1, 'weights': 'uniform'}\n",
      "0.639 (+/-0.140) for {'algorithm': 'auto', 'leaf_size': 7, 'n_neighbors': 1, 'weights': 'distance'}\n",
      "0.689 (+/-0.096) for {'algorithm': 'auto', 'leaf_size': 7, 'n_neighbors': 3, 'weights': 'uniform'}\n",
      "0.660 (+/-0.129) for {'algorithm': 'auto', 'leaf_size': 7, 'n_neighbors': 3, 'weights': 'distance'}\n",
      "0.730 (+/-0.171) for {'algorithm': 'auto', 'leaf_size': 7, 'n_neighbors': 5, 'weights': 'uniform'}\n",
      "0.687 (+/-0.208) for {'algorithm': 'auto', 'leaf_size': 7, 'n_neighbors': 5, 'weights': 'distance'}\n",
      "0.727 (+/-0.149) for {'algorithm': 'auto', 'leaf_size': 7, 'n_neighbors': 7, 'weights': 'uniform'}\n",
      "0.714 (+/-0.196) for {'algorithm': 'auto', 'leaf_size': 7, 'n_neighbors': 7, 'weights': 'distance'}\n",
      "0.740 (+/-0.133) for {'algorithm': 'auto', 'leaf_size': 7, 'n_neighbors': 9, 'weights': 'uniform'}\n",
      "0.714 (+/-0.134) for {'algorithm': 'auto', 'leaf_size': 7, 'n_neighbors': 9, 'weights': 'distance'}\n",
      "0.639 (+/-0.140) for {'algorithm': 'auto', 'leaf_size': 9, 'n_neighbors': 1, 'weights': 'uniform'}\n",
      "0.639 (+/-0.140) for {'algorithm': 'auto', 'leaf_size': 9, 'n_neighbors': 1, 'weights': 'distance'}\n",
      "0.689 (+/-0.096) for {'algorithm': 'auto', 'leaf_size': 9, 'n_neighbors': 3, 'weights': 'uniform'}\n",
      "0.660 (+/-0.129) for {'algorithm': 'auto', 'leaf_size': 9, 'n_neighbors': 3, 'weights': 'distance'}\n",
      "0.730 (+/-0.171) for {'algorithm': 'auto', 'leaf_size': 9, 'n_neighbors': 5, 'weights': 'uniform'}\n",
      "0.687 (+/-0.208) for {'algorithm': 'auto', 'leaf_size': 9, 'n_neighbors': 5, 'weights': 'distance'}\n",
      "0.727 (+/-0.149) for {'algorithm': 'auto', 'leaf_size': 9, 'n_neighbors': 7, 'weights': 'uniform'}\n",
      "0.714 (+/-0.196) for {'algorithm': 'auto', 'leaf_size': 9, 'n_neighbors': 7, 'weights': 'distance'}\n",
      "0.740 (+/-0.133) for {'algorithm': 'auto', 'leaf_size': 9, 'n_neighbors': 9, 'weights': 'uniform'}\n",
      "0.714 (+/-0.134) for {'algorithm': 'auto', 'leaf_size': 9, 'n_neighbors': 9, 'weights': 'distance'}\n",
      "0.639 (+/-0.140) for {'algorithm': 'ball_tree', 'leaf_size': 1, 'n_neighbors': 1, 'weights': 'uniform'}\n",
      "0.639 (+/-0.140) for {'algorithm': 'ball_tree', 'leaf_size': 1, 'n_neighbors': 1, 'weights': 'distance'}\n",
      "0.689 (+/-0.096) for {'algorithm': 'ball_tree', 'leaf_size': 1, 'n_neighbors': 3, 'weights': 'uniform'}\n",
      "0.660 (+/-0.129) for {'algorithm': 'ball_tree', 'leaf_size': 1, 'n_neighbors': 3, 'weights': 'distance'}\n",
      "0.730 (+/-0.171) for {'algorithm': 'ball_tree', 'leaf_size': 1, 'n_neighbors': 5, 'weights': 'uniform'}\n",
      "0.687 (+/-0.208) for {'algorithm': 'ball_tree', 'leaf_size': 1, 'n_neighbors': 5, 'weights': 'distance'}\n",
      "0.727 (+/-0.149) for {'algorithm': 'ball_tree', 'leaf_size': 1, 'n_neighbors': 7, 'weights': 'uniform'}\n",
      "0.714 (+/-0.196) for {'algorithm': 'ball_tree', 'leaf_size': 1, 'n_neighbors': 7, 'weights': 'distance'}\n",
      "0.740 (+/-0.133) for {'algorithm': 'ball_tree', 'leaf_size': 1, 'n_neighbors': 9, 'weights': 'uniform'}\n",
      "0.714 (+/-0.134) for {'algorithm': 'ball_tree', 'leaf_size': 1, 'n_neighbors': 9, 'weights': 'distance'}\n",
      "0.639 (+/-0.140) for {'algorithm': 'ball_tree', 'leaf_size': 3, 'n_neighbors': 1, 'weights': 'uniform'}\n",
      "0.639 (+/-0.140) for {'algorithm': 'ball_tree', 'leaf_size': 3, 'n_neighbors': 1, 'weights': 'distance'}\n",
      "0.689 (+/-0.096) for {'algorithm': 'ball_tree', 'leaf_size': 3, 'n_neighbors': 3, 'weights': 'uniform'}\n",
      "0.660 (+/-0.129) for {'algorithm': 'ball_tree', 'leaf_size': 3, 'n_neighbors': 3, 'weights': 'distance'}\n",
      "0.730 (+/-0.171) for {'algorithm': 'ball_tree', 'leaf_size': 3, 'n_neighbors': 5, 'weights': 'uniform'}\n",
      "0.687 (+/-0.208) for {'algorithm': 'ball_tree', 'leaf_size': 3, 'n_neighbors': 5, 'weights': 'distance'}\n",
      "0.727 (+/-0.149) for {'algorithm': 'ball_tree', 'leaf_size': 3, 'n_neighbors': 7, 'weights': 'uniform'}\n",
      "0.714 (+/-0.196) for {'algorithm': 'ball_tree', 'leaf_size': 3, 'n_neighbors': 7, 'weights': 'distance'}\n",
      "0.740 (+/-0.133) for {'algorithm': 'ball_tree', 'leaf_size': 3, 'n_neighbors': 9, 'weights': 'uniform'}\n",
      "0.714 (+/-0.134) for {'algorithm': 'ball_tree', 'leaf_size': 3, 'n_neighbors': 9, 'weights': 'distance'}\n",
      "0.639 (+/-0.140) for {'algorithm': 'ball_tree', 'leaf_size': 5, 'n_neighbors': 1, 'weights': 'uniform'}\n",
      "0.639 (+/-0.140) for {'algorithm': 'ball_tree', 'leaf_size': 5, 'n_neighbors': 1, 'weights': 'distance'}\n",
      "0.689 (+/-0.096) for {'algorithm': 'ball_tree', 'leaf_size': 5, 'n_neighbors': 3, 'weights': 'uniform'}\n",
      "0.660 (+/-0.129) for {'algorithm': 'ball_tree', 'leaf_size': 5, 'n_neighbors': 3, 'weights': 'distance'}\n",
      "0.730 (+/-0.171) for {'algorithm': 'ball_tree', 'leaf_size': 5, 'n_neighbors': 5, 'weights': 'uniform'}\n",
      "0.687 (+/-0.208) for {'algorithm': 'ball_tree', 'leaf_size': 5, 'n_neighbors': 5, 'weights': 'distance'}\n",
      "0.727 (+/-0.149) for {'algorithm': 'ball_tree', 'leaf_size': 5, 'n_neighbors': 7, 'weights': 'uniform'}\n",
      "0.714 (+/-0.196) for {'algorithm': 'ball_tree', 'leaf_size': 5, 'n_neighbors': 7, 'weights': 'distance'}\n",
      "0.740 (+/-0.133) for {'algorithm': 'ball_tree', 'leaf_size': 5, 'n_neighbors': 9, 'weights': 'uniform'}\n",
      "0.714 (+/-0.134) for {'algorithm': 'ball_tree', 'leaf_size': 5, 'n_neighbors': 9, 'weights': 'distance'}\n",
      "0.639 (+/-0.140) for {'algorithm': 'ball_tree', 'leaf_size': 7, 'n_neighbors': 1, 'weights': 'uniform'}\n",
      "0.639 (+/-0.140) for {'algorithm': 'ball_tree', 'leaf_size': 7, 'n_neighbors': 1, 'weights': 'distance'}\n",
      "0.689 (+/-0.096) for {'algorithm': 'ball_tree', 'leaf_size': 7, 'n_neighbors': 3, 'weights': 'uniform'}\n",
      "0.660 (+/-0.129) for {'algorithm': 'ball_tree', 'leaf_size': 7, 'n_neighbors': 3, 'weights': 'distance'}\n",
      "0.730 (+/-0.171) for {'algorithm': 'ball_tree', 'leaf_size': 7, 'n_neighbors': 5, 'weights': 'uniform'}\n",
      "0.687 (+/-0.208) for {'algorithm': 'ball_tree', 'leaf_size': 7, 'n_neighbors': 5, 'weights': 'distance'}\n",
      "0.727 (+/-0.149) for {'algorithm': 'ball_tree', 'leaf_size': 7, 'n_neighbors': 7, 'weights': 'uniform'}\n",
      "0.714 (+/-0.196) for {'algorithm': 'ball_tree', 'leaf_size': 7, 'n_neighbors': 7, 'weights': 'distance'}\n",
      "0.740 (+/-0.133) for {'algorithm': 'ball_tree', 'leaf_size': 7, 'n_neighbors': 9, 'weights': 'uniform'}\n",
      "0.714 (+/-0.134) for {'algorithm': 'ball_tree', 'leaf_size': 7, 'n_neighbors': 9, 'weights': 'distance'}\n",
      "0.639 (+/-0.140) for {'algorithm': 'ball_tree', 'leaf_size': 9, 'n_neighbors': 1, 'weights': 'uniform'}\n",
      "0.639 (+/-0.140) for {'algorithm': 'ball_tree', 'leaf_size': 9, 'n_neighbors': 1, 'weights': 'distance'}\n",
      "0.689 (+/-0.096) for {'algorithm': 'ball_tree', 'leaf_size': 9, 'n_neighbors': 3, 'weights': 'uniform'}\n",
      "0.660 (+/-0.129) for {'algorithm': 'ball_tree', 'leaf_size': 9, 'n_neighbors': 3, 'weights': 'distance'}\n",
      "0.730 (+/-0.171) for {'algorithm': 'ball_tree', 'leaf_size': 9, 'n_neighbors': 5, 'weights': 'uniform'}\n",
      "0.687 (+/-0.208) for {'algorithm': 'ball_tree', 'leaf_size': 9, 'n_neighbors': 5, 'weights': 'distance'}\n",
      "0.727 (+/-0.149) for {'algorithm': 'ball_tree', 'leaf_size': 9, 'n_neighbors': 7, 'weights': 'uniform'}\n",
      "0.714 (+/-0.196) for {'algorithm': 'ball_tree', 'leaf_size': 9, 'n_neighbors': 7, 'weights': 'distance'}\n",
      "0.740 (+/-0.133) for {'algorithm': 'ball_tree', 'leaf_size': 9, 'n_neighbors': 9, 'weights': 'uniform'}\n",
      "0.714 (+/-0.134) for {'algorithm': 'ball_tree', 'leaf_size': 9, 'n_neighbors': 9, 'weights': 'distance'}\n",
      "0.639 (+/-0.140) for {'algorithm': 'kd_tree', 'leaf_size': 1, 'n_neighbors': 1, 'weights': 'uniform'}\n",
      "0.639 (+/-0.140) for {'algorithm': 'kd_tree', 'leaf_size': 1, 'n_neighbors': 1, 'weights': 'distance'}\n",
      "0.689 (+/-0.096) for {'algorithm': 'kd_tree', 'leaf_size': 1, 'n_neighbors': 3, 'weights': 'uniform'}\n",
      "0.660 (+/-0.129) for {'algorithm': 'kd_tree', 'leaf_size': 1, 'n_neighbors': 3, 'weights': 'distance'}\n",
      "0.730 (+/-0.171) for {'algorithm': 'kd_tree', 'leaf_size': 1, 'n_neighbors': 5, 'weights': 'uniform'}\n",
      "0.687 (+/-0.208) for {'algorithm': 'kd_tree', 'leaf_size': 1, 'n_neighbors': 5, 'weights': 'distance'}\n",
      "0.727 (+/-0.149) for {'algorithm': 'kd_tree', 'leaf_size': 1, 'n_neighbors': 7, 'weights': 'uniform'}\n",
      "0.714 (+/-0.196) for {'algorithm': 'kd_tree', 'leaf_size': 1, 'n_neighbors': 7, 'weights': 'distance'}\n",
      "0.740 (+/-0.133) for {'algorithm': 'kd_tree', 'leaf_size': 1, 'n_neighbors': 9, 'weights': 'uniform'}\n",
      "0.714 (+/-0.134) for {'algorithm': 'kd_tree', 'leaf_size': 1, 'n_neighbors': 9, 'weights': 'distance'}\n",
      "0.639 (+/-0.140) for {'algorithm': 'kd_tree', 'leaf_size': 3, 'n_neighbors': 1, 'weights': 'uniform'}\n",
      "0.639 (+/-0.140) for {'algorithm': 'kd_tree', 'leaf_size': 3, 'n_neighbors': 1, 'weights': 'distance'}\n",
      "0.689 (+/-0.096) for {'algorithm': 'kd_tree', 'leaf_size': 3, 'n_neighbors': 3, 'weights': 'uniform'}\n",
      "0.660 (+/-0.129) for {'algorithm': 'kd_tree', 'leaf_size': 3, 'n_neighbors': 3, 'weights': 'distance'}\n",
      "0.730 (+/-0.171) for {'algorithm': 'kd_tree', 'leaf_size': 3, 'n_neighbors': 5, 'weights': 'uniform'}\n",
      "0.687 (+/-0.208) for {'algorithm': 'kd_tree', 'leaf_size': 3, 'n_neighbors': 5, 'weights': 'distance'}\n",
      "0.727 (+/-0.149) for {'algorithm': 'kd_tree', 'leaf_size': 3, 'n_neighbors': 7, 'weights': 'uniform'}\n",
      "0.714 (+/-0.196) for {'algorithm': 'kd_tree', 'leaf_size': 3, 'n_neighbors': 7, 'weights': 'distance'}\n",
      "0.740 (+/-0.133) for {'algorithm': 'kd_tree', 'leaf_size': 3, 'n_neighbors': 9, 'weights': 'uniform'}\n",
      "0.714 (+/-0.134) for {'algorithm': 'kd_tree', 'leaf_size': 3, 'n_neighbors': 9, 'weights': 'distance'}\n",
      "0.639 (+/-0.140) for {'algorithm': 'kd_tree', 'leaf_size': 5, 'n_neighbors': 1, 'weights': 'uniform'}\n",
      "0.639 (+/-0.140) for {'algorithm': 'kd_tree', 'leaf_size': 5, 'n_neighbors': 1, 'weights': 'distance'}\n",
      "0.689 (+/-0.096) for {'algorithm': 'kd_tree', 'leaf_size': 5, 'n_neighbors': 3, 'weights': 'uniform'}\n",
      "0.660 (+/-0.129) for {'algorithm': 'kd_tree', 'leaf_size': 5, 'n_neighbors': 3, 'weights': 'distance'}\n",
      "0.730 (+/-0.171) for {'algorithm': 'kd_tree', 'leaf_size': 5, 'n_neighbors': 5, 'weights': 'uniform'}\n",
      "0.687 (+/-0.208) for {'algorithm': 'kd_tree', 'leaf_size': 5, 'n_neighbors': 5, 'weights': 'distance'}\n",
      "0.727 (+/-0.149) for {'algorithm': 'kd_tree', 'leaf_size': 5, 'n_neighbors': 7, 'weights': 'uniform'}\n",
      "0.714 (+/-0.196) for {'algorithm': 'kd_tree', 'leaf_size': 5, 'n_neighbors': 7, 'weights': 'distance'}\n",
      "0.740 (+/-0.133) for {'algorithm': 'kd_tree', 'leaf_size': 5, 'n_neighbors': 9, 'weights': 'uniform'}\n",
      "0.714 (+/-0.134) for {'algorithm': 'kd_tree', 'leaf_size': 5, 'n_neighbors': 9, 'weights': 'distance'}\n",
      "0.639 (+/-0.140) for {'algorithm': 'kd_tree', 'leaf_size': 7, 'n_neighbors': 1, 'weights': 'uniform'}\n",
      "0.639 (+/-0.140) for {'algorithm': 'kd_tree', 'leaf_size': 7, 'n_neighbors': 1, 'weights': 'distance'}\n",
      "0.689 (+/-0.096) for {'algorithm': 'kd_tree', 'leaf_size': 7, 'n_neighbors': 3, 'weights': 'uniform'}\n",
      "0.660 (+/-0.129) for {'algorithm': 'kd_tree', 'leaf_size': 7, 'n_neighbors': 3, 'weights': 'distance'}\n",
      "0.730 (+/-0.171) for {'algorithm': 'kd_tree', 'leaf_size': 7, 'n_neighbors': 5, 'weights': 'uniform'}\n",
      "0.687 (+/-0.208) for {'algorithm': 'kd_tree', 'leaf_size': 7, 'n_neighbors': 5, 'weights': 'distance'}\n",
      "0.727 (+/-0.149) for {'algorithm': 'kd_tree', 'leaf_size': 7, 'n_neighbors': 7, 'weights': 'uniform'}\n",
      "0.714 (+/-0.196) for {'algorithm': 'kd_tree', 'leaf_size': 7, 'n_neighbors': 7, 'weights': 'distance'}\n",
      "0.740 (+/-0.133) for {'algorithm': 'kd_tree', 'leaf_size': 7, 'n_neighbors': 9, 'weights': 'uniform'}\n",
      "0.714 (+/-0.134) for {'algorithm': 'kd_tree', 'leaf_size': 7, 'n_neighbors': 9, 'weights': 'distance'}\n",
      "0.639 (+/-0.140) for {'algorithm': 'kd_tree', 'leaf_size': 9, 'n_neighbors': 1, 'weights': 'uniform'}\n",
      "0.639 (+/-0.140) for {'algorithm': 'kd_tree', 'leaf_size': 9, 'n_neighbors': 1, 'weights': 'distance'}\n",
      "0.689 (+/-0.096) for {'algorithm': 'kd_tree', 'leaf_size': 9, 'n_neighbors': 3, 'weights': 'uniform'}\n",
      "0.660 (+/-0.129) for {'algorithm': 'kd_tree', 'leaf_size': 9, 'n_neighbors': 3, 'weights': 'distance'}\n",
      "0.730 (+/-0.171) for {'algorithm': 'kd_tree', 'leaf_size': 9, 'n_neighbors': 5, 'weights': 'uniform'}\n",
      "0.687 (+/-0.208) for {'algorithm': 'kd_tree', 'leaf_size': 9, 'n_neighbors': 5, 'weights': 'distance'}\n",
      "0.727 (+/-0.149) for {'algorithm': 'kd_tree', 'leaf_size': 9, 'n_neighbors': 7, 'weights': 'uniform'}\n",
      "0.714 (+/-0.196) for {'algorithm': 'kd_tree', 'leaf_size': 9, 'n_neighbors': 7, 'weights': 'distance'}\n",
      "0.740 (+/-0.133) for {'algorithm': 'kd_tree', 'leaf_size': 9, 'n_neighbors': 9, 'weights': 'uniform'}\n",
      "0.714 (+/-0.134) for {'algorithm': 'kd_tree', 'leaf_size': 9, 'n_neighbors': 9, 'weights': 'distance'}\n",
      "0.639 (+/-0.140) for {'algorithm': 'brute', 'leaf_size': 1, 'n_neighbors': 1, 'weights': 'uniform'}\n",
      "0.639 (+/-0.140) for {'algorithm': 'brute', 'leaf_size': 1, 'n_neighbors': 1, 'weights': 'distance'}\n",
      "0.689 (+/-0.096) for {'algorithm': 'brute', 'leaf_size': 1, 'n_neighbors': 3, 'weights': 'uniform'}\n",
      "0.660 (+/-0.129) for {'algorithm': 'brute', 'leaf_size': 1, 'n_neighbors': 3, 'weights': 'distance'}\n",
      "0.730 (+/-0.171) for {'algorithm': 'brute', 'leaf_size': 1, 'n_neighbors': 5, 'weights': 'uniform'}\n",
      "0.687 (+/-0.208) for {'algorithm': 'brute', 'leaf_size': 1, 'n_neighbors': 5, 'weights': 'distance'}\n",
      "0.727 (+/-0.149) for {'algorithm': 'brute', 'leaf_size': 1, 'n_neighbors': 7, 'weights': 'uniform'}\n",
      "0.714 (+/-0.196) for {'algorithm': 'brute', 'leaf_size': 1, 'n_neighbors': 7, 'weights': 'distance'}\n",
      "0.740 (+/-0.133) for {'algorithm': 'brute', 'leaf_size': 1, 'n_neighbors': 9, 'weights': 'uniform'}\n",
      "0.714 (+/-0.134) for {'algorithm': 'brute', 'leaf_size': 1, 'n_neighbors': 9, 'weights': 'distance'}\n",
      "0.639 (+/-0.140) for {'algorithm': 'brute', 'leaf_size': 3, 'n_neighbors': 1, 'weights': 'uniform'}\n",
      "0.639 (+/-0.140) for {'algorithm': 'brute', 'leaf_size': 3, 'n_neighbors': 1, 'weights': 'distance'}\n",
      "0.689 (+/-0.096) for {'algorithm': 'brute', 'leaf_size': 3, 'n_neighbors': 3, 'weights': 'uniform'}\n",
      "0.660 (+/-0.129) for {'algorithm': 'brute', 'leaf_size': 3, 'n_neighbors': 3, 'weights': 'distance'}\n",
      "0.730 (+/-0.171) for {'algorithm': 'brute', 'leaf_size': 3, 'n_neighbors': 5, 'weights': 'uniform'}\n",
      "0.687 (+/-0.208) for {'algorithm': 'brute', 'leaf_size': 3, 'n_neighbors': 5, 'weights': 'distance'}\n",
      "0.727 (+/-0.149) for {'algorithm': 'brute', 'leaf_size': 3, 'n_neighbors': 7, 'weights': 'uniform'}\n",
      "0.714 (+/-0.196) for {'algorithm': 'brute', 'leaf_size': 3, 'n_neighbors': 7, 'weights': 'distance'}\n",
      "0.740 (+/-0.133) for {'algorithm': 'brute', 'leaf_size': 3, 'n_neighbors': 9, 'weights': 'uniform'}\n",
      "0.714 (+/-0.134) for {'algorithm': 'brute', 'leaf_size': 3, 'n_neighbors': 9, 'weights': 'distance'}\n",
      "0.639 (+/-0.140) for {'algorithm': 'brute', 'leaf_size': 5, 'n_neighbors': 1, 'weights': 'uniform'}\n",
      "0.639 (+/-0.140) for {'algorithm': 'brute', 'leaf_size': 5, 'n_neighbors': 1, 'weights': 'distance'}\n",
      "0.689 (+/-0.096) for {'algorithm': 'brute', 'leaf_size': 5, 'n_neighbors': 3, 'weights': 'uniform'}\n",
      "0.660 (+/-0.129) for {'algorithm': 'brute', 'leaf_size': 5, 'n_neighbors': 3, 'weights': 'distance'}\n",
      "0.730 (+/-0.171) for {'algorithm': 'brute', 'leaf_size': 5, 'n_neighbors': 5, 'weights': 'uniform'}\n",
      "0.687 (+/-0.208) for {'algorithm': 'brute', 'leaf_size': 5, 'n_neighbors': 5, 'weights': 'distance'}\n",
      "0.727 (+/-0.149) for {'algorithm': 'brute', 'leaf_size': 5, 'n_neighbors': 7, 'weights': 'uniform'}\n",
      "0.714 (+/-0.196) for {'algorithm': 'brute', 'leaf_size': 5, 'n_neighbors': 7, 'weights': 'distance'}\n",
      "0.740 (+/-0.133) for {'algorithm': 'brute', 'leaf_size': 5, 'n_neighbors': 9, 'weights': 'uniform'}\n",
      "0.714 (+/-0.134) for {'algorithm': 'brute', 'leaf_size': 5, 'n_neighbors': 9, 'weights': 'distance'}\n",
      "0.639 (+/-0.140) for {'algorithm': 'brute', 'leaf_size': 7, 'n_neighbors': 1, 'weights': 'uniform'}\n",
      "0.639 (+/-0.140) for {'algorithm': 'brute', 'leaf_size': 7, 'n_neighbors': 1, 'weights': 'distance'}\n",
      "0.689 (+/-0.096) for {'algorithm': 'brute', 'leaf_size': 7, 'n_neighbors': 3, 'weights': 'uniform'}\n",
      "0.660 (+/-0.129) for {'algorithm': 'brute', 'leaf_size': 7, 'n_neighbors': 3, 'weights': 'distance'}\n",
      "0.730 (+/-0.171) for {'algorithm': 'brute', 'leaf_size': 7, 'n_neighbors': 5, 'weights': 'uniform'}\n",
      "0.687 (+/-0.208) for {'algorithm': 'brute', 'leaf_size': 7, 'n_neighbors': 5, 'weights': 'distance'}\n",
      "0.727 (+/-0.149) for {'algorithm': 'brute', 'leaf_size': 7, 'n_neighbors': 7, 'weights': 'uniform'}\n",
      "0.714 (+/-0.196) for {'algorithm': 'brute', 'leaf_size': 7, 'n_neighbors': 7, 'weights': 'distance'}\n",
      "0.740 (+/-0.133) for {'algorithm': 'brute', 'leaf_size': 7, 'n_neighbors': 9, 'weights': 'uniform'}\n",
      "0.714 (+/-0.134) for {'algorithm': 'brute', 'leaf_size': 7, 'n_neighbors': 9, 'weights': 'distance'}\n",
      "0.639 (+/-0.140) for {'algorithm': 'brute', 'leaf_size': 9, 'n_neighbors': 1, 'weights': 'uniform'}\n",
      "0.639 (+/-0.140) for {'algorithm': 'brute', 'leaf_size': 9, 'n_neighbors': 1, 'weights': 'distance'}\n",
      "0.689 (+/-0.096) for {'algorithm': 'brute', 'leaf_size': 9, 'n_neighbors': 3, 'weights': 'uniform'}\n",
      "0.660 (+/-0.129) for {'algorithm': 'brute', 'leaf_size': 9, 'n_neighbors': 3, 'weights': 'distance'}\n",
      "0.730 (+/-0.171) for {'algorithm': 'brute', 'leaf_size': 9, 'n_neighbors': 5, 'weights': 'uniform'}\n",
      "0.687 (+/-0.208) for {'algorithm': 'brute', 'leaf_size': 9, 'n_neighbors': 5, 'weights': 'distance'}\n",
      "0.727 (+/-0.149) for {'algorithm': 'brute', 'leaf_size': 9, 'n_neighbors': 7, 'weights': 'uniform'}\n",
      "0.714 (+/-0.196) for {'algorithm': 'brute', 'leaf_size': 9, 'n_neighbors': 7, 'weights': 'distance'}\n",
      "0.740 (+/-0.133) for {'algorithm': 'brute', 'leaf_size': 9, 'n_neighbors': 9, 'weights': 'uniform'}\n",
      "0.714 (+/-0.134) for {'algorithm': 'brute', 'leaf_size': 9, 'n_neighbors': 9, 'weights': 'distance'}\n",
      "\n",
      "Detailed classification report:\n",
      "\n",
      "The model is trained on the full development set.\n",
      "The scores are computed on the full evaluation set.\n",
      "\n",
      "              precision    recall  f1-score   support\n",
      "\n",
      "        Java       1.00      0.43      0.60         7\n",
      "  JavaScript       0.79      0.85      0.82        27\n",
      "      Python       0.62      0.73      0.67        11\n",
      "\n",
      "    accuracy                           0.76        45\n",
      "   macro avg       0.80      0.67      0.70        45\n",
      "weighted avg       0.78      0.76      0.75        45\n",
      "\n",
      "\n"
     ]
    }
   ],
   "source": [
    "import warnings\n",
    "\n",
    "# Set the parameters by cross-validation\n",
    "tuned_parameters = {'algorithm': ['auto', 'ball_tree', 'kd_tree', 'brute'],\n",
    "                   'n_neighbors': [1, 3, 5, 7, 9],\n",
    "                   'weights': ['uniform', 'distance'],\n",
    "                   'leaf_size': [1, 3, 5, 7, 9]}\n",
    "\n",
    "scores = ['precision', 'recall']\n",
    "\n",
    "for score in scores:\n",
    "    print(\"# Tuning hyper-parameters for %s\" % score)\n",
    "    print()\n",
    "\n",
    "    clf = GridSearchCV(\n",
    "        knn, tuned_parameters, scoring='%s_macro' % score\n",
    "    )\n",
    "    with warnings.catch_warnings():\n",
    "        warnings.filterwarnings(\"ignore\")\n",
    "        clf.fit(X_train, y_train)\n",
    "\n",
    "    print(\"Best parameters set found on development set:\")\n",
    "    print()\n",
    "    print(clf.best_params_)\n",
    "    print()\n",
    "    print(\"Grid scores on development set:\")\n",
    "    print()\n",
    "    means = clf.cv_results_['mean_test_score']\n",
    "    stds = clf.cv_results_['std_test_score']\n",
    "    for mean, std, params in zip(means, stds, clf.cv_results_['params']):\n",
    "        print(\"%0.3f (+/-%0.03f) for %r\"\n",
    "              % (mean, std * 2, params))\n",
    "    print()\n",
    "\n",
    "    print(\"Detailed classification report:\")\n",
    "    print()\n",
    "    print(\"The model is trained on the full development set.\")\n",
    "    print(\"The scores are computed on the full evaluation set.\")\n",
    "    print()\n",
    "    y_true, y_pred = y_test, clf.predict(X_test)\n",
    "    print(classification_report(y_true, y_pred))\n",
    "    print()\n",
    "\n",
    "# Note the problem is too easy: the hyperparameter plateau is too flat and the\n",
    "# output model is the same for precision and recall with ties in quality."
   ]
  },
  {
   "cell_type": "code",
   "execution_count": 76,
   "metadata": {},
   "outputs": [
    {
     "name": "stdout",
     "output_type": "stream",
     "text": [
      "Accuracy of KNN classifier on training set: 0.83\n",
      "Accuracy of KNN classifier on test set: 0.76\n"
     ]
    }
   ],
   "source": [
    "knn = KNeighborsClassifier(algorithm = 'auto', n_neighbors=9, weights='uniform')\n",
    "knn.fit(X_train, y_train)\n",
    "y_pred = knn.predict(X_train)\n",
    "print('Accuracy of KNN classifier on training set: {:.2f}'\n",
    "     .format(knn.score(X_train, y_train)))\n",
    "print('Accuracy of KNN classifier on test set: {:.2f}'\n",
    "     .format(knn.score(X_test, y_test)))"
   ]
  },
  {
   "cell_type": "code",
   "execution_count": 77,
   "metadata": {},
   "outputs": [],
   "source": [
    "train = pd.DataFrame(dict(actual=y_train))\n",
    "test = pd.DataFrame(dict(actual=y_test))\n",
    "\n",
    "k = knn.fit(X_train, y_train)\n",
    "train['predicted'] = k.predict(X_train)\n",
    "test['predicted'] = k.predict(X_test)"
   ]
  },
  {
   "cell_type": "code",
   "execution_count": 78,
   "metadata": {},
   "outputs": [
    {
     "name": "stdout",
     "output_type": "stream",
     "text": [
      "Accuracy: 83.24%\n",
      "---\n",
      "Confusion Matrix for the train set\n"
     ]
    },
    {
     "data": {
      "text/html": [
       "<div>\n",
       "<style scoped>\n",
       "    .dataframe tbody tr th:only-of-type {\n",
       "        vertical-align: middle;\n",
       "    }\n",
       "\n",
       "    .dataframe tbody tr th {\n",
       "        vertical-align: top;\n",
       "    }\n",
       "\n",
       "    .dataframe thead th {\n",
       "        text-align: right;\n",
       "    }\n",
       "</style>\n",
       "<table border=\"1\" class=\"dataframe\">\n",
       "  <thead>\n",
       "    <tr style=\"text-align: right;\">\n",
       "      <th>actual</th>\n",
       "      <th>Java</th>\n",
       "      <th>JavaScript</th>\n",
       "      <th>Python</th>\n",
       "    </tr>\n",
       "    <tr>\n",
       "      <th>predicted</th>\n",
       "      <th></th>\n",
       "      <th></th>\n",
       "      <th></th>\n",
       "    </tr>\n",
       "  </thead>\n",
       "  <tbody>\n",
       "    <tr>\n",
       "      <th>Java</th>\n",
       "      <td>17</td>\n",
       "      <td>0</td>\n",
       "      <td>0</td>\n",
       "    </tr>\n",
       "    <tr>\n",
       "      <th>JavaScript</th>\n",
       "      <td>5</td>\n",
       "      <td>100</td>\n",
       "      <td>13</td>\n",
       "    </tr>\n",
       "    <tr>\n",
       "      <th>Python</th>\n",
       "      <td>3</td>\n",
       "      <td>9</td>\n",
       "      <td>32</td>\n",
       "    </tr>\n",
       "  </tbody>\n",
       "</table>\n",
       "</div>"
      ],
      "text/plain": [
       "actual      Java  JavaScript  Python\n",
       "predicted                           \n",
       "Java          17           0       0\n",
       "JavaScript     5         100      13\n",
       "Python         3           9      32"
      ]
     },
     "execution_count": 78,
     "metadata": {},
     "output_type": "execute_result"
    }
   ],
   "source": [
    "# train['predicted'] = lm.predict(X_train)\n",
    "# test['predicted'] = lm.predict(X_test)\n",
    "print('Accuracy: {:.2%}'.format(accuracy_score(train.actual, train.predicted)))\n",
    "print('---')\n",
    "print('Confusion Matrix for the train set')\n",
    "pd.crosstab(train.predicted, train.actual)"
   ]
  },
  {
   "cell_type": "markdown",
   "metadata": {},
   "source": [
    "### Decision Tree Classifier"
   ]
  },
  {
   "cell_type": "code",
   "execution_count": 30,
   "metadata": {},
   "outputs": [],
   "source": [
    "from sklearn.tree import DecisionTreeClassifier\n",
    "clf = DecisionTreeClassifier(criterion='gini', max_depth=4, min_samples_split = 7, random_state=123)"
   ]
  },
  {
   "cell_type": "code",
   "execution_count": 31,
   "metadata": {},
   "outputs": [
    {
     "data": {
      "text/plain": [
       "DecisionTreeClassifier(ccp_alpha=0.0, class_weight=None, criterion='gini',\n",
       "                       max_depth=4, max_features=None, max_leaf_nodes=None,\n",
       "                       min_impurity_decrease=0.0, min_impurity_split=None,\n",
       "                       min_samples_leaf=1, min_samples_split=7,\n",
       "                       min_weight_fraction_leaf=0.0, presort='deprecated',\n",
       "                       random_state=123, splitter='best')"
      ]
     },
     "execution_count": 31,
     "metadata": {},
     "output_type": "execute_result"
    }
   ],
   "source": [
    "clf.fit(X_train, y_train)"
   ]
  },
  {
   "cell_type": "code",
   "execution_count": 32,
   "metadata": {},
   "outputs": [
    {
     "name": "stdout",
     "output_type": "stream",
     "text": [
      "Accuracy of Decision tree classifier on training set: 0.87\n",
      "Accuracy of Decision tree classifier on test set: 0.71\n"
     ]
    }
   ],
   "source": [
    "y_pred = clf.predict(X_train)\n",
    "print('Accuracy of Decision tree classifier on training set: {:.2f}'\n",
    "     .format(clf.score(X_train, y_train)))\n",
    "print('Accuracy of Decision tree classifier on test set: {:.2f}'\n",
    "     .format(clf.score(X_test, y_test)))"
   ]
  },
  {
   "cell_type": "code",
   "execution_count": 34,
   "metadata": {},
   "outputs": [],
   "source": [
    "train['predicted'] = clf.predict(X_train)\n",
    "test['predicted'] = clf.predict(X_test)"
   ]
  },
  {
   "cell_type": "code",
   "execution_count": 35,
   "metadata": {},
   "outputs": [
    {
     "name": "stdout",
     "output_type": "stream",
     "text": [
      "Accuracy: 87.15%\n",
      "---\n",
      "Confusion Matrix of the train set\n"
     ]
    },
    {
     "data": {
      "text/html": [
       "<div>\n",
       "<style scoped>\n",
       "    .dataframe tbody tr th:only-of-type {\n",
       "        vertical-align: middle;\n",
       "    }\n",
       "\n",
       "    .dataframe tbody tr th {\n",
       "        vertical-align: top;\n",
       "    }\n",
       "\n",
       "    .dataframe thead th {\n",
       "        text-align: right;\n",
       "    }\n",
       "</style>\n",
       "<table border=\"1\" class=\"dataframe\">\n",
       "  <thead>\n",
       "    <tr style=\"text-align: right;\">\n",
       "      <th>actual</th>\n",
       "      <th>Java</th>\n",
       "      <th>JavaScript</th>\n",
       "      <th>Python</th>\n",
       "    </tr>\n",
       "    <tr>\n",
       "      <th>predicted</th>\n",
       "      <th></th>\n",
       "      <th></th>\n",
       "      <th></th>\n",
       "    </tr>\n",
       "  </thead>\n",
       "  <tbody>\n",
       "    <tr>\n",
       "      <th>Java</th>\n",
       "      <td>18</td>\n",
       "      <td>1</td>\n",
       "      <td>0</td>\n",
       "    </tr>\n",
       "    <tr>\n",
       "      <th>JavaScript</th>\n",
       "      <td>4</td>\n",
       "      <td>101</td>\n",
       "      <td>8</td>\n",
       "    </tr>\n",
       "    <tr>\n",
       "      <th>Python</th>\n",
       "      <td>3</td>\n",
       "      <td>7</td>\n",
       "      <td>37</td>\n",
       "    </tr>\n",
       "  </tbody>\n",
       "</table>\n",
       "</div>"
      ],
      "text/plain": [
       "actual      Java  JavaScript  Python\n",
       "predicted                           \n",
       "Java          18           1       0\n",
       "JavaScript     4         101       8\n",
       "Python         3           7      37"
      ]
     },
     "execution_count": 35,
     "metadata": {},
     "output_type": "execute_result"
    }
   ],
   "source": [
    "print('Accuracy: {:.2%}'.format(accuracy_score(train.actual, train.predicted)))\n",
    "print('---')\n",
    "print('Confusion Matrix of the train set')\n",
    "pd.crosstab(train.predicted, train.actual)"
   ]
  },
  {
   "cell_type": "code",
   "execution_count": 36,
   "metadata": {},
   "outputs": [
    {
     "name": "stdout",
     "output_type": "stream",
     "text": [
      "Confusion Matrix of the train set\n"
     ]
    },
    {
     "data": {
      "text/html": [
       "<div>\n",
       "<style scoped>\n",
       "    .dataframe tbody tr th:only-of-type {\n",
       "        vertical-align: middle;\n",
       "    }\n",
       "\n",
       "    .dataframe tbody tr th {\n",
       "        vertical-align: top;\n",
       "    }\n",
       "\n",
       "    .dataframe thead th {\n",
       "        text-align: right;\n",
       "    }\n",
       "</style>\n",
       "<table border=\"1\" class=\"dataframe\">\n",
       "  <thead>\n",
       "    <tr style=\"text-align: right;\">\n",
       "      <th></th>\n",
       "      <th>Java</th>\n",
       "      <th>JavaScript</th>\n",
       "      <th>Python</th>\n",
       "      <th>accuracy</th>\n",
       "      <th>macro avg</th>\n",
       "      <th>weighted avg</th>\n",
       "    </tr>\n",
       "  </thead>\n",
       "  <tbody>\n",
       "    <tr>\n",
       "      <th>f1-score</th>\n",
       "      <td>0.82</td>\n",
       "      <td>0.91</td>\n",
       "      <td>0.80</td>\n",
       "      <td>0.87</td>\n",
       "      <td>0.84</td>\n",
       "      <td>0.87</td>\n",
       "    </tr>\n",
       "    <tr>\n",
       "      <th>precision</th>\n",
       "      <td>0.95</td>\n",
       "      <td>0.89</td>\n",
       "      <td>0.79</td>\n",
       "      <td>0.87</td>\n",
       "      <td>0.88</td>\n",
       "      <td>0.87</td>\n",
       "    </tr>\n",
       "    <tr>\n",
       "      <th>recall</th>\n",
       "      <td>0.72</td>\n",
       "      <td>0.93</td>\n",
       "      <td>0.82</td>\n",
       "      <td>0.87</td>\n",
       "      <td>0.82</td>\n",
       "      <td>0.87</td>\n",
       "    </tr>\n",
       "    <tr>\n",
       "      <th>support</th>\n",
       "      <td>25.00</td>\n",
       "      <td>109.00</td>\n",
       "      <td>45.00</td>\n",
       "      <td>0.87</td>\n",
       "      <td>179.00</td>\n",
       "      <td>179.00</td>\n",
       "    </tr>\n",
       "  </tbody>\n",
       "</table>\n",
       "</div>"
      ],
      "text/plain": [
       "            Java  JavaScript  Python  accuracy  macro avg  weighted avg\n",
       "f1-score    0.82        0.91    0.80      0.87       0.84          0.87\n",
       "precision   0.95        0.89    0.79      0.87       0.88          0.87\n",
       "recall      0.72        0.93    0.82      0.87       0.82          0.87\n",
       "support    25.00      109.00   45.00      0.87     179.00        179.00"
      ]
     },
     "execution_count": 36,
     "metadata": {},
     "output_type": "execute_result"
    }
   ],
   "source": [
    "report =classification_report(train.actual, train.predicted, output_dict=True)\n",
    "r = pd.DataFrame(report)\n",
    "print('Confusion Matrix of the train set')\n",
    "r.round(2)"
   ]
  },
  {
   "cell_type": "code",
   "execution_count": 37,
   "metadata": {},
   "outputs": [
    {
     "name": "stdout",
     "output_type": "stream",
     "text": [
      "Accuracy: 71.11%\n",
      "---\n",
      "Confusion Matrix of the test set\n"
     ]
    },
    {
     "data": {
      "text/html": [
       "<div>\n",
       "<style scoped>\n",
       "    .dataframe tbody tr th:only-of-type {\n",
       "        vertical-align: middle;\n",
       "    }\n",
       "\n",
       "    .dataframe tbody tr th {\n",
       "        vertical-align: top;\n",
       "    }\n",
       "\n",
       "    .dataframe thead th {\n",
       "        text-align: right;\n",
       "    }\n",
       "</style>\n",
       "<table border=\"1\" class=\"dataframe\">\n",
       "  <thead>\n",
       "    <tr style=\"text-align: right;\">\n",
       "      <th>actual</th>\n",
       "      <th>Java</th>\n",
       "      <th>JavaScript</th>\n",
       "      <th>Python</th>\n",
       "    </tr>\n",
       "    <tr>\n",
       "      <th>predicted</th>\n",
       "      <th></th>\n",
       "      <th></th>\n",
       "      <th></th>\n",
       "    </tr>\n",
       "  </thead>\n",
       "  <tbody>\n",
       "    <tr>\n",
       "      <th>Java</th>\n",
       "      <td>3</td>\n",
       "      <td>0</td>\n",
       "      <td>0</td>\n",
       "    </tr>\n",
       "    <tr>\n",
       "      <th>JavaScript</th>\n",
       "      <td>3</td>\n",
       "      <td>21</td>\n",
       "      <td>3</td>\n",
       "    </tr>\n",
       "    <tr>\n",
       "      <th>Python</th>\n",
       "      <td>1</td>\n",
       "      <td>6</td>\n",
       "      <td>8</td>\n",
       "    </tr>\n",
       "  </tbody>\n",
       "</table>\n",
       "</div>"
      ],
      "text/plain": [
       "actual      Java  JavaScript  Python\n",
       "predicted                           \n",
       "Java           3           0       0\n",
       "JavaScript     3          21       3\n",
       "Python         1           6       8"
      ]
     },
     "execution_count": 37,
     "metadata": {},
     "output_type": "execute_result"
    }
   ],
   "source": [
    "print('Accuracy: {:.2%}'.format(accuracy_score(test.actual, test.predicted)))\n",
    "print('---')\n",
    "print('Confusion Matrix of the test set')\n",
    "pd.crosstab(test.predicted, test.actual)"
   ]
  },
  {
   "cell_type": "code",
   "execution_count": 38,
   "metadata": {},
   "outputs": [
    {
     "name": "stdout",
     "output_type": "stream",
     "text": [
      "Confusion Matrix of the test set\n"
     ]
    },
    {
     "data": {
      "text/html": [
       "<div>\n",
       "<style scoped>\n",
       "    .dataframe tbody tr th:only-of-type {\n",
       "        vertical-align: middle;\n",
       "    }\n",
       "\n",
       "    .dataframe tbody tr th {\n",
       "        vertical-align: top;\n",
       "    }\n",
       "\n",
       "    .dataframe thead th {\n",
       "        text-align: right;\n",
       "    }\n",
       "</style>\n",
       "<table border=\"1\" class=\"dataframe\">\n",
       "  <thead>\n",
       "    <tr style=\"text-align: right;\">\n",
       "      <th></th>\n",
       "      <th>Java</th>\n",
       "      <th>JavaScript</th>\n",
       "      <th>Python</th>\n",
       "      <th>accuracy</th>\n",
       "      <th>macro avg</th>\n",
       "      <th>weighted avg</th>\n",
       "    </tr>\n",
       "  </thead>\n",
       "  <tbody>\n",
       "    <tr>\n",
       "      <th>f1-score</th>\n",
       "      <td>0.60</td>\n",
       "      <td>0.78</td>\n",
       "      <td>0.62</td>\n",
       "      <td>0.71</td>\n",
       "      <td>0.66</td>\n",
       "      <td>0.71</td>\n",
       "    </tr>\n",
       "    <tr>\n",
       "      <th>precision</th>\n",
       "      <td>1.00</td>\n",
       "      <td>0.78</td>\n",
       "      <td>0.53</td>\n",
       "      <td>0.71</td>\n",
       "      <td>0.77</td>\n",
       "      <td>0.75</td>\n",
       "    </tr>\n",
       "    <tr>\n",
       "      <th>recall</th>\n",
       "      <td>0.43</td>\n",
       "      <td>0.78</td>\n",
       "      <td>0.73</td>\n",
       "      <td>0.71</td>\n",
       "      <td>0.64</td>\n",
       "      <td>0.71</td>\n",
       "    </tr>\n",
       "    <tr>\n",
       "      <th>support</th>\n",
       "      <td>7.00</td>\n",
       "      <td>27.00</td>\n",
       "      <td>11.00</td>\n",
       "      <td>0.71</td>\n",
       "      <td>45.00</td>\n",
       "      <td>45.00</td>\n",
       "    </tr>\n",
       "  </tbody>\n",
       "</table>\n",
       "</div>"
      ],
      "text/plain": [
       "           Java  JavaScript  Python  accuracy  macro avg  weighted avg\n",
       "f1-score   0.60        0.78    0.62      0.71       0.66          0.71\n",
       "precision  1.00        0.78    0.53      0.71       0.77          0.75\n",
       "recall     0.43        0.78    0.73      0.71       0.64          0.71\n",
       "support    7.00       27.00   11.00      0.71      45.00         45.00"
      ]
     },
     "execution_count": 38,
     "metadata": {},
     "output_type": "execute_result"
    }
   ],
   "source": [
    "report =classification_report(test.actual, test.predicted, output_dict=True)\n",
    "r = pd.DataFrame(report)\n",
    "print('Confusion Matrix of the test set')\n",
    "r.round(2)"
   ]
  },
  {
   "cell_type": "markdown",
   "metadata": {},
   "source": [
    "**Compared with a single most frequent word**"
   ]
  },
  {
   "cell_type": "code",
   "execution_count": 26,
   "metadata": {},
   "outputs": [
    {
     "name": "stdout",
     "output_type": "stream",
     "text": [
      "Total number of repo used JavaScript as the major language: 136\n",
      "---\n",
      "Count of each programing language versus the total number of readme files containg the word 'react'\n",
      "JavaScript    29\n",
      "Java           3\n",
      "Name: label, dtype: int64\n",
      "---\n",
      "True ration: 0.21\n"
     ]
    }
   ],
   "source": [
    "print(f\"Total number of repo used JavaScript as the major language: {len(df[df.label == 'JavaScript'])}\")\n",
    "print(\"---\")\n",
    "print(\"Count of each programing language versus the total number of readme files containg the word 'react'\")\n",
    "print(f\"{df[df.cleaned.str.contains('react')].label.value_counts()}\")\n",
    "print(\"---\")\n",
    "print(\"True ration: {:.2f}\".format(29/ len(df[df.label == 'JavaScript'])))"
   ]
  },
  {
   "cell_type": "code",
   "execution_count": 30,
   "metadata": {},
   "outputs": [
    {
     "name": "stdout",
     "output_type": "stream",
     "text": [
      "Total number of repo used Python as the major language: 56\n",
      "---\n",
      "Count of each programing language versus the total number of readme files containg the word 'python'\n",
      "Python        31\n",
      "JavaScript     6\n",
      "Java           1\n",
      "Name: label, dtype: int64\n",
      "---\n",
      "True ration: 0.55\n"
     ]
    }
   ],
   "source": [
    "print(f\"Total number of repo used Python as the major language: {len(df[df.label == 'Python'])}\")\n",
    "print(\"---\")\n",
    "print(\"Count of each programing language versus the total number of readme files containg the word 'python'\")\n",
    "print(f\"{df[df.cleaned.str.contains('python')].label.value_counts()}\")\n",
    "print(\"---\")\n",
    "print(\"True ration: {:.2f}\".format(31/ len(df[df.label == 'Python'])))"
   ]
  },
  {
   "cell_type": "code",
   "execution_count": null,
   "metadata": {},
   "outputs": [],
   "source": []
  }
 ],
 "metadata": {
  "kernelspec": {
   "display_name": "Python 3",
   "language": "python",
   "name": "python3"
  },
  "language_info": {
   "codemirror_mode": {
    "name": "ipython",
    "version": 3
   },
   "file_extension": ".py",
   "mimetype": "text/x-python",
   "name": "python",
   "nbconvert_exporter": "python",
   "pygments_lexer": "ipython3",
   "version": "3.7.3"
  },
  "toc": {
   "base_numbering": 1,
   "nav_menu": {},
   "number_sections": false,
   "sideBar": true,
   "skip_h1_title": false,
   "title_cell": "Table of Contents",
   "title_sidebar": "Contents",
   "toc_cell": false,
   "toc_position": {},
   "toc_section_display": true,
   "toc_window_display": false
  },
  "varInspector": {
   "cols": {
    "lenName": 16,
    "lenType": 16,
    "lenVar": 40
   },
   "kernels_config": {
    "python": {
     "delete_cmd_postfix": "",
     "delete_cmd_prefix": "del ",
     "library": "var_list.py",
     "varRefreshCmd": "print(var_dic_list())"
    },
    "r": {
     "delete_cmd_postfix": ") ",
     "delete_cmd_prefix": "rm(",
     "library": "var_list.r",
     "varRefreshCmd": "cat(var_dic_list()) "
    }
   },
   "types_to_exclude": [
    "module",
    "function",
    "builtin_function_or_method",
    "instance",
    "_Feature"
   ],
   "window_display": false
  }
 },
 "nbformat": 4,
 "nbformat_minor": 2
}
