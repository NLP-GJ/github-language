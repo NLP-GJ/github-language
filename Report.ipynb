{
 "cells": [
  {
   "cell_type": "markdown",
   "metadata": {},
   "source": [
    "# Goal"
   ]
  },
  {
   "cell_type": "markdown",
   "metadata": {},
   "source": [
    "# Project Plan"
   ]
  },
  {
   "cell_type": "markdown",
   "metadata": {},
   "source": [
    "- acquire at least "
   ]
  },
  {
   "cell_type": "code",
   "execution_count": null,
   "metadata": {},
   "outputs": [],
   "source": [
    "\n",
    "\n",
    "Predict missing values from the data set using clustering\n",
    "Derive insights on \"Armstrong\", the person from whom the fitness data was generated\n",
    "Hypotheses\n",
    "There are patterns on Armstrong's daily activities.\n",
    "Armstrong's fitness activity is affected by the month/season of the year.\n",
    "Data Science Skills Used\n",
    "Data prep and cleaning\n",
    "Time Series Analysis\n",
    "Visualization\n",
    "Modeling using Parametric Methods\n",
    "Modeling using the Prophet algorithm\n",
    "Evaluation of Models"
   ]
  },
  {
   "cell_type": "markdown",
   "metadata": {},
   "source": [
    "# Data Dictionary"
   ]
  },
  {
   "cell_type": "markdown",
   "metadata": {},
   "source": [
    "## Summary of Data"
   ]
  },
  {
   "cell_type": "code",
   "execution_count": 3,
   "metadata": {},
   "outputs": [],
   "source": [
    "# imports\n",
    "import unicodedata\n",
    "import re\n",
    "import json\n",
    "\n",
    "import nltk\n",
    "from nltk.tokenize.toktok import ToktokTokenizer\n",
    "from nltk.corpus import stopwords\n",
    "\n",
    "import pandas as pd\n",
    "import numpy as np\n",
    "\n",
    "import matplotlib.pyplot as plt\n",
    "import seaborn as sns\n",
    "\n",
    "from selenium import webdriver\n",
    "from selenium.webdriver.firefox.options import Options\n",
    "import requests\n",
    "from bs4 import BeautifulSoup as bs\n",
    "import re\n",
    "import pandas as pd\n",
    "import os\n",
    "\n",
    "import prepare\n",
    "\n",
    "# matplotlib default plotting styles\n",
    "plt.rc(\"patch\", edgecolor=\"black\", force_edgecolor=True)\n",
    "plt.rc(\"axes\", grid=True)\n",
    "plt.rc(\"grid\", linestyle=\":\", linewidth=0.8, alpha=0.7)\n",
    "plt.rc(\"axes.spines\", right=False, top=False)\n",
    "plt.rc(\"figure\", figsize=(11, 8))\n",
    "plt.rc(\"font\", size=12.0)\n",
    "plt.rc(\"hist\", bins=25)\n",
    "\n",
    "#import acquire"
   ]
  },
  {
   "cell_type": "code",
   "execution_count": null,
   "metadata": {},
   "outputs": [],
   "source": [
    "def basic_clean(data):\n",
    "    data['target'] = data['readme'].apply(lambda x: x.replace('GitHub is home to over 40 million developers working together to host and review code, manage projects, and build software together.',''))\n",
    "    data.rename(columns = {'language':'label'}, inplace = True)\n",
    "    data.drop(columns = ['link', 'readme','Unnamed: 0','index'], inplace = True)\n",
    "    return data"
   ]
  },
  {
   "cell_type": "code",
   "execution_count": 200,
   "metadata": {},
   "outputs": [],
   "source": [
    "def normalize(string):\n",
    "    \"\"\"\n",
    "    Convert to all lowercase  \n",
    "    Normalize the unicode chars  \n",
    "    Remove any non-alpha or whitespace characters  \n",
    "    Remove any alpha strings with 2 characters or less  \n",
    "    \"\"\"\n",
    "    string = string.lower()\n",
    "    string = unicodedata.normalize('NFKD', string).encode('ascii', 'ignore').decode('utf-8', 'ignore')\n",
    "    \n",
    "    # keep only alpha chars\n",
    "    string = re.sub(r'[^a-z]', ' ', string)\n",
    "    \n",
    "    # remove strings less than 2 chars in length\n",
    "    string = re.sub(r'\\b[a-z]{,2}\\b', '', string)\n",
    "    \n",
    "    # convert newlines and tabs to a single space\n",
    "    string = re.sub(r'[\\r|\\n|\\r\\n]+', ' ', string)\n",
    "    \n",
    "    # strip extra whitespace\n",
    "    string = string.strip()\n",
    "    \n",
    "    return string\n",
    "\n",
    "def stem(string):\n",
    "    ps = nltk.porter.PorterStemmer()\n",
    "    stems = [ps.stem(word) for word in string.split()]\n",
    "    string_of_stems = ' '.join(stems)\n",
    "    return string_of_stems\n",
    "\n",
    "def lemmatize(string):\n",
    "    wnl = nltk.stem.WordNetLemmatizer()\n",
    "    lemmas = [wnl.lemmatize(word) for word in string.split()]\n",
    "    string_of_lemmas = ' '.join(lemmas)\n",
    "    return string_of_lemmas\n",
    "\n",
    "def tokenize(string):\n",
    "    tokenizer = nltk.tokenize.ToktokTokenizer()\n",
    "    return tokenizer.tokenize(string, return_str=True)\n",
    "\n",
    "def remove_stopwords(tokenized_string, extra_words=[], exclude_words=[]):\n",
    "    words = tokenized_string.split()\n",
    "    stopword_list = stopwords.words('english')\n",
    "\n",
    "    # remove the excluded words from the stopword list\n",
    "    stopword_list = set(stopword_list) - set(exclude_words)\n",
    "\n",
    "    # add in the user specified extra words\n",
    "    stopword_list = stopword_list.union(set(extra_words))\n",
    "\n",
    "    filtered_words = [w for w in words if w not in stopword_list]\n",
    "    final_string = \" \".join(filtered_words)\n",
    "    return final_string\n",
    "\n",
    "def prep_target(df, col):\n",
    "    #df[col] = df[col].apply(', '.join)\n",
    "    df = df.assign(original = df[col])\n",
    "    #df = df['original'].apply(', '.join)\n",
    "    df = df.assign(normalized = df.original.apply(normalize))\n",
    "    df = df.assign(stemmed = df.normalized.apply(stem))\n",
    "    df = df.assign(lemmatized = df.normalized.apply(lemmatize))\n",
    "    df = df.assign(cleaned = df.lemmatized.apply(remove_stopwords))\n",
    "    #df.drop(columns=[\"title\"], inplace=True)\n",
    "    return df"
   ]
  },
  {
   "cell_type": "code",
   "execution_count": 4,
   "metadata": {},
   "outputs": [
    {
     "data": {
      "text/html": [
       "<div>\n",
       "<style scoped>\n",
       "    .dataframe tbody tr th:only-of-type {\n",
       "        vertical-align: middle;\n",
       "    }\n",
       "\n",
       "    .dataframe tbody tr th {\n",
       "        vertical-align: top;\n",
       "    }\n",
       "\n",
       "    .dataframe thead th {\n",
       "        text-align: right;\n",
       "    }\n",
       "</style>\n",
       "<table border=\"1\" class=\"dataframe\">\n",
       "  <thead>\n",
       "    <tr style=\"text-align: right;\">\n",
       "      <th></th>\n",
       "      <th>Unnamed: 0</th>\n",
       "      <th>index</th>\n",
       "      <th>language</th>\n",
       "      <th>link</th>\n",
       "      <th>readme</th>\n",
       "    </tr>\n",
       "  </thead>\n",
       "  <tbody>\n",
       "    <tr>\n",
       "      <th>0</th>\n",
       "      <td>0</td>\n",
       "      <td>0</td>\n",
       "      <td>JavaScript</td>\n",
       "      <td>freeCodeCamp/freeCodeCamp</td>\n",
       "      <td>['GitHub is home to over 40 million developers...</td>\n",
       "    </tr>\n",
       "    <tr>\n",
       "      <th>1</th>\n",
       "      <td>1</td>\n",
       "      <td>1</td>\n",
       "      <td>Rust</td>\n",
       "      <td>996icu/996.ICU</td>\n",
       "      <td>['GitHub is home to over 40 million developers...</td>\n",
       "    </tr>\n",
       "    <tr>\n",
       "      <th>2</th>\n",
       "      <td>2</td>\n",
       "      <td>2</td>\n",
       "      <td>JavaScript</td>\n",
       "      <td>vuejs/vue</td>\n",
       "      <td>['GitHub is home to over 40 million developers...</td>\n",
       "    </tr>\n",
       "    <tr>\n",
       "      <th>3</th>\n",
       "      <td>3</td>\n",
       "      <td>3</td>\n",
       "      <td>JavaScript</td>\n",
       "      <td>facebook/react</td>\n",
       "      <td>['GitHub is home to over 40 million developers...</td>\n",
       "    </tr>\n",
       "    <tr>\n",
       "      <th>4</th>\n",
       "      <td>4</td>\n",
       "      <td>4</td>\n",
       "      <td>C++</td>\n",
       "      <td>tensorflow/tensorflow</td>\n",
       "      <td>['GitHub is home to over 40 million developers...</td>\n",
       "    </tr>\n",
       "  </tbody>\n",
       "</table>\n",
       "</div>"
      ],
      "text/plain": [
       "   Unnamed: 0  index    language                       link  \\\n",
       "0           0      0  JavaScript  freeCodeCamp/freeCodeCamp   \n",
       "1           1      1        Rust             996icu/996.ICU   \n",
       "2           2      2  JavaScript                  vuejs/vue   \n",
       "3           3      3  JavaScript             facebook/react   \n",
       "4           4      4         C++      tensorflow/tensorflow   \n",
       "\n",
       "                                              readme  \n",
       "0  ['GitHub is home to over 40 million developers...  \n",
       "1  ['GitHub is home to over 40 million developers...  \n",
       "2  ['GitHub is home to over 40 million developers...  \n",
       "3  ['GitHub is home to over 40 million developers...  \n",
       "4  ['GitHub is home to over 40 million developers...  "
      ]
     },
     "execution_count": 4,
     "metadata": {},
     "output_type": "execute_result"
    }
   ],
   "source": [
    "df = pd.read_csv('hola.csv')\n",
    "df.head()"
   ]
  },
  {
   "cell_type": "code",
   "execution_count": 5,
   "metadata": {},
   "outputs": [],
   "source": [
    "df = prepare.prep_target(df, 'target')"
   ]
  },
  {
   "cell_type": "code",
   "execution_count": 6,
   "metadata": {},
   "outputs": [
    {
     "data": {
      "text/html": [
       "<div>\n",
       "<style scoped>\n",
       "    .dataframe tbody tr th:only-of-type {\n",
       "        vertical-align: middle;\n",
       "    }\n",
       "\n",
       "    .dataframe tbody tr th {\n",
       "        vertical-align: top;\n",
       "    }\n",
       "\n",
       "    .dataframe thead th {\n",
       "        text-align: right;\n",
       "    }\n",
       "</style>\n",
       "<table border=\"1\" class=\"dataframe\">\n",
       "  <thead>\n",
       "    <tr style=\"text-align: right;\">\n",
       "      <th></th>\n",
       "      <th>label</th>\n",
       "      <th>target</th>\n",
       "      <th>original</th>\n",
       "      <th>normalized</th>\n",
       "      <th>stemmed</th>\n",
       "      <th>lemmatized</th>\n",
       "      <th>cleaned</th>\n",
       "    </tr>\n",
       "  </thead>\n",
       "  <tbody>\n",
       "    <tr>\n",
       "      <th>0</th>\n",
       "      <td>JavaScript</td>\n",
       "      <td>['', '', '\\n\\n\\n', 'freeCodeCamp.org is a frie...</td>\n",
       "      <td>['', '', '\\n\\n\\n', 'freeCodeCamp.org is a frie...</td>\n",
       "      <td>freecodecamp org   friendly community where yo...</td>\n",
       "      <td>freecodecamp org friendli commun where you can...</td>\n",
       "      <td>freecodecamp org friendly community where you ...</td>\n",
       "      <td>freecodecamp org friendly community learn code...</td>\n",
       "    </tr>\n",
       "    <tr>\n",
       "      <th>1</th>\n",
       "      <td>Rust</td>\n",
       "      <td>['', 'Please note that there exists NO other o...</td>\n",
       "      <td>['', 'Please note that there exists NO other o...</td>\n",
       "      <td>please note that there exists  other official ...</td>\n",
       "      <td>pleas note that there exist other offici accou...</td>\n",
       "      <td>please note that there exists other official a...</td>\n",
       "      <td>please note exists official account app mercha...</td>\n",
       "    </tr>\n",
       "    <tr>\n",
       "      <th>2</th>\n",
       "      <td>JavaScript</td>\n",
       "      <td>['', '', '\\n\\n\\n\\n\\n\\n\\n\\n\\n', \"Vue.js is an M...</td>\n",
       "      <td>['', '', '\\n\\n\\n\\n\\n\\n\\n\\n\\n', \"Vue.js is an M...</td>\n",
       "      <td>vue    mit licensed open source project     in...</td>\n",
       "      <td>vue mit licens open sourc project independ pro...</td>\n",
       "      <td>vue mit licensed open source project independe...</td>\n",
       "      <td>vue mit licensed open source project independe...</td>\n",
       "    </tr>\n",
       "    <tr>\n",
       "      <th>3</th>\n",
       "      <td>JavaScript</td>\n",
       "      <td>['', 'React is a JavaScript library for buildi...</td>\n",
       "      <td>['', 'React is a JavaScript library for buildi...</td>\n",
       "      <td>react   javascript library for building user i...</td>\n",
       "      <td>react javascript librari for build user interf...</td>\n",
       "      <td>react javascript library for building user int...</td>\n",
       "      <td>react javascript library building user interfa...</td>\n",
       "    </tr>\n",
       "    <tr>\n",
       "      <th>4</th>\n",
       "      <td>C++</td>\n",
       "      <td>['', 'TensorFlow is an end-to-end open source ...</td>\n",
       "      <td>['', 'TensorFlow is an end-to-end open source ...</td>\n",
       "      <td>tensorflow   end  end open source platform nfo...</td>\n",
       "      <td>tensorflow end end open sourc platform nfor ma...</td>\n",
       "      <td>tensorflow end end open source platform nfor m...</td>\n",
       "      <td>tensorflow end end open source platform nfor m...</td>\n",
       "    </tr>\n",
       "  </tbody>\n",
       "</table>\n",
       "</div>"
      ],
      "text/plain": [
       "        label                                             target  \\\n",
       "0  JavaScript  ['', '', '\\n\\n\\n', 'freeCodeCamp.org is a frie...   \n",
       "1        Rust  ['', 'Please note that there exists NO other o...   \n",
       "2  JavaScript  ['', '', '\\n\\n\\n\\n\\n\\n\\n\\n\\n', \"Vue.js is an M...   \n",
       "3  JavaScript  ['', 'React is a JavaScript library for buildi...   \n",
       "4         C++  ['', 'TensorFlow is an end-to-end open source ...   \n",
       "\n",
       "                                            original  \\\n",
       "0  ['', '', '\\n\\n\\n', 'freeCodeCamp.org is a frie...   \n",
       "1  ['', 'Please note that there exists NO other o...   \n",
       "2  ['', '', '\\n\\n\\n\\n\\n\\n\\n\\n\\n', \"Vue.js is an M...   \n",
       "3  ['', 'React is a JavaScript library for buildi...   \n",
       "4  ['', 'TensorFlow is an end-to-end open source ...   \n",
       "\n",
       "                                          normalized  \\\n",
       "0  freecodecamp org   friendly community where yo...   \n",
       "1  please note that there exists  other official ...   \n",
       "2  vue    mit licensed open source project     in...   \n",
       "3  react   javascript library for building user i...   \n",
       "4  tensorflow   end  end open source platform nfo...   \n",
       "\n",
       "                                             stemmed  \\\n",
       "0  freecodecamp org friendli commun where you can...   \n",
       "1  pleas note that there exist other offici accou...   \n",
       "2  vue mit licens open sourc project independ pro...   \n",
       "3  react javascript librari for build user interf...   \n",
       "4  tensorflow end end open sourc platform nfor ma...   \n",
       "\n",
       "                                          lemmatized  \\\n",
       "0  freecodecamp org friendly community where you ...   \n",
       "1  please note that there exists other official a...   \n",
       "2  vue mit licensed open source project independe...   \n",
       "3  react javascript library for building user int...   \n",
       "4  tensorflow end end open source platform nfor m...   \n",
       "\n",
       "                                             cleaned  \n",
       "0  freecodecamp org friendly community learn code...  \n",
       "1  please note exists official account app mercha...  \n",
       "2  vue mit licensed open source project independe...  \n",
       "3  react javascript library building user interfa...  \n",
       "4  tensorflow end end open source platform nfor m...  "
      ]
     },
     "execution_count": 6,
     "metadata": {},
     "output_type": "execute_result"
    }
   ],
   "source": [
    "df.head()"
   ]
  },
  {
   "cell_type": "code",
   "execution_count": 295,
   "metadata": {},
   "outputs": [],
   "source": []
  },
  {
   "cell_type": "code",
   "execution_count": 246,
   "metadata": {},
   "outputs": [],
   "source": [
    "def clean():\n",
    "    \"a simple function to prepare text data\"\n",
    "    wnl = nltk.stem.WordNetLemmatizer()\n",
    "    stopwords = nltk.corpus.stopwords.words(\"english\") + [\"r\", \"u\", \"2\", \"ltgt\"]\n",
    "    text = (\n",
    "        unicodedata.normalize(\"NFKD\", text)\n",
    "        .encode(\"ascii\", \"ignore\")\n",
    "        .decode(\"utf-8\", \"ignore\")\n",
    "        .lower()\n",
    "    )\n",
    "    words = re.sub(r\"[^\\w\\s]\", \"\", text).split()\n",
    "    return [wnl.lemmatize(word) for word in words if word not in stopwords]"
   ]
  },
  {
   "cell_type": "code",
   "execution_count": 304,
   "metadata": {},
   "outputs": [
    {
     "name": "stdout",
     "output_type": "stream",
     "text": [
      "<class 'pandas.core.frame.DataFrame'>\n",
      "RangeIndex: 165 entries, 0 to 164\n",
      "Data columns (total 7 columns):\n",
      "label         165 non-null object\n",
      "target        165 non-null object\n",
      "original      165 non-null object\n",
      "normalized    165 non-null object\n",
      "stemmed       165 non-null object\n",
      "lemmatized    165 non-null object\n",
      "cleaned       165 non-null object\n",
      "dtypes: object(7)\n",
      "memory usage: 9.1+ KB\n"
     ]
    }
   ],
   "source": [
    "#cleaned_df.info()"
   ]
  },
  {
   "cell_type": "code",
   "execution_count": 7,
   "metadata": {},
   "outputs": [
    {
     "data": {
      "text/html": [
       "<div>\n",
       "<style scoped>\n",
       "    .dataframe tbody tr th:only-of-type {\n",
       "        vertical-align: middle;\n",
       "    }\n",
       "\n",
       "    .dataframe tbody tr th {\n",
       "        vertical-align: top;\n",
       "    }\n",
       "\n",
       "    .dataframe thead th {\n",
       "        text-align: right;\n",
       "    }\n",
       "</style>\n",
       "<table border=\"1\" class=\"dataframe\">\n",
       "  <thead>\n",
       "    <tr style=\"text-align: right;\">\n",
       "      <th></th>\n",
       "      <th>n</th>\n",
       "      <th>percent</th>\n",
       "    </tr>\n",
       "  </thead>\n",
       "  <tbody>\n",
       "    <tr>\n",
       "      <th>JavaScript</th>\n",
       "      <td>61</td>\n",
       "      <td>0.369697</td>\n",
       "    </tr>\n",
       "    <tr>\n",
       "      <th>Python</th>\n",
       "      <td>21</td>\n",
       "      <td>0.127273</td>\n",
       "    </tr>\n",
       "    <tr>\n",
       "      <th>Java</th>\n",
       "      <td>15</td>\n",
       "      <td>0.090909</td>\n",
       "    </tr>\n",
       "    <tr>\n",
       "      <th>C++</th>\n",
       "      <td>14</td>\n",
       "      <td>0.084848</td>\n",
       "    </tr>\n",
       "    <tr>\n",
       "      <th>Go</th>\n",
       "      <td>9</td>\n",
       "      <td>0.054545</td>\n",
       "    </tr>\n",
       "    <tr>\n",
       "      <th>TypeScript</th>\n",
       "      <td>9</td>\n",
       "      <td>0.054545</td>\n",
       "    </tr>\n",
       "    <tr>\n",
       "      <th>C</th>\n",
       "      <td>4</td>\n",
       "      <td>0.024242</td>\n",
       "    </tr>\n",
       "    <tr>\n",
       "      <th>Rust</th>\n",
       "      <td>3</td>\n",
       "      <td>0.018182</td>\n",
       "    </tr>\n",
       "    <tr>\n",
       "      <th>Vue</th>\n",
       "      <td>3</td>\n",
       "      <td>0.018182</td>\n",
       "    </tr>\n",
       "    <tr>\n",
       "      <th>Shell</th>\n",
       "      <td>3</td>\n",
       "      <td>0.018182</td>\n",
       "    </tr>\n",
       "    <tr>\n",
       "      <th>Ruby</th>\n",
       "      <td>3</td>\n",
       "      <td>0.018182</td>\n",
       "    </tr>\n",
       "    <tr>\n",
       "      <th>Jupyter Notebook</th>\n",
       "      <td>3</td>\n",
       "      <td>0.018182</td>\n",
       "    </tr>\n",
       "    <tr>\n",
       "      <th>PHP</th>\n",
       "      <td>2</td>\n",
       "      <td>0.012121</td>\n",
       "    </tr>\n",
       "    <tr>\n",
       "      <th>Swift</th>\n",
       "      <td>2</td>\n",
       "      <td>0.012121</td>\n",
       "    </tr>\n",
       "    <tr>\n",
       "      <th>Kotlin</th>\n",
       "      <td>2</td>\n",
       "      <td>0.012121</td>\n",
       "    </tr>\n",
       "    <tr>\n",
       "      <th>HTML</th>\n",
       "      <td>2</td>\n",
       "      <td>0.012121</td>\n",
       "    </tr>\n",
       "    <tr>\n",
       "      <th>CSS</th>\n",
       "      <td>2</td>\n",
       "      <td>0.012121</td>\n",
       "    </tr>\n",
       "    <tr>\n",
       "      <th>Objective-C</th>\n",
       "      <td>1</td>\n",
       "      <td>0.006061</td>\n",
       "    </tr>\n",
       "    <tr>\n",
       "      <th>C#</th>\n",
       "      <td>1</td>\n",
       "      <td>0.006061</td>\n",
       "    </tr>\n",
       "    <tr>\n",
       "      <th>Dart</th>\n",
       "      <td>1</td>\n",
       "      <td>0.006061</td>\n",
       "    </tr>\n",
       "    <tr>\n",
       "      <th>Clojure</th>\n",
       "      <td>1</td>\n",
       "      <td>0.006061</td>\n",
       "    </tr>\n",
       "    <tr>\n",
       "      <th>Assembly</th>\n",
       "      <td>1</td>\n",
       "      <td>0.006061</td>\n",
       "    </tr>\n",
       "    <tr>\n",
       "      <th>Vim script</th>\n",
       "      <td>1</td>\n",
       "      <td>0.006061</td>\n",
       "    </tr>\n",
       "    <tr>\n",
       "      <th>Dockerfile</th>\n",
       "      <td>1</td>\n",
       "      <td>0.006061</td>\n",
       "    </tr>\n",
       "  </tbody>\n",
       "</table>\n",
       "</div>"
      ],
      "text/plain": [
       "                   n   percent\n",
       "JavaScript        61  0.369697\n",
       "Python            21  0.127273\n",
       "Java              15  0.090909\n",
       "C++               14  0.084848\n",
       "Go                 9  0.054545\n",
       "TypeScript         9  0.054545\n",
       "C                  4  0.024242\n",
       "Rust               3  0.018182\n",
       "Vue                3  0.018182\n",
       "Shell              3  0.018182\n",
       "Ruby               3  0.018182\n",
       "Jupyter Notebook   3  0.018182\n",
       "PHP                2  0.012121\n",
       "Swift              2  0.012121\n",
       "Kotlin             2  0.012121\n",
       "HTML               2  0.012121\n",
       "CSS                2  0.012121\n",
       "Objective-C        1  0.006061\n",
       "C#                 1  0.006061\n",
       "Dart               1  0.006061\n",
       "Clojure            1  0.006061\n",
       "Assembly           1  0.006061\n",
       "Vim script         1  0.006061\n",
       "Dockerfile         1  0.006061"
      ]
     },
     "execution_count": 7,
     "metadata": {},
     "output_type": "execute_result"
    }
   ],
   "source": [
    "pd.concat(\n",
    "    [df.label.value_counts(), df.label.value_counts(normalize=True)], axis=1\n",
    ").set_axis([\"n\", \"percent\"], axis=1, inplace=False)"
   ]
  },
  {
   "cell_type": "code",
   "execution_count": 10,
   "metadata": {},
   "outputs": [
    {
     "data": {
      "text/plain": [
       "Text(0.5, 1.0, 'Most frequently used programing languages')"
      ]
     },
     "execution_count": 10,
     "metadata": {},
     "output_type": "execute_result"
    },
    {
     "data": {
      "image/png": "[encoded data removed]",
      "text/plain": [
       "<Figure size 576x432 with 1 Axes>"
      ]
     },
     "metadata": {
      "needs_background": "light"
     },
     "output_type": "display_data"
    }
   ],
   "source": [
    "df.label.value_counts().plot.barh(figsize=(8, 6),width = .95)\n",
    "plt.title('Most frequently used programing languages')"
   ]
  },
  {
   "cell_type": "markdown",
   "metadata": {},
   "source": [
    "**Question** Is there any particular sentiment with particular language?"
   ]
  },
  {
   "cell_type": "code",
   "execution_count": 255,
   "metadata": {},
   "outputs": [],
   "source": [
    "string_readme = \" \".join(cleaned_df.cleaned) # turn into string for prep\n",
    "readme = [string_readme]"
   ]
  },
  {
   "cell_type": "code",
   "execution_count": 282,
   "metadata": {},
   "outputs": [],
   "source": [
    "cleaned_df = cleaned_df[['label','cleaned']].set_index('label')"
   ]
  },
  {
   "cell_type": "code",
   "execution_count": 283,
   "metadata": {},
   "outputs": [],
   "source": [
    "documents = cleaned_df.to_dict()"
   ]
  },
  {
   "cell_type": "code",
   "execution_count": 286,
   "metadata": {},
   "outputs": [],
   "source": [
    "cleaned_list = [cleaned_df.cleaned]"
   ]
  },
  {
   "cell_type": "code",
   "execution_count": 13,
   "metadata": {},
   "outputs": [],
   "source": [
    "df = df[['label','cleaned']]"
   ]
  },
  {
   "cell_type": "code",
   "execution_count": 39,
   "metadata": {},
   "outputs": [],
   "source": [
    "from sklearn.model_selection import train_test_split\n",
    "\n",
    "from sklearn.linear_model import LogisticRegression\n",
    "from sklearn.metrics import classification_report, accuracy_score\n",
    "from sklearn.feature_extraction.text import TfidfVectorizer\n",
    "\n",
    "tfidf = TfidfVectorizer()\n",
    "X = tfidf.fit_transform(df.cleaned)\n",
    "y = df.label"
   ]
  },
  {
   "cell_type": "code",
   "execution_count": 37,
   "metadata": {},
   "outputs": [],
   "source": [
    "df = df.groupby('label').filter(lambda x : len(x)>1)"
   ]
  },
  {
   "cell_type": "code",
   "execution_count": 46,
   "metadata": {},
   "outputs": [],
   "source": [
    "df = df.groupby('label').filter(lambda x : len(x)>13)"
   ]
  },
  {
   "cell_type": "code",
   "execution_count": 47,
   "metadata": {},
   "outputs": [],
   "source": [
    "X_train, X_test, y_train, y_test = train_test_split(X, y, stratify=y, test_size=.2)"
   ]
  },
  {
   "cell_type": "code",
   "execution_count": 48,
   "metadata": {},
   "outputs": [
    {
     "name": "stderr",
     "output_type": "stream",
     "text": [
      "/usr/local/anaconda3/lib/python3.7/site-packages/sklearn/linear_model/logistic.py:432: FutureWarning: Default solver will be changed to 'lbfgs' in 0.22. Specify a solver to silence this warning.\n",
      "  FutureWarning)\n",
      "/usr/local/anaconda3/lib/python3.7/site-packages/sklearn/linear_model/logistic.py:469: FutureWarning: Default multi_class will be changed to 'auto' in 0.22. Specify the multi_class option to silence this warning.\n",
      "  \"this warning.\", FutureWarning)\n"
     ]
    }
   ],
   "source": [
    "train = pd.DataFrame(dict(actual=y_train))\n",
    "test = pd.DataFrame(dict(actual=y_test))\n",
    "\n",
    "lm = LogisticRegression().fit(X_train, y_train)"
   ]
  },
  {
   "cell_type": "code",
   "execution_count": 49,
   "metadata": {},
   "outputs": [],
   "source": [
    "train['predicted'] = lm.predict(X_train)\n",
    "test['predicted'] = lm.predict(X_test)"
   ]
  },
  {
   "cell_type": "code",
   "execution_count": 50,
   "metadata": {},
   "outputs": [
    {
     "name": "stdout",
     "output_type": "stream",
     "text": [
      "Accuracy: 42.86%\n",
      "---\n",
      "Confusion Matrix\n",
      "actual      C  C++  CSS  Go  HTML  Java  JavaScript  Jupyter Notebook  Kotlin  \\\n",
      "predicted                                                                       \n",
      "JavaScript  2   11    2   7     2     8          47                 2       1   \n",
      "Python      1    0    0   0     0     4           2                 0       1   \n",
      "\n",
      "actual      PHP  Python  Ruby  Rust  Shell  Swift  TypeScript  Vue  \n",
      "predicted                                                           \n",
      "JavaScript    2      10     2     2      2      2           7    2  \n",
      "Python        0       7     0     0      0      0           0    0  \n",
      "---\n",
      "                  precision    recall  f1-score   support\n",
      "\n",
      "               C       0.00      0.00      0.00         3\n",
      "             C++       0.00      0.00      0.00        11\n",
      "             CSS       0.00      0.00      0.00         2\n",
      "              Go       0.00      0.00      0.00         7\n",
      "            HTML       0.00      0.00      0.00         2\n",
      "            Java       0.00      0.00      0.00        12\n",
      "      JavaScript       0.42      0.96      0.59        49\n",
      "Jupyter Notebook       0.00      0.00      0.00         2\n",
      "          Kotlin       0.00      0.00      0.00         2\n",
      "             PHP       0.00      0.00      0.00         2\n",
      "          Python       0.47      0.41      0.44        17\n",
      "            Ruby       0.00      0.00      0.00         2\n",
      "            Rust       0.00      0.00      0.00         2\n",
      "           Shell       0.00      0.00      0.00         2\n",
      "           Swift       0.00      0.00      0.00         2\n",
      "      TypeScript       0.00      0.00      0.00         7\n",
      "             Vue       0.00      0.00      0.00         2\n",
      "\n",
      "        accuracy                           0.43       126\n",
      "       macro avg       0.05      0.08      0.06       126\n",
      "    weighted avg       0.23      0.43      0.29       126\n",
      "\n"
     ]
    },
    {
     "name": "stderr",
     "output_type": "stream",
     "text": [
      "/usr/local/anaconda3/lib/python3.7/site-packages/sklearn/metrics/classification.py:1437: UndefinedMetricWarning: Precision and F-score are ill-defined and being set to 0.0 in labels with no predicted samples.\n",
      "  'precision', 'predicted', average, warn_for)\n"
     ]
    }
   ],
   "source": [
    "print('Accuracy: {:.2%}'.format(accuracy_score(train.actual, train.predicted)))\n",
    "print('---')\n",
    "print('Confusion Matrix')\n",
    "print(pd.crosstab(train.predicted, train.actual))\n",
    "print('---')\n",
    "print(classification_report(train.actual, train.predicted))"
   ]
  },
  {
   "cell_type": "code",
   "execution_count": 51,
   "metadata": {},
   "outputs": [
    {
     "name": "stdout",
     "output_type": "stream",
     "text": [
      "Accuracy: 31.25%\n",
      "---\n",
      "Confusion Matrix\n",
      "actual      C  C++  Go  Java  JavaScript  Jupyter Notebook  Python  Ruby  \\\n",
      "predicted                                                                  \n",
      "JavaScript  0    3   2     3          10                 1       4     0   \n",
      "Python      1    0   0     0           2                 0       0     1   \n",
      "\n",
      "actual      Rust  Shell  TypeScript  Vue  \n",
      "predicted                                 \n",
      "JavaScript     1      1           2    1  \n",
      "Python         0      0           0    0  \n",
      "---\n",
      "                  precision    recall  f1-score   support\n",
      "\n",
      "               C       0.00      0.00      0.00         1\n",
      "             C++       0.00      0.00      0.00         3\n",
      "              Go       0.00      0.00      0.00         2\n",
      "            Java       0.00      0.00      0.00         3\n",
      "      JavaScript       0.36      0.83      0.50        12\n",
      "Jupyter Notebook       0.00      0.00      0.00         1\n",
      "          Python       0.00      0.00      0.00         4\n",
      "            Ruby       0.00      0.00      0.00         1\n",
      "            Rust       0.00      0.00      0.00         1\n",
      "           Shell       0.00      0.00      0.00         1\n",
      "      TypeScript       0.00      0.00      0.00         2\n",
      "             Vue       0.00      0.00      0.00         1\n",
      "\n",
      "        accuracy                           0.31        32\n",
      "       macro avg       0.03      0.07      0.04        32\n",
      "    weighted avg       0.13      0.31      0.19        32\n",
      "\n"
     ]
    }
   ],
   "source": [
    "print('Accuracy: {:.2%}'.format(accuracy_score(test.actual, test.predicted)))\n",
    "print('---')\n",
    "print('Confusion Matrix')\n",
    "print(pd.crosstab(test.predicted, test.actual))\n",
    "print('---')\n",
    "print(classification_report(test.actual, test.predicted))"
   ]
  },
  {
   "cell_type": "code",
   "execution_count": null,
   "metadata": {},
   "outputs": [],
   "source": []
  }
 ],
 "metadata": {
  "kernelspec": {
   "display_name": "Python 3",
   "language": "python",
   "name": "python3"
  },
  "language_info": {
   "codemirror_mode": {
    "name": "ipython",
    "version": 3
   },
   "file_extension": ".py",
   "mimetype": "text/x-python",
   "name": "python",
   "nbconvert_exporter": "python",
   "pygments_lexer": "ipython3",
   "version": "3.7.3"
  },
  "toc": {
   "base_numbering": 1,
   "nav_menu": {},
   "number_sections": true,
   "sideBar": true,
   "skip_h1_title": false,
   "title_cell": "Table of Contents",
   "title_sidebar": "Contents",
   "toc_cell": false,
   "toc_position": {},
   "toc_section_display": true,
   "toc_window_display": false
  },
  "varInspector": {
   "cols": {
    "lenName": 16,
    "lenType": 16,
    "lenVar": 40
   },
   "kernels_config": {
    "python": {
     "delete_cmd_postfix": "",
     "delete_cmd_prefix": "del ",
     "library": "var_list.py",
     "varRefreshCmd": "print(var_dic_list())"
    },
    "r": {
     "delete_cmd_postfix": ") ",
     "delete_cmd_prefix": "rm(",
     "library": "var_list.r",
     "varRefreshCmd": "cat(var_dic_list()) "
    }
   },
   "types_to_exclude": [
    "module",
    "function",
    "builtin_function_or_method",
    "instance",
    "_Feature"
   ],
   "window_display": false
  }
 },
 "nbformat": 4,
 "nbformat_minor": 2
}
